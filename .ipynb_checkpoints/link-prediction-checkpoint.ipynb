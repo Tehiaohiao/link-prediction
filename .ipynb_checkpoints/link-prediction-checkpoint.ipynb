{
 "cells": [
  {
   "cell_type": "markdown",
   "metadata": {},
   "source": [
    "# CSE416 - Final Project: Link Prediction\n",
    "\n",
    "name: Angelica Tao Zhu, Yue Lin"
   ]
  },
  {
   "cell_type": "code",
   "execution_count": 1,
   "metadata": {},
   "outputs": [],
   "source": [
    "import networkx as nx\n",
    "import numpy as np\n",
    "\n",
    "# load General Relativity and Quantum Cosmology collaboration network from text file\n",
    "collaboration_network = nx.Graph()\n",
    "with open(\"dataset/ca-GrQc.txt\", \"r\") as fp:\n",
    "    line = fp.readline()\n",
    "    # skip comments\n",
    "    while line[0] == '#':\n",
    "        line = fp.readline()\n",
    "        \n",
    "    while line:\n",
    "        edge = line.split()\n",
    "        collaboration_network.add_edge(edge[0], edge[1])\n",
    "        line = fp.readline()\n",
    "\n",
    "# load facebook ego network\n",
    "facebook_ego = nx.Graph()\n",
    "with open(\"dataset/facebook_combined.txt\", \"r\") as fp:\n",
    "    line = fp.readline()\n",
    "        \n",
    "    while line:\n",
    "        edge = line.split()\n",
    "        facebook_ego.add_edge(edge[0], edge[1])\n",
    "        line = fp.readline()\n",
    "        \n",
    "# load email-Eu-core temporal network\n",
    "email_eu = nx.Graph()\n",
    "with open(\"dataset/email-Eu-core-temporal.txt\", \"r\") as fp:\n",
    "    line = fp.readline()\n",
    "    while line:\n",
    "        edge = line.split()\n",
    "        email_eu.add_edge(edge[0], edge[1])\n",
    "        line = fp.readline()"
   ]
  },
  {
   "cell_type": "code",
   "execution_count": 25,
   "metadata": {},
   "outputs": [],
   "source": [
    "def loadGraph(fileName):\n",
    "    g = nx.Graph()\n",
    "    with open(\"dataset/\" + fileName + \".txt\", \"r\") as fp:\n",
    "        line = fp.readline()\n",
    "        \n",
    "        # skip comments\n",
    "        while line[0] == '#':\n",
    "            line = fp.readline()\n",
    "            \n",
    "        while line:\n",
    "            edge = line.split()\n",
    "            g.add_edge(edge[0], edge[1])\n",
    "            line = fp.readline()\n",
    "    return g"
   ]
  },
  {
   "cell_type": "code",
   "execution_count": 23,
   "metadata": {},
   "outputs": [],
   "source": [
    "def splitFile(fileName, percentage):\n",
    "    filePath = 'dataset/' + fileName + '.txt'\n",
    "    num_lines = sum(1 for line in open(filePath))\n",
    "    num_train_lines = int(num_lines * percentage)\n",
    "    with open(filePath) as fp:\n",
    "        count = 1\n",
    "        line = fp.readline()\n",
    "        \n",
    "        trainf = open('dataset/' + fileName + '_train.txt', \"a\")\n",
    "        while count < num_train_lines:\n",
    "            trainf.write(line)\n",
    "            line = fp.readline()\n",
    "            count += 1\n",
    "        \n",
    "        testf = open('dataset/' + fileName + '_test.txt', \"a\")\n",
    "        while line:\n",
    "            testf.write(line)\n",
    "            line = fp.readline()"
   ]
  },
  {
   "cell_type": "code",
   "execution_count": 64,
   "metadata": {},
   "outputs": [],
   "source": [
    "def _apply_prediction(G, func, ebunch=None):\n",
    "    \"\"\"Applies the given function to each edge in the specified iterable\n",
    "    of edges.\n",
    "\n",
    "    `G` is an instance of :class:`networkx.Graph`.\n",
    "\n",
    "    `func` is a function on two inputs, each of which is a node in the\n",
    "    graph. The function can return anything, but it should return a\n",
    "    value representing a prediction of the likelihood of a \"link\"\n",
    "    joining the two nodes.\n",
    "\n",
    "    `ebunch` is an iterable of pairs of nodes. If not specified, all\n",
    "    non-edges in the graph `G` will be used.\n",
    "\n",
    "    \"\"\"\n",
    "    if ebunch is None:\n",
    "        ebunch = nx.non_edges(G)\n",
    "    return ((u, v, func(u, v)) for u, v in ebunch)"
   ]
  },
  {
   "cell_type": "code",
   "execution_count": 65,
   "metadata": {},
   "outputs": [],
   "source": [
    "def jaccard_coefficient(G, ebunch=None):\n",
    "    \"\"\"Compute the Jaccard coefficient of all node pairs in ebunch.\n",
    "\n",
    "    Jaccard coefficient of nodes `u` and `v` is defined as\n",
    "\n",
    "    .. math::\n",
    "\n",
    "        \\frac{|\\Gamma(u) \\cap \\Gamma(v)|}{|\\Gamma(u) \\cup \\Gamma(v)|}\n",
    "\n",
    "    where $\\Gamma(u)$ denotes the set of neighbors of $u$.\n",
    "\n",
    "    Parameters\n",
    "    ----------\n",
    "    G : graph\n",
    "        A NetworkX undirected graph.\n",
    "\n",
    "    ebunch : iterable of node pairs, optional (default = None)\n",
    "        Jaccard coefficient will be computed for each pair of nodes\n",
    "        given in the iterable. The pairs must be given as 2-tuples\n",
    "        (u, v) where u and v are nodes in the graph. If ebunch is None\n",
    "        then all non-existent edges in the graph will be used.\n",
    "        Default value: None.\n",
    "\n",
    "    Returns\n",
    "    -------\n",
    "    piter : iterator\n",
    "        An iterator of 3-tuples in the form (u, v, p) where (u, v) is a\n",
    "        pair of nodes and p is their Jaccard coefficient.\n",
    "\n",
    "    Examples\n",
    "    --------\n",
    "    >>> import networkx as nx\n",
    "    >>> G = nx.complete_graph(5)\n",
    "    >>> preds = nx.jaccard_coefficient(G, [(0, 1), (2, 3)])\n",
    "    >>> for u, v, p in preds:\n",
    "    ...     '(%d, %d) -> %.8f' % (u, v, p)\n",
    "    ...\n",
    "    '(0, 1) -> 0.60000000'\n",
    "    '(2, 3) -> 0.60000000'\n",
    "\n",
    "    References\n",
    "    ----------\n",
    "    .. [1] D. Liben-Nowell, J. Kleinberg.\n",
    "           The Link Prediction Problem for Social Networks (2004).\n",
    "           http://www.cs.cornell.edu/home/kleinber/link-pred.pdf\n",
    "    \"\"\"\n",
    "    def predict(u, v):\n",
    "        union_size = len(set(G[u]) | set(G[v]))\n",
    "        if union_size == 0:\n",
    "            return 0\n",
    "        return len(list(nx.common_neighbors(G, u, v))) / union_size\n",
    "    return _apply_prediction(G, predict, ebunch)"
   ]
  },
  {
   "cell_type": "code",
   "execution_count": 78,
   "metadata": {},
   "outputs": [],
   "source": [
    "def sorensen_index(G, ebunch=None):\n",
    "    \"\"\"Compute the Sorensen Index of all node pairs in ebunch.\n",
    "\n",
    "    Sorensen Index of nodes `u` and `v` is defined as\n",
    "\n",
    "    .. math::\n",
    "\n",
    "        \\frac{|\\Gamma(u) \\cap \\Gamma(v)|}{|\\Gamma(u)| + |\\Gamma(v)|}\n",
    "\n",
    "    where $\\Gamma(u)$ denotes the set of neighbors of $u$.\n",
    "\n",
    "    Parameters\n",
    "    ----------\n",
    "    G : graph\n",
    "        A NetworkX undirected graph.\n",
    "\n",
    "    ebunch : iterable of node pairs, optional (default = None)\n",
    "        Jaccard coefficient will be computed for each pair of nodes\n",
    "        given in the iterable. The pairs must be given as 2-tuples\n",
    "        (u, v) where u and v are nodes in the graph. If ebunch is None\n",
    "        then all non-existent edges in the graph will be used.\n",
    "        Default value: None.\n",
    "\n",
    "    Returns\n",
    "    -------\n",
    "    piter : iterator\n",
    "        An iterator of 3-tuples in the form (u, v, p) where (u, v) is a\n",
    "        pair of nodes and p is their Jaccard coefficient.\n",
    "    \"\"\"\n",
    "    def predict(u, v):\n",
    "        union_size = len(set(G[u])) + len(set(G[v]))\n",
    "        if union_size == 0:\n",
    "            return 0\n",
    "        return len(list(nx.common_neighbors(G, u, v))) / union_size\n",
    "    return _apply_prediction(G, predict, ebunch)"
   ]
  },
  {
   "cell_type": "code",
   "execution_count": 82,
   "metadata": {},
   "outputs": [],
   "source": [
    "def salton_cosine_similarity(G, ebunch=None):\n",
    "    \"\"\"Compute the Salton Cosine Similarity of all node pairs in ebunch.\n",
    "\n",
    "    Salton Cosine Similarity of nodes `u` and `v` is defined as\n",
    "\n",
    "    .. math::\n",
    "\n",
    "        \\frac{|\\Gamma(u) \\cap \\Gamma(v)|}{\\sqrt{|\\Gamma(u)| \\times |\\Gamma(v)|}}\n",
    "\n",
    "    where $\\Gamma(u)$ denotes the set of neighbors of $u$.\n",
    "\n",
    "    Parameters\n",
    "    ----------\n",
    "    G : graph\n",
    "        A NetworkX undirected graph.\n",
    "\n",
    "    ebunch : iterable of node pairs, optional (default = None)\n",
    "        Jaccard coefficient will be computed for each pair of nodes\n",
    "        given in the iterable. The pairs must be given as 2-tuples\n",
    "        (u, v) where u and v are nodes in the graph. If ebunch is None\n",
    "        then all non-existent edges in the graph will be used.\n",
    "        Default value: None.\n",
    "\n",
    "    Returns\n",
    "    -------\n",
    "    piter : iterator\n",
    "        An iterator of 3-tuples in the form (u, v, p) where (u, v) is a\n",
    "        pair of nodes and p is their Jaccard coefficient.\n",
    "    \"\"\"\n",
    "    def predict(u, v):\n",
    "        import math\n",
    "        union_size = math.sqrt(len(set(G[u])) * len(set(G[v])))\n",
    "        if union_size == 0:\n",
    "            return 0\n",
    "        return len(list(nx.common_neighbors(G, u, v))) / union_size\n",
    "    return _apply_prediction(G, predict, ebunch)"
   ]
  },
  {
   "cell_type": "code",
   "execution_count": 85,
   "metadata": {},
   "outputs": [],
   "source": [
    "def preferential_attachment(G, ebunch=None):\n",
    "    \"\"\"Compute the Preferential Attachment of all node pairs in ebunch.\n",
    "\n",
    "    Preferential Attachment of nodes `u` and `v` is defined as\n",
    "\n",
    "    .. math::\n",
    "\n",
    "        \\frac{|\\Gamma(u) \\cap \\Gamma(v)|}{\\sqrt{|\\Gamma(u)| \\times |\\Gamma(v)|}}\n",
    "\n",
    "    where $\\Gamma(u)$ denotes the set of neighbors of $u$.\n",
    "\n",
    "    Parameters\n",
    "    ----------\n",
    "    G : graph\n",
    "        A NetworkX undirected graph.\n",
    "\n",
    "    ebunch : iterable of node pairs, optional (default = None)\n",
    "        Jaccard coefficient will be computed for each pair of nodes\n",
    "        given in the iterable. The pairs must be given as 2-tuples\n",
    "        (u, v) where u and v are nodes in the graph. If ebunch is None\n",
    "        then all non-existent edges in the graph will be used.\n",
    "        Default value: None.\n",
    "\n",
    "    Returns\n",
    "    -------\n",
    "    piter : iterator\n",
    "        An iterator of 3-tuples in the form (u, v, p) where (u, v) is a\n",
    "        pair of nodes and p is their Jaccard coefficient.\n",
    "    \"\"\"\n",
    "    def predict(u, v):\n",
    "        return len(set(G[u])) * len(set(G[v]))\n",
    "    return _apply_prediction(G, predict, ebunch)"
   ]
  },
  {
   "cell_type": "code",
   "execution_count": 93,
   "metadata": {},
   "outputs": [],
   "source": [
    "def rank(pred, k):\n",
    "    \"\"\"\n",
    "    Parameters\n",
    "    ----------\n",
    "    pred : An iterator of 3-tuples in the form (u, v, p) where (u, v) is a\n",
    "        pair of nodes and p is their Jaccard coefficient.\n",
    "\n",
    "    k : keep top k element based p\n",
    "\n",
    "    Returns\n",
    "    -------\n",
    "    top k list\n",
    "    \"\"\"\n",
    "    l = [(u, v, p) for u, v, p in pred]\n",
    "    \n",
    "    sorted_l = sorted(l, key=lambda x: x[2], reverse=True)\n",
    "    return sorted_l[0:k]"
   ]
  },
  {
   "cell_type": "code",
   "execution_count": 24,
   "metadata": {},
   "outputs": [],
   "source": [
    "splitFile('email-Eu-core-temporal', 0.8)"
   ]
  },
  {
   "cell_type": "code",
   "execution_count": 26,
   "metadata": {},
   "outputs": [],
   "source": [
    "email_train_g = loadGraph('email-Eu-core-temporal_train')"
   ]
  },
  {
   "cell_type": "code",
   "execution_count": 99,
   "metadata": {},
   "outputs": [
    {
     "ename": "NetworkXAlgorithmError",
     "evalue": "No community information",
     "output_type": "error",
     "traceback": [
      "\u001b[0;31m---------------------------------------------------------------------------\u001b[0m",
      "\u001b[0;31mKeyError\u001b[0m                                  Traceback (most recent call last)",
      "\u001b[0;32m<ipython-input-98-fb2bfe660a08>\u001b[0m in \u001b[0;36m_community\u001b[0;34m(G, u, community)\u001b[0m\n\u001b[1;32m     73\u001b[0m     \u001b[0;32mtry\u001b[0m\u001b[0;34m:\u001b[0m\u001b[0;34m\u001b[0m\u001b[0m\n\u001b[0;32m---> 74\u001b[0;31m         \u001b[0;32mreturn\u001b[0m \u001b[0mnode_u\u001b[0m\u001b[0;34m[\u001b[0m\u001b[0mcommunity\u001b[0m\u001b[0;34m]\u001b[0m\u001b[0;34m\u001b[0m\u001b[0m\n\u001b[0m\u001b[1;32m     75\u001b[0m     \u001b[0;32mexcept\u001b[0m \u001b[0mKeyError\u001b[0m\u001b[0;34m:\u001b[0m\u001b[0;34m\u001b[0m\u001b[0m\n",
      "\u001b[0;31mKeyError\u001b[0m: 'community'",
      "\nDuring handling of the above exception, another exception occurred:\n",
      "\u001b[0;31mNetworkXAlgorithmError\u001b[0m                    Traceback (most recent call last)",
      "\u001b[0;32m<ipython-input-99-eebaf23f7699>\u001b[0m in \u001b[0;36m<module>\u001b[0;34m\u001b[0m\n\u001b[1;32m      1\u001b[0m \u001b[0mpred\u001b[0m \u001b[0;34m=\u001b[0m \u001b[0mcn_soundarajan_hopcroft\u001b[0m\u001b[0;34m(\u001b[0m\u001b[0memail_train_g\u001b[0m\u001b[0;34m)\u001b[0m\u001b[0;34m\u001b[0m\u001b[0m\n\u001b[0;32m----> 2\u001b[0;31m \u001b[0mres\u001b[0m \u001b[0;34m=\u001b[0m \u001b[0mrank\u001b[0m\u001b[0;34m(\u001b[0m\u001b[0mpred\u001b[0m\u001b[0;34m,\u001b[0m \u001b[0;36m100\u001b[0m\u001b[0;34m)\u001b[0m\u001b[0;34m\u001b[0m\u001b[0m\n\u001b[0m\u001b[1;32m      3\u001b[0m \u001b[0mprint\u001b[0m\u001b[0;34m(\u001b[0m\u001b[0mres\u001b[0m\u001b[0;34m)\u001b[0m\u001b[0;34m\u001b[0m\u001b[0m\n",
      "\u001b[0;32m<ipython-input-93-695b3d71217f>\u001b[0m in \u001b[0;36mrank\u001b[0;34m(pred, k)\u001b[0m\n\u001b[1;32m     12\u001b[0m     \u001b[0mtop\u001b[0m \u001b[0mk\u001b[0m \u001b[0mlist\u001b[0m\u001b[0;34m\u001b[0m\u001b[0m\n\u001b[1;32m     13\u001b[0m     \"\"\"\n\u001b[0;32m---> 14\u001b[0;31m     \u001b[0ml\u001b[0m \u001b[0;34m=\u001b[0m \u001b[0;34m[\u001b[0m\u001b[0;34m(\u001b[0m\u001b[0mu\u001b[0m\u001b[0;34m,\u001b[0m \u001b[0mv\u001b[0m\u001b[0;34m,\u001b[0m \u001b[0mp\u001b[0m\u001b[0;34m)\u001b[0m \u001b[0;32mfor\u001b[0m \u001b[0mu\u001b[0m\u001b[0;34m,\u001b[0m \u001b[0mv\u001b[0m\u001b[0;34m,\u001b[0m \u001b[0mp\u001b[0m \u001b[0;32min\u001b[0m \u001b[0mpred\u001b[0m\u001b[0;34m]\u001b[0m\u001b[0;34m\u001b[0m\u001b[0m\n\u001b[0m\u001b[1;32m     15\u001b[0m \u001b[0;34m\u001b[0m\u001b[0m\n\u001b[1;32m     16\u001b[0m     \u001b[0msorted_l\u001b[0m \u001b[0;34m=\u001b[0m \u001b[0msorted\u001b[0m\u001b[0;34m(\u001b[0m\u001b[0ml\u001b[0m\u001b[0;34m,\u001b[0m \u001b[0mkey\u001b[0m\u001b[0;34m=\u001b[0m\u001b[0;32mlambda\u001b[0m \u001b[0mx\u001b[0m\u001b[0;34m:\u001b[0m \u001b[0mx\u001b[0m\u001b[0;34m[\u001b[0m\u001b[0;36m2\u001b[0m\u001b[0;34m]\u001b[0m\u001b[0;34m,\u001b[0m \u001b[0mreverse\u001b[0m\u001b[0;34m=\u001b[0m\u001b[0;32mTrue\u001b[0m\u001b[0;34m)\u001b[0m\u001b[0;34m\u001b[0m\u001b[0m\n",
      "\u001b[0;32m<ipython-input-93-695b3d71217f>\u001b[0m in \u001b[0;36m<listcomp>\u001b[0;34m(.0)\u001b[0m\n\u001b[1;32m     12\u001b[0m     \u001b[0mtop\u001b[0m \u001b[0mk\u001b[0m \u001b[0mlist\u001b[0m\u001b[0;34m\u001b[0m\u001b[0m\n\u001b[1;32m     13\u001b[0m     \"\"\"\n\u001b[0;32m---> 14\u001b[0;31m     \u001b[0ml\u001b[0m \u001b[0;34m=\u001b[0m \u001b[0;34m[\u001b[0m\u001b[0;34m(\u001b[0m\u001b[0mu\u001b[0m\u001b[0;34m,\u001b[0m \u001b[0mv\u001b[0m\u001b[0;34m,\u001b[0m \u001b[0mp\u001b[0m\u001b[0;34m)\u001b[0m \u001b[0;32mfor\u001b[0m \u001b[0mu\u001b[0m\u001b[0;34m,\u001b[0m \u001b[0mv\u001b[0m\u001b[0;34m,\u001b[0m \u001b[0mp\u001b[0m \u001b[0;32min\u001b[0m \u001b[0mpred\u001b[0m\u001b[0;34m]\u001b[0m\u001b[0;34m\u001b[0m\u001b[0m\n\u001b[0m\u001b[1;32m     15\u001b[0m \u001b[0;34m\u001b[0m\u001b[0m\n\u001b[1;32m     16\u001b[0m     \u001b[0msorted_l\u001b[0m \u001b[0;34m=\u001b[0m \u001b[0msorted\u001b[0m\u001b[0;34m(\u001b[0m\u001b[0ml\u001b[0m\u001b[0;34m,\u001b[0m \u001b[0mkey\u001b[0m\u001b[0;34m=\u001b[0m\u001b[0;32mlambda\u001b[0m \u001b[0mx\u001b[0m\u001b[0;34m:\u001b[0m \u001b[0mx\u001b[0m\u001b[0;34m[\u001b[0m\u001b[0;36m2\u001b[0m\u001b[0;34m]\u001b[0m\u001b[0;34m,\u001b[0m \u001b[0mreverse\u001b[0m\u001b[0;34m=\u001b[0m\u001b[0;32mTrue\u001b[0m\u001b[0;34m)\u001b[0m\u001b[0;34m\u001b[0m\u001b[0m\n",
      "\u001b[0;32m<ipython-input-64-0b5f0e3798c7>\u001b[0m in \u001b[0;36m<genexpr>\u001b[0;34m(.0)\u001b[0m\n\u001b[1;32m     16\u001b[0m     \u001b[0;32mif\u001b[0m \u001b[0mebunch\u001b[0m \u001b[0;32mis\u001b[0m \u001b[0;32mNone\u001b[0m\u001b[0;34m:\u001b[0m\u001b[0;34m\u001b[0m\u001b[0m\n\u001b[1;32m     17\u001b[0m         \u001b[0mebunch\u001b[0m \u001b[0;34m=\u001b[0m \u001b[0mnx\u001b[0m\u001b[0;34m.\u001b[0m\u001b[0mnon_edges\u001b[0m\u001b[0;34m(\u001b[0m\u001b[0mG\u001b[0m\u001b[0;34m)\u001b[0m\u001b[0;34m\u001b[0m\u001b[0m\n\u001b[0;32m---> 18\u001b[0;31m     \u001b[0;32mreturn\u001b[0m \u001b[0;34m(\u001b[0m\u001b[0;34m(\u001b[0m\u001b[0mu\u001b[0m\u001b[0;34m,\u001b[0m \u001b[0mv\u001b[0m\u001b[0;34m,\u001b[0m \u001b[0mfunc\u001b[0m\u001b[0;34m(\u001b[0m\u001b[0mu\u001b[0m\u001b[0;34m,\u001b[0m \u001b[0mv\u001b[0m\u001b[0;34m)\u001b[0m\u001b[0;34m)\u001b[0m \u001b[0;32mfor\u001b[0m \u001b[0mu\u001b[0m\u001b[0;34m,\u001b[0m \u001b[0mv\u001b[0m \u001b[0;32min\u001b[0m \u001b[0mebunch\u001b[0m\u001b[0;34m)\u001b[0m\u001b[0;34m\u001b[0m\u001b[0m\n\u001b[0m",
      "\u001b[0;32m<ipython-input-98-fb2bfe660a08>\u001b[0m in \u001b[0;36mpredict\u001b[0;34m(u, v)\u001b[0m\n\u001b[1;32m     60\u001b[0m     \"\"\"\n\u001b[1;32m     61\u001b[0m     \u001b[0;32mdef\u001b[0m \u001b[0mpredict\u001b[0m\u001b[0;34m(\u001b[0m\u001b[0mu\u001b[0m\u001b[0;34m,\u001b[0m \u001b[0mv\u001b[0m\u001b[0;34m)\u001b[0m\u001b[0;34m:\u001b[0m\u001b[0;34m\u001b[0m\u001b[0m\n\u001b[0;32m---> 62\u001b[0;31m         \u001b[0mCu\u001b[0m \u001b[0;34m=\u001b[0m \u001b[0m_community\u001b[0m\u001b[0;34m(\u001b[0m\u001b[0mG\u001b[0m\u001b[0;34m,\u001b[0m \u001b[0mu\u001b[0m\u001b[0;34m,\u001b[0m \u001b[0mcommunity\u001b[0m\u001b[0;34m)\u001b[0m\u001b[0;34m\u001b[0m\u001b[0m\n\u001b[0m\u001b[1;32m     63\u001b[0m         \u001b[0mCv\u001b[0m \u001b[0;34m=\u001b[0m \u001b[0m_community\u001b[0m\u001b[0;34m(\u001b[0m\u001b[0mG\u001b[0m\u001b[0;34m,\u001b[0m \u001b[0mv\u001b[0m\u001b[0;34m,\u001b[0m \u001b[0mcommunity\u001b[0m\u001b[0;34m)\u001b[0m\u001b[0;34m\u001b[0m\u001b[0m\n\u001b[1;32m     64\u001b[0m         \u001b[0mcnbors\u001b[0m \u001b[0;34m=\u001b[0m \u001b[0mlist\u001b[0m\u001b[0;34m(\u001b[0m\u001b[0mnx\u001b[0m\u001b[0;34m.\u001b[0m\u001b[0mcommon_neighbors\u001b[0m\u001b[0;34m(\u001b[0m\u001b[0mG\u001b[0m\u001b[0;34m,\u001b[0m \u001b[0mu\u001b[0m\u001b[0;34m,\u001b[0m \u001b[0mv\u001b[0m\u001b[0;34m)\u001b[0m\u001b[0;34m)\u001b[0m\u001b[0;34m\u001b[0m\u001b[0m\n",
      "\u001b[0;32m<ipython-input-98-fb2bfe660a08>\u001b[0m in \u001b[0;36m_community\u001b[0;34m(G, u, community)\u001b[0m\n\u001b[1;32m     74\u001b[0m         \u001b[0;32mreturn\u001b[0m \u001b[0mnode_u\u001b[0m\u001b[0;34m[\u001b[0m\u001b[0mcommunity\u001b[0m\u001b[0;34m]\u001b[0m\u001b[0;34m\u001b[0m\u001b[0m\n\u001b[1;32m     75\u001b[0m     \u001b[0;32mexcept\u001b[0m \u001b[0mKeyError\u001b[0m\u001b[0;34m:\u001b[0m\u001b[0;34m\u001b[0m\u001b[0m\n\u001b[0;32m---> 76\u001b[0;31m         \u001b[0;32mraise\u001b[0m \u001b[0mnx\u001b[0m\u001b[0;34m.\u001b[0m\u001b[0mNetworkXAlgorithmError\u001b[0m\u001b[0;34m(\u001b[0m\u001b[0;34m'No community information'\u001b[0m\u001b[0;34m)\u001b[0m\u001b[0;34m\u001b[0m\u001b[0m\n\u001b[0m",
      "\u001b[0;31mNetworkXAlgorithmError\u001b[0m: No community information"
     ]
    }
   ],
   "source": [
    "pred = cn_soundarajan_hopcroft(email_train_g)\n",
    "res = rank(pred, 100)\n",
    "print(res)"
   ]
  },
  {
   "cell_type": "code",
   "execution_count": 96,
   "metadata": {},
   "outputs": [
    {
     "data": {
      "text/plain": [
       "100"
      ]
     },
     "execution_count": 96,
     "metadata": {},
     "output_type": "execute_result"
    }
   ],
   "source": [
    "len(res)"
   ]
  },
  {
   "cell_type": "code",
   "execution_count": 61,
   "metadata": {},
   "outputs": [],
   "source": [
    "preds = nx.jaccard_coefficient(email_train_g)\n",
    "count = 0\n",
    "l = []\n",
    "for u, v, p in preds:\n",
    "    if p > 0:\n",
    "        l.append((u, v, p))\n",
    "#     print('(%s, %s) -> %.8f' % (u, v, p))"
   ]
  },
  {
   "cell_type": "code",
   "execution_count": 57,
   "metadata": {},
   "outputs": [],
   "source": [
    "G = nx.complete_graph(5)\n",
    "preds = nx.jaccard_coefficient(G)\n",
    "for u, v, p in preds:\n",
    "    print('(%d, %d) -> %.8f' % (u, v, p))"
   ]
  },
  {
   "cell_type": "code",
   "execution_count": null,
   "metadata": {},
   "outputs": [],
   "source": []
  }
 ],
 "metadata": {
  "kernelspec": {
   "display_name": "Python 3",
   "language": "python",
   "name": "python3"
  },
  "language_info": {
   "codemirror_mode": {
    "name": "ipython",
    "version": 3
   },
   "file_extension": ".py",
   "mimetype": "text/x-python",
   "name": "python",
   "nbconvert_exporter": "python",
   "pygments_lexer": "ipython3",
   "version": "3.7.0"
  }
 },
 "nbformat": 4,
 "nbformat_minor": 2
}
