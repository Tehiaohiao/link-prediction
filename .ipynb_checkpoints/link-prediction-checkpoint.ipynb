{
 "cells": [
  {
   "cell_type": "markdown",
   "metadata": {},
   "source": [
    "# CSE416 - Final Project: Link Prediction\n",
    "\n",
    "name: Angelica Tao Zhu, Yue Lin"
   ]
  },
  {
   "cell_type": "code",
   "execution_count": 7,
   "metadata": {},
   "outputs": [],
   "source": [
    "import networkx as nx\n",
    "import numpy as np\n",
    "\n",
    "# load General Relativity and Quantum Cosmology collaboration network from text file\n",
    "collaboration_network = nx.Graph()\n",
    "with open(\"dataset/ca-GrQc.txt\", \"r\") as fp:\n",
    "    line = fp.readline()\n",
    "    # skip comments\n",
    "    while line[0] == '#':\n",
    "        line = fp.readline()\n",
    "        \n",
    "    while line:\n",
    "        edge = line.split()\n",
    "        collaboration_network.add_edge(edge[0], edge[1])\n",
    "        line = fp.readline()\n",
    "\n",
    "# load facebook ego network\n",
    "facebook_ego = nx.Graph()\n",
    "with open(\"dataset/facebook_combined.txt\", \"r\") as fp:\n",
    "    line = fp.readline()\n",
    "        \n",
    "    while line:\n",
    "        edge = line.split()\n",
    "        facebook_ego.add_edge(edge[0], edge[1])\n",
    "        line = fp.readline()"
   ]
  },
  {
   "cell_type": "code",
   "execution_count": 9,
   "metadata": {},
   "outputs": [
    {
     "name": "stdout",
     "output_type": "stream",
     "text": [
      "5242\n"
     ]
    }
   ],
   "source": []
  },
  {
   "cell_type": "code",
   "execution_count": null,
   "metadata": {},
   "outputs": [],
   "source": []
  }
 ],
 "metadata": {
  "kernelspec": {
   "display_name": "Python 3",
   "language": "python",
   "name": "python3"
  },
  "language_info": {
   "codemirror_mode": {
    "name": "ipython",
    "version": 3
   },
   "file_extension": ".py",
   "mimetype": "text/x-python",
   "name": "python",
   "nbconvert_exporter": "python",
   "pygments_lexer": "ipython3",
   "version": "3.7.0"
  }
 },
 "nbformat": 4,
 "nbformat_minor": 2
}
