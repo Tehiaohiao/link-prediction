{
 "cells": [
  {
   "cell_type": "markdown",
   "metadata": {},
   "source": [
    "# CSE416 - Final Project: Link Prediction\n",
    "\n",
    "name: Angelica Tao Zhu, Yue Lin"
   ]
  },
  {
   "cell_type": "code",
   "execution_count": 2,
   "metadata": {},
   "outputs": [],
   "source": [
    "import networkx as nx\n",
    "import numpy as np\n",
    "\n",
    "# load General Relativity and Quantum Cosmology collaboration network from text file\n",
    "collaboration_network = nx.Graph()\n",
    "with open(\"dataset/ca-GrQc.txt\", \"r\") as fp:\n",
    "    line = fp.readline()\n",
    "    # skip comments\n",
    "    while line[0] == '#':\n",
    "        line = fp.readline()\n",
    "        \n",
    "    while line:\n",
    "        edge = line.split()\n",
    "        collaboration_network.add_edge(edge[0], edge[1])\n",
    "        line = fp.readline()\n",
    "\n",
    "# load facebook ego network\n",
    "facebook_ego = nx.Graph()\n",
    "with open(\"dataset/facebook_combined.txt\", \"r\") as fp:\n",
    "    line = fp.readline()\n",
    "        \n",
    "    while line:\n",
    "        edge = line.split()\n",
    "        facebook_ego.add_edge(edge[0], edge[1])\n",
    "        line = fp.readline()\n",
    "        \n",
    "# load email-Eu-core temporal network\n",
    "email_eu = nx.Graph()\n",
    "with open(\"dataset/email-Eu-core-temporal.txt\", \"r\") as fp:\n",
    "    line = fp.readline()\n",
    "    while line:\n",
    "        edge = line.split()\n",
    "        email_eu.add_edge(edge[0], edge[1])\n",
    "        line = fp.readline()"
   ]
  },
  {
   "cell_type": "code",
   "execution_count": 3,
   "metadata": {},
   "outputs": [],
   "source": [
    "def loadGraph(fileName):\n",
    "    g = nx.Graph()\n",
    "    with open(\"dataset/\" + fileName + \".txt\", \"r\") as fp:\n",
    "        line = fp.readline()\n",
    "        \n",
    "        # skip comments\n",
    "        while line[0] == '#':\n",
    "            line = fp.readline()\n",
    "            \n",
    "        while line:\n",
    "            edge = line.split()\n",
    "            g.add_edge(edge[0], edge[1])\n",
    "            line = fp.readline()\n",
    "    return g"
   ]
  },
  {
   "cell_type": "code",
   "execution_count": 4,
   "metadata": {},
   "outputs": [],
   "source": [
    "def splitFile(fileName, percentage):\n",
    "    filePath = 'dataset/' + fileName + '.txt'\n",
    "    num_lines = sum(1 for line in open(filePath))\n",
    "    num_train_lines = int(num_lines * percentage)\n",
    "    with open(filePath) as fp:\n",
    "        count = 1\n",
    "        line = fp.readline()\n",
    "        \n",
    "        trainf = open('dataset/' + fileName + '_train.txt', \"a\")\n",
    "        while count < num_train_lines:\n",
    "            trainf.write(line)\n",
    "            line = fp.readline()\n",
    "            count += 1\n",
    "        \n",
    "        testf = open('dataset/' + fileName + '_test.txt', \"a\")\n",
    "        while line:\n",
    "            testf.write(line)\n",
    "            line = fp.readline()"
   ]
  },
  {
   "cell_type": "code",
   "execution_count": 5,
   "metadata": {},
   "outputs": [],
   "source": [
    "def _apply_prediction(G, func, ebunch=None):\n",
    "    \"\"\"Applies the given function to each edge in the specified iterable\n",
    "    of edges.\n",
    "\n",
    "    `G` is an instance of :class:`networkx.Graph`.\n",
    "\n",
    "    `func` is a function on two inputs, each of which is a node in the\n",
    "    graph. The function can return anything, but it should return a\n",
    "    value representing a prediction of the likelihood of a \"link\"\n",
    "    joining the two nodes.\n",
    "\n",
    "    `ebunch` is an iterable of pairs of nodes. If not specified, all\n",
    "    non-edges in the graph `G` will be used.\n",
    "\n",
    "    \"\"\"\n",
    "    if ebunch is None:\n",
    "        ebunch = nx.non_edges(G)\n",
    "    return ((u, v, func(u, v)) for u, v in ebunch)"
   ]
  },
  {
   "cell_type": "code",
   "execution_count": 6,
   "metadata": {},
   "outputs": [],
   "source": [
    "def jaccard_coefficient(G, ebunch=None):\n",
    "    \"\"\"Compute the Jaccard coefficient of all node pairs in ebunch.\n",
    "\n",
    "    Jaccard coefficient of nodes `u` and `v` is defined as\n",
    "\n",
    "    .. math::\n",
    "\n",
    "        \\frac{|\\Gamma(u) \\cap \\Gamma(v)|}{|\\Gamma(u) \\cup \\Gamma(v)|}\n",
    "\n",
    "    where $\\Gamma(u)$ denotes the set of neighbors of $u$.\n",
    "\n",
    "    Parameters\n",
    "    ----------\n",
    "    G : graph\n",
    "        A NetworkX undirected graph.\n",
    "\n",
    "    ebunch : iterable of node pairs, optional (default = None)\n",
    "        Jaccard coefficient will be computed for each pair of nodes\n",
    "        given in the iterable. The pairs must be given as 2-tuples\n",
    "        (u, v) where u and v are nodes in the graph. If ebunch is None\n",
    "        then all non-existent edges in the graph will be used.\n",
    "        Default value: None.\n",
    "\n",
    "    Returns\n",
    "    -------\n",
    "    piter : iterator\n",
    "        An iterator of 3-tuples in the form (u, v, p) where (u, v) is a\n",
    "        pair of nodes and p is their Jaccard coefficient.\n",
    "\n",
    "    Examples\n",
    "    --------\n",
    "    >>> import networkx as nx\n",
    "    >>> G = nx.complete_graph(5)\n",
    "    >>> preds = nx.jaccard_coefficient(G, [(0, 1), (2, 3)])\n",
    "    >>> for u, v, p in preds:\n",
    "    ...     '(%d, %d) -> %.8f' % (u, v, p)\n",
    "    ...\n",
    "    '(0, 1) -> 0.60000000'\n",
    "    '(2, 3) -> 0.60000000'\n",
    "\n",
    "    References\n",
    "    ----------\n",
    "    .. [1] D. Liben-Nowell, J. Kleinberg.\n",
    "           The Link Prediction Problem for Social Networks (2004).\n",
    "           http://www.cs.cornell.edu/home/kleinber/link-pred.pdf\n",
    "    \"\"\"\n",
    "    def predict(u, v):\n",
    "        union_size = len(set(G[u]) | set(G[v]))\n",
    "        if union_size == 0:\n",
    "            return 0\n",
    "        return len(list(nx.common_neighbors(G, u, v))) / union_size\n",
    "    return _apply_prediction(G, predict, ebunch)"
   ]
  },
  {
   "cell_type": "code",
   "execution_count": 6,
   "metadata": {},
   "outputs": [],
   "source": [
    "def sorensen_index(G, ebunch=None):\n",
    "    \"\"\"Compute the Sorensen Index of all node pairs in ebunch.\n",
    "\n",
    "    Sorensen Index of nodes `u` and `v` is defined as\n",
    "\n",
    "    .. math::\n",
    "\n",
    "        \\frac{|\\Gamma(u) \\cap \\Gamma(v)|}{|\\Gamma(u)| + |\\Gamma(v)|}\n",
    "\n",
    "    where $\\Gamma(u)$ denotes the set of neighbors of $u$.\n",
    "\n",
    "    Parameters\n",
    "    ----------\n",
    "    G : graph\n",
    "        A NetworkX undirected graph.\n",
    "\n",
    "    ebunch : iterable of node pairs, optional (default = None)\n",
    "        Jaccard coefficient will be computed for each pair of nodes\n",
    "        given in the iterable. The pairs must be given as 2-tuples\n",
    "        (u, v) where u and v are nodes in the graph. If ebunch is None\n",
    "        then all non-existent edges in the graph will be used.\n",
    "        Default value: None.\n",
    "\n",
    "    Returns\n",
    "    -------\n",
    "    piter : iterator\n",
    "        An iterator of 3-tuples in the form (u, v, p) where (u, v) is a\n",
    "        pair of nodes and p is their Jaccard coefficient.\n",
    "    \"\"\"\n",
    "    def predict(u, v):\n",
    "        union_size = len(set(G[u])) + len(set(G[v]))\n",
    "        if union_size == 0:\n",
    "            return 0\n",
    "        return len(list(nx.common_neighbors(G, u, v))) / union_size\n",
    "    return _apply_prediction(G, predict, ebunch)"
   ]
  },
  {
   "cell_type": "code",
   "execution_count": 7,
   "metadata": {},
   "outputs": [],
   "source": [
    "def salton_cosine_similarity(G, ebunch=None):\n",
    "    \"\"\"Compute the Salton Cosine Similarity of all node pairs in ebunch.\n",
    "\n",
    "    Salton Cosine Similarity of nodes `u` and `v` is defined as\n",
    "\n",
    "    .. math::\n",
    "\n",
    "        \\frac{|\\Gamma(u) \\cap \\Gamma(v)|}{\\sqrt{|\\Gamma(u)| \\times |\\Gamma(v)|}}\n",
    "\n",
    "    where $\\Gamma(u)$ denotes the set of neighbors of $u$.\n",
    "\n",
    "    Parameters\n",
    "    ----------\n",
    "    G : graph\n",
    "        A NetworkX undirected graph.\n",
    "\n",
    "    ebunch : iterable of node pairs, optional (default = None)\n",
    "        Jaccard coefficient will be computed for each pair of nodes\n",
    "        given in the iterable. The pairs must be given as 2-tuples\n",
    "        (u, v) where u and v are nodes in the graph. If ebunch is None\n",
    "        then all non-existent edges in the graph will be used.\n",
    "        Default value: None.\n",
    "\n",
    "    Returns\n",
    "    -------\n",
    "    piter : iterator\n",
    "        An iterator of 3-tuples in the form (u, v, p) where (u, v) is a\n",
    "        pair of nodes and p is their Jaccard coefficient.\n",
    "    \"\"\"\n",
    "    def predict(u, v):\n",
    "        import math\n",
    "        union_size = math.sqrt(len(set(G[u])) * len(set(G[v])))\n",
    "        if union_size == 0:\n",
    "            return 0\n",
    "        return len(list(nx.common_neighbors(G, u, v))) / union_size\n",
    "    return _apply_prediction(G, predict, ebunch)"
   ]
  },
  {
   "cell_type": "code",
   "execution_count": 8,
   "metadata": {},
   "outputs": [],
   "source": [
    "def preferential_attachment(G, ebunch=None):\n",
    "    \"\"\"Compute the Preferential Attachment of all node pairs in ebunch.\n",
    "\n",
    "    Preferential Attachment of nodes `u` and `v` is defined as\n",
    "\n",
    "    .. math::\n",
    "\n",
    "        \\frac{|\\Gamma(u) \\cap \\Gamma(v)|}{\\sqrt{|\\Gamma(u)| \\times |\\Gamma(v)|}}\n",
    "\n",
    "    where $\\Gamma(u)$ denotes the set of neighbors of $u$.\n",
    "\n",
    "    Parameters\n",
    "    ----------\n",
    "    G : graph\n",
    "        A NetworkX undirected graph.\n",
    "\n",
    "    ebunch : iterable of node pairs, optional (default = None)\n",
    "        Jaccard coefficient will be computed for each pair of nodes\n",
    "        given in the iterable. The pairs must be given as 2-tuples\n",
    "        (u, v) where u and v are nodes in the graph. If ebunch is None\n",
    "        then all non-existent edges in the graph will be used.\n",
    "        Default value: None.\n",
    "\n",
    "    Returns\n",
    "    -------\n",
    "    piter : iterator\n",
    "        An iterator of 3-tuples in the form (u, v, p) where (u, v) is a\n",
    "        pair of nodes and p is their Jaccard coefficient.\n",
    "    \"\"\"\n",
    "    def predict(u, v):\n",
    "        return len(set(G[u])) * len(set(G[v]))\n",
    "    return _apply_prediction(G, predict, ebunch)"
   ]
  },
  {
   "cell_type": "code",
   "execution_count": 7,
   "metadata": {},
   "outputs": [],
   "source": [
    "def rank(pred):\n",
    "    \"\"\"\n",
    "    Parameters\n",
    "    ----------\n",
    "    pred : An iterator of 3-tuples in the form (u, v, p) where (u, v) is a\n",
    "        pair of nodes and p is their Jaccard coefficient.\n",
    "\n",
    "    k : keep top k element based p\n",
    "\n",
    "    Returns\n",
    "    -------\n",
    "    top k list\n",
    "    \"\"\"\n",
    "    l = [(u, v, p) for u, v, p in pred]\n",
    "    \n",
    "    sorted_l = sorted(l, key=lambda x: x[2], reverse=True)\n",
    "    return sorted_l"
   ]
  },
  {
   "cell_type": "code",
   "execution_count": 8,
   "metadata": {},
   "outputs": [],
   "source": [
    "splitFile('email-Eu-core-temporal', 0.9)\n",
    "email_train_g = loadGraph('email-Eu-core-temporal_train')"
   ]
  },
  {
   "cell_type": "code",
   "execution_count": 11,
   "metadata": {},
   "outputs": [],
   "source": [
    "pred = salton_cosine_similarity(email_train_g)\n",
    "# print(res)"
   ]
  },
  {
   "cell_type": "code",
   "execution_count": 12,
   "metadata": {},
   "outputs": [],
   "source": [
    "# evaluating prediction quality\n",
    "\n",
    "def prediction_eval(G, true_links, pred_links):\n",
    "    \"\"\"\n",
    "    G: network before prediction\n",
    "    \"\"\"\n",
    "    true_links = set(true_links)\n",
    "    pred_links = set(pred_links)\n",
    "    TP = 0; TN = 0; FP = 0; FN = 0\n",
    "\n",
    "    for u, v in nx.non_edges(G):\n",
    "        in_true_links = ((u,v) in true_links or (v,u) in true_links)\n",
    "        in_pred_links = ((u,v) in pred_links or (v,u) in pred_links)\n",
    "        \n",
    "        if in_true_links and in_pred_links:\n",
    "            TP += 1\n",
    "        elif not in_true_links and in_pred_links:\n",
    "            FP += 1\n",
    "        elif in_pred_links and not in_pred_links:\n",
    "            FN += 1\n",
    "        else:\n",
    "            TN += 1\n",
    "    \n",
    "#     print (TP, FP, FN, TN)\n",
    "#     precision = TP / (TP + FP)\n",
    "    return TP, FP, FN, TN"
   ]
  },
  {
   "cell_type": "code",
   "execution_count": 13,
   "metadata": {},
   "outputs": [],
   "source": [
    "# load true links\n",
    "def load_true_links(filename):\n",
    "    # load true links\n",
    "    true_links = []\n",
    "    with open(filename, \"r\") as fp:\n",
    "        line = fp.readline()\n",
    "\n",
    "        # skip comments\n",
    "        while line[0] == '#':\n",
    "            line = fp.readline()\n",
    "\n",
    "        while line:\n",
    "            edge = line.split()\n",
    "            true_links.append((edge[0], edge[1]))\n",
    "            line = fp.readline()\n",
    "    \n",
    "    return true_links"
   ]
  },
  {
   "cell_type": "code",
   "execution_count": 14,
   "metadata": {},
   "outputs": [],
   "source": [
    "def katz_based_metric(G, cutoff=3, beta=0.8, ebunch=None):\n",
    "    \"\"\"Compute the Katz based metric of all node pairs in ebunch.\n",
    "\n",
    "    Katz based metric of nodes `u` and `v` is defined as\n",
    "\n",
    "    .. math::\n",
    "\n",
    "        Katz(x, y) = βA + β2A2 + β3A3 + ...\n",
    "\n",
    "    where $\\Gamma(u)$ denotes the set of neighbors of $u$.\n",
    "\n",
    "    Parameters\n",
    "    ----------\n",
    "    G : graph\n",
    "        A NetworkX undirected graph.\n",
    "\n",
    "    ebunch : iterable of node pairs, optional (default = None)\n",
    "        Jaccard coefficient will be computed for each pair of nodes\n",
    "        given in the iterable. The pairs must be given as 2-tuples\n",
    "        (u, v) where u and v are nodes in the graph. If ebunch is None\n",
    "        then all non-existent edges in the graph will be used.\n",
    "        Default value: None.\n",
    "\n",
    "    Returns\n",
    "    -------\n",
    "    piter : iterator\n",
    "        An iterator of 3-tuples in the form (u, v, p) where (u, v) is a\n",
    "        pair of nodes and p is their Jaccard coefficient.\n",
    "    \"\"\"\n",
    "    def predict(u, v):\n",
    "        curB = 1\n",
    "        katz = 0\n",
    "        c = compute_num_of_path(email_train_g, u, v, cutoff)\n",
    "        for i in range(1, cutoff + 1):\n",
    "            curB *= beta\n",
    "            katz += curB * c[i]\n",
    "        return katz\n",
    "    return _apply_prediction(G, predict, ebunch)"
   ]
  },
  {
   "cell_type": "code",
   "execution_count": 15,
   "metadata": {},
   "outputs": [],
   "source": [
    "def local_path_based_metric(G, alpha=0.8, ebunch=None):\n",
    "    \"\"\"Compute the Local Path based metric of all node pairs in ebunch.\n",
    "\n",
    "    Local Path based metric of nodes `u` and `v` is defined as\n",
    "\n",
    "    .. math::\n",
    "\n",
    "        lp(x, y) = A2 + alpha*A3...\n",
    "\n",
    "    where $\\Gamma(u)$ denotes the set of neighbors of $u$.\n",
    "\n",
    "    Parameters\n",
    "    ----------\n",
    "    G : graph\n",
    "        A NetworkX undirected graph.\n",
    "\n",
    "    ebunch : iterable of node pairs, optional (default = None)\n",
    "        Jaccard coefficient will be computed for each pair of nodes\n",
    "        given in the iterable. The pairs must be given as 2-tuples\n",
    "        (u, v) where u and v are nodes in the graph. If ebunch is None\n",
    "        then all non-existent edges in the graph will be used.\n",
    "        Default value: None.\n",
    "\n",
    "    Returns\n",
    "    -------\n",
    "    piter : iterator\n",
    "        An iterator of 3-tuples in the form (u, v, p) where (u, v) is a\n",
    "        pair of nodes and p is their Jaccard coefficient.\n",
    "    \"\"\"\n",
    "    def predict(u, v):\n",
    "        c = compute_num_of_path(email_train_g, u, v, 3)\n",
    "        return c[2] + alpha * c[3]\n",
    "    return _apply_prediction(G, predict, ebunch)"
   ]
  },
  {
   "cell_type": "code",
   "execution_count": 61,
   "metadata": {},
   "outputs": [],
   "source": [
    "def commute_time_based_metric(G, ebunch=None):\n",
    "    \"\"\"Compute the commute time based metric of all node pairs in ebunch.\n",
    "\n",
    "    commute time based metric of nodes `u` and `v` is defined as\n",
    "\n",
    "    .. math::\n",
    "\n",
    "        CT(x, y) = HT(x, y) + HT(y, x) = m(L†x,x + L†y,y − 2L†x,y),\n",
    "\n",
    "    where L† is the pseudo-inverse of matrix L = DA − A and m is number of edges in a social network.\n",
    "\n",
    "    \"\"\"\n",
    "    import networkx as nx, numpy as np\n",
    "    nodelist = sorted(G.nodes)\n",
    "    L = nx.laplacian_matrix(G, nodelist=nodelist).toarray()\n",
    "    CTK = np.linalg.pinv(L) # L†\n",
    "    m = len(G.edges())\n",
    "    def predict(u, v):\n",
    "        ind_u = nodelist.index(u)\n",
    "        ind_v = nodelist.index(v)\n",
    "        return 1/((CTK[ind_u][ind_u] + CTK[ind_v][ind_v] - 2*CTK[ind_v][ind_u]))\n",
    "    return _apply_prediction(G, predict, ebunch)"
   ]
  },
  {
   "cell_type": "code",
   "execution_count": null,
   "metadata": {},
   "outputs": [],
   "source": [
    "def personalized_pagerank(G, ebunch=None):\n",
    "    \"\"\"Compute the page rank based metric of all node pairs in ebunch.\n",
    "\n",
    "    personalized(rooted) page rank based metric of nodes `u` and `v` is defined as\n",
    "\n",
    "    .. math::\n",
    "\n",
    "        RPR = (1 − \b)(I − \bD−1A)−1.\n",
    "\n",
    "   where D is the diagonal matrix  with Di,i = Sum(j Ai,j).\n",
    "\n",
    "    \"\"\"\n",
    "    def predict(u, v):\n",
    "        return nx.pagerank(G,personalization={u : v})\n",
    "    return _apply_prediction(G, predict, ebunch)"
   ]
  },
  {
   "cell_type": "code",
   "execution_count": 62,
   "metadata": {},
   "outputs": [],
   "source": [
    "pred = commute_time_based_metric(email_train_g)\n",
    "res = rank(pred, 2000)"
   ]
  },
  {
   "cell_type": "code",
   "execution_count": 16,
   "metadata": {},
   "outputs": [],
   "source": [
    "import collections\n",
    "def compute_num_of_path(G, u, v, cutoff):\n",
    "    paths = nx.all_simple_paths(G, source=u, target=v, cutoff=cutoff)\n",
    "    paths_len = [len(path) - 1 for path in paths]\n",
    "    return collections.Counter(paths_len)"
   ]
  },
  {
   "cell_type": "code",
   "execution_count": 30,
   "metadata": {},
   "outputs": [],
   "source": [
    "pred = local_path_based_metric(email_train_g)"
   ]
  },
  {
   "cell_type": "code",
   "execution_count": 19,
   "metadata": {},
   "outputs": [
    {
     "name": "stdout",
     "output_type": "stream",
     "text": [
      "380.1920000000001\n"
     ]
    }
   ],
   "source": [
    "c = compute_num_of_path(email_train_g, '587', '245', 3)\n",
    "cutoff = 3\n",
    "beta = 0.8\n",
    "curB = 1\n",
    "katz = 0\n",
    "for i in range(1, cutoff + 1):\n",
    "    curB *= beta\n",
    "    katz += curB * c[i]\n",
    "print(katz)"
   ]
  },
  {
   "cell_type": "code",
   "execution_count": 39,
   "metadata": {},
   "outputs": [
    {
     "name": "stdout",
     "output_type": "stream",
     "text": [
      "0.067\n"
     ]
    }
   ],
   "source": [
    "# TP, FP, FN, TN\n",
    "\n",
    "pred = preferential_attachment(email_train_g)\n",
    "res = rank(pred, 2000)\n",
    "\n",
    "pred_pairs = [(u,v) for u,v,p in res]\n",
    "true_links = load_true_links(\"dataset/email-Eu-core-temporal_test.txt\")\n",
    "TP, FP, FN, TN = prediction_eval(email_train_g, true_links, pred_pairs)\n",
    "precision = TP / (TP + FP)\n",
    "print(precision)"
   ]
  },
  {
   "cell_type": "code",
   "execution_count": 29,
   "metadata": {},
   "outputs": [],
   "source": [
    "def pred_iter_to_list(it):\n",
    "    l = []\n",
    "    for u, v, p in it:\n",
    "        l.append((u,v,p))\n",
    "    return l"
   ]
  },
  {
   "cell_type": "code",
   "execution_count": 32,
   "metadata": {},
   "outputs": [],
   "source": [
    "def iter_to_list(it):\n",
    "    l = []\n",
    "    for val in it:\n",
    "        l.append(val)\n",
    "    return l"
   ]
  },
  {
   "cell_type": "code",
   "execution_count": 34,
   "metadata": {},
   "outputs": [
    {
     "ename": "KeyboardInterrupt",
     "evalue": "",
     "output_type": "error",
     "traceback": [
      "\u001b[0;31m---------------------------------------------------------------------------\u001b[0m",
      "\u001b[0;31mKeyboardInterrupt\u001b[0m                         Traceback (most recent call last)",
      "\u001b[0;32m<ipython-input-34-0dd4a9024537>\u001b[0m in \u001b[0;36m<module>\u001b[0;34m()\u001b[0m\n\u001b[1;32m      8\u001b[0m \u001b[0mTNs\u001b[0m \u001b[0;34m=\u001b[0m \u001b[0;34m[\u001b[0m\u001b[0;34m]\u001b[0m\u001b[0;34m\u001b[0m\u001b[0m\n\u001b[1;32m      9\u001b[0m \u001b[0;34m\u001b[0m\u001b[0m\n\u001b[0;32m---> 10\u001b[0;31m \u001b[0mpred\u001b[0m \u001b[0;34m=\u001b[0m \u001b[0msim_rank_metric\u001b[0m\u001b[0;34m(\u001b[0m\u001b[0memail_train_g\u001b[0m\u001b[0;34m)\u001b[0m\u001b[0;34m\u001b[0m\u001b[0m\n\u001b[0m\u001b[1;32m     11\u001b[0m \u001b[0mpred\u001b[0m \u001b[0;34m=\u001b[0m \u001b[0mpred_iter_to_list\u001b[0m\u001b[0;34m(\u001b[0m\u001b[0mpred\u001b[0m\u001b[0;34m)\u001b[0m\u001b[0;34m\u001b[0m\u001b[0m\n\u001b[1;32m     12\u001b[0m \u001b[0mtrue_links\u001b[0m \u001b[0;34m=\u001b[0m \u001b[0mload_true_links\u001b[0m\u001b[0;34m(\u001b[0m\u001b[0;34m\"dataset/email-Eu-core-temporal_test.txt\"\u001b[0m\u001b[0;34m)\u001b[0m\u001b[0;34m\u001b[0m\u001b[0m\n",
      "\u001b[0;32m<ipython-input-15-5a8d1b30c521>\u001b[0m in \u001b[0;36msim_rank_metric\u001b[0;34m(G, ebunch)\u001b[0m\n\u001b[1;32m     13\u001b[0m     \u001b[0;32mimport\u001b[0m \u001b[0mnetworkx\u001b[0m \u001b[0;32mas\u001b[0m \u001b[0mnx\u001b[0m\u001b[0;34m,\u001b[0m \u001b[0mnumpy\u001b[0m \u001b[0;32mas\u001b[0m \u001b[0mnp\u001b[0m\u001b[0;34m\u001b[0m\u001b[0m\n\u001b[1;32m     14\u001b[0m     \u001b[0mnodelist\u001b[0m \u001b[0;34m=\u001b[0m \u001b[0msorted\u001b[0m\u001b[0;34m(\u001b[0m\u001b[0mG\u001b[0m\u001b[0;34m.\u001b[0m\u001b[0mnodes\u001b[0m\u001b[0;34m)\u001b[0m\u001b[0;34m\u001b[0m\u001b[0m\n\u001b[0;32m---> 15\u001b[0;31m     \u001b[0msim_rank_matrix\u001b[0m \u001b[0;34m=\u001b[0m \u001b[0msimrankmatrix\u001b[0m\u001b[0;34m(\u001b[0m\u001b[0mG\u001b[0m\u001b[0;34m)\u001b[0m\u001b[0;34m\u001b[0m\u001b[0m\n\u001b[0m\u001b[1;32m     16\u001b[0m     \u001b[0;32mdef\u001b[0m \u001b[0mpredict\u001b[0m\u001b[0;34m(\u001b[0m\u001b[0mu\u001b[0m\u001b[0;34m,\u001b[0m \u001b[0mv\u001b[0m\u001b[0;34m)\u001b[0m\u001b[0;34m:\u001b[0m\u001b[0;34m\u001b[0m\u001b[0m\n\u001b[1;32m     17\u001b[0m         \u001b[0mind_u\u001b[0m \u001b[0;34m=\u001b[0m \u001b[0mnodelist\u001b[0m\u001b[0;34m.\u001b[0m\u001b[0mindex\u001b[0m\u001b[0;34m(\u001b[0m\u001b[0mu\u001b[0m\u001b[0;34m)\u001b[0m\u001b[0;34m\u001b[0m\u001b[0m\n",
      "\u001b[0;32m<ipython-input-25-7be1dd31b945>\u001b[0m in \u001b[0;36msimrankmatrix\u001b[0;34m(G, r, max_iter)\u001b[0m\n\u001b[1;32m     27\u001b[0m                 \u001b[0;32mfor\u001b[0m \u001b[0mn_u\u001b[0m \u001b[0;32min\u001b[0m \u001b[0mG\u001b[0m\u001b[0;34m.\u001b[0m\u001b[0mneighbors\u001b[0m\u001b[0;34m(\u001b[0m\u001b[0mu\u001b[0m\u001b[0;34m)\u001b[0m\u001b[0;34m:\u001b[0m\u001b[0;34m\u001b[0m\u001b[0m\n\u001b[1;32m     28\u001b[0m                     \u001b[0;32mfor\u001b[0m \u001b[0mn_v\u001b[0m \u001b[0;32min\u001b[0m \u001b[0mG\u001b[0m\u001b[0;34m.\u001b[0m\u001b[0mneighbors\u001b[0m\u001b[0;34m(\u001b[0m\u001b[0mv\u001b[0m\u001b[0;34m)\u001b[0m\u001b[0;34m:\u001b[0m\u001b[0;34m\u001b[0m\u001b[0m\n\u001b[0;32m---> 29\u001b[0;31m                         \u001b[0ms_uv\u001b[0m \u001b[0;34m+=\u001b[0m \u001b[0msim_old\u001b[0m\u001b[0;34m[\u001b[0m\u001b[0mn_u\u001b[0m\u001b[0;34m]\u001b[0m\u001b[0;34m[\u001b[0m\u001b[0mn_v\u001b[0m\u001b[0;34m]\u001b[0m\u001b[0;34m\u001b[0m\u001b[0m\n\u001b[0m\u001b[1;32m     30\u001b[0m                 \u001b[0msim\u001b[0m\u001b[0;34m[\u001b[0m\u001b[0mu\u001b[0m\u001b[0;34m]\u001b[0m\u001b[0;34m[\u001b[0m\u001b[0mv\u001b[0m\u001b[0;34m]\u001b[0m \u001b[0;34m=\u001b[0m \u001b[0;34m(\u001b[0m\u001b[0mr\u001b[0m \u001b[0;34m*\u001b[0m \u001b[0ms_uv\u001b[0m \u001b[0;34m/\u001b[0m \u001b[0;34m(\u001b[0m\u001b[0mlen\u001b[0m\u001b[0;34m(\u001b[0m\u001b[0miter_to_list\u001b[0m\u001b[0;34m(\u001b[0m\u001b[0mG\u001b[0m\u001b[0;34m.\u001b[0m\u001b[0mneighbors\u001b[0m\u001b[0;34m(\u001b[0m\u001b[0mu\u001b[0m\u001b[0;34m)\u001b[0m\u001b[0;34m)\u001b[0m\u001b[0;34m)\u001b[0m \u001b[0;34m*\u001b[0m \u001b[0mlen\u001b[0m\u001b[0;34m(\u001b[0m\u001b[0miter_to_list\u001b[0m\u001b[0;34m(\u001b[0m\u001b[0mG\u001b[0m\u001b[0;34m.\u001b[0m\u001b[0mneighbors\u001b[0m\u001b[0;34m(\u001b[0m\u001b[0mv\u001b[0m\u001b[0;34m)\u001b[0m\u001b[0;34m)\u001b[0m\u001b[0;34m)\u001b[0m\u001b[0;34m)\u001b[0m\u001b[0;34m)\u001b[0m\u001b[0;34m\u001b[0m\u001b[0m\n\u001b[1;32m     31\u001b[0m     \u001b[0;32mreturn\u001b[0m \u001b[0msim\u001b[0m\u001b[0;34m\u001b[0m\u001b[0m\n",
      "\u001b[0;31mKeyboardInterrupt\u001b[0m: "
     ]
    }
   ],
   "source": [
    "import numpy as np\n",
    "\n",
    "x = []\n",
    "precisions = []\n",
    "TPs = []\n",
    "FPs = []\n",
    "FNs = []\n",
    "TNs = []\n",
    "\n",
    "pred = sim_rank_metric(email_train_g)\n",
    "pred = pred_iter_to_list(pred)\n",
    "true_links = load_true_links(\"dataset/email-Eu-core-temporal_test.txt\")\n",
    "pred = rank(pred)\n",
    "\n",
    "for i in np.arange(5,len(pred),1000):\n",
    "    res = pred[0: i]\n",
    "#     print(res)\n",
    "    pred_pairs = [(u,v) for u,v,p in res]\n",
    "    TP, FP, FN, TN = prediction_eval(email_train_g, true_links, pred_pairs)\n",
    "    x.append(i)\n",
    "    TPs.append(TP)\n",
    "    FPs.append(FP)\n",
    "    TNs.append(TN)\n",
    "    FNs.append(FN)\n",
    "    precision = TP / (TP + FP)\n",
    "    precisions.append(precision)\n",
    "    print(i)"
   ]
  },
  {
   "cell_type": "code",
   "execution_count": 73,
   "metadata": {},
   "outputs": [
    {
     "data": {
      "text/plain": [
       "459640"
      ]
     },
     "execution_count": 73,
     "metadata": {},
     "output_type": "execute_result"
    }
   ],
   "source": [
    "len(pred)"
   ]
  },
  {
   "cell_type": "code",
   "execution_count": 78,
   "metadata": {},
   "outputs": [
    {
     "data": {
      "image/png": "[encoded data removed]",
      "text/plain": [
       "<Figure size 432x288 with 1 Axes>"
      ]
     },
     "metadata": {
      "needs_background": "light"
     },
     "output_type": "display_data"
    }
   ],
   "source": [
    "import matplotlib.pyplot as plt\n",
    "\n",
    "# plot graph\n",
    "plt.plot(x, precisions,'-')\n",
    "plt.xlabel('Number of Predictions')\n",
    "plt.ylabel('Precision')\n",
    "# save graph to local file\n",
    "# plt.savefig(\"degree_distribution.png\", dpi=400) # save as png\n",
    "plt.show()"
   ]
  },
  {
   "cell_type": "code",
   "execution_count": 81,
   "metadata": {},
   "outputs": [
    {
     "data": {
      "image/png": "[encoded data removed]",
      "text/plain": [
       "<Figure size 432x288 with 1 Axes>"
      ]
     },
     "metadata": {
      "needs_background": "light"
     },
     "output_type": "display_data"
    }
   ],
   "source": [
    "import matplotlib.pyplot as plt\n",
    "#ROC\n",
    "FPRs = [FPs[i] / (FPs[i] + TNs[i]) for i in range(len(FPs))]\n",
    "TPRs = [TPs[i] / (TPs[i] + FNs[i]) for i in range(len(TPs))]\n",
    "plt.plot(FPRs, TPRs,'-')\n",
    "plt.xlabel('FPR')\n",
    "plt.ylabel('TPR')\n",
    "# save graph to local file\n",
    "# plt.savefig(\"degree_distribution.png\", dpi=400) # save as png\n",
    "x = np.arange(0,1.1,0.1)\n",
    "plt.plot(x, x,'-')\n",
    "plt.show()"
   ]
  },
  {
   "cell_type": "code",
   "execution_count": null,
   "metadata": {},
   "outputs": [],
   "source": []
  },
  {
   "cell_type": "code",
   "execution_count": null,
   "metadata": {},
   "outputs": [],
   "source": []
  },
  {
   "cell_type": "code",
   "execution_count": 17,
   "metadata": {},
   "outputs": [
    {
     "ename": "KeyboardInterrupt",
     "evalue": "",
     "output_type": "error",
     "traceback": [
      "\u001b[0;31m---------------------------------------------------------------------------\u001b[0m",
      "\u001b[0;31mKeyboardInterrupt\u001b[0m                         Traceback (most recent call last)",
      "\u001b[0;32m<ipython-input-17-d6a79dcd1a54>\u001b[0m in \u001b[0;36m<module>\u001b[0;34m()\u001b[0m\n\u001b[1;32m      2\u001b[0m \u001b[0mcount\u001b[0m \u001b[0;34m=\u001b[0m \u001b[0;36m0\u001b[0m\u001b[0;34m\u001b[0m\u001b[0m\n\u001b[1;32m      3\u001b[0m \u001b[0ml\u001b[0m \u001b[0;34m=\u001b[0m \u001b[0;34m[\u001b[0m\u001b[0;34m]\u001b[0m\u001b[0;34m\u001b[0m\u001b[0m\n\u001b[0;32m----> 4\u001b[0;31m \u001b[0;32mfor\u001b[0m \u001b[0mu\u001b[0m\u001b[0;34m,\u001b[0m \u001b[0mv\u001b[0m\u001b[0;34m,\u001b[0m \u001b[0mp\u001b[0m \u001b[0;32min\u001b[0m \u001b[0mpreds\u001b[0m\u001b[0;34m:\u001b[0m\u001b[0;34m\u001b[0m\u001b[0m\n\u001b[0m\u001b[1;32m      5\u001b[0m     \u001b[0;32mif\u001b[0m \u001b[0mp\u001b[0m \u001b[0;34m>\u001b[0m \u001b[0;36m0\u001b[0m\u001b[0;34m:\u001b[0m\u001b[0;34m\u001b[0m\u001b[0m\n\u001b[1;32m      6\u001b[0m         \u001b[0ml\u001b[0m\u001b[0;34m.\u001b[0m\u001b[0mappend\u001b[0m\u001b[0;34m(\u001b[0m\u001b[0;34m(\u001b[0m\u001b[0mu\u001b[0m\u001b[0;34m,\u001b[0m \u001b[0mv\u001b[0m\u001b[0;34m,\u001b[0m \u001b[0mp\u001b[0m\u001b[0;34m)\u001b[0m\u001b[0;34m)\u001b[0m\u001b[0;34m\u001b[0m\u001b[0m\n",
      "\u001b[0;32m/anaconda3/lib/python3.6/site-packages/networkx/algorithms/link_prediction.py\u001b[0m in \u001b[0;36m<genexpr>\u001b[0;34m(.0)\u001b[0m\n\u001b[1;32m     36\u001b[0m     \u001b[0;32mif\u001b[0m \u001b[0mebunch\u001b[0m \u001b[0;32mis\u001b[0m \u001b[0;32mNone\u001b[0m\u001b[0;34m:\u001b[0m\u001b[0;34m\u001b[0m\u001b[0m\n\u001b[1;32m     37\u001b[0m         \u001b[0mebunch\u001b[0m \u001b[0;34m=\u001b[0m \u001b[0mnx\u001b[0m\u001b[0;34m.\u001b[0m\u001b[0mnon_edges\u001b[0m\u001b[0;34m(\u001b[0m\u001b[0mG\u001b[0m\u001b[0;34m)\u001b[0m\u001b[0;34m\u001b[0m\u001b[0m\n\u001b[0;32m---> 38\u001b[0;31m     \u001b[0;32mreturn\u001b[0m \u001b[0;34m(\u001b[0m\u001b[0;34m(\u001b[0m\u001b[0mu\u001b[0m\u001b[0;34m,\u001b[0m \u001b[0mv\u001b[0m\u001b[0;34m,\u001b[0m \u001b[0mfunc\u001b[0m\u001b[0;34m(\u001b[0m\u001b[0mu\u001b[0m\u001b[0;34m,\u001b[0m \u001b[0mv\u001b[0m\u001b[0;34m)\u001b[0m\u001b[0;34m)\u001b[0m \u001b[0;32mfor\u001b[0m \u001b[0mu\u001b[0m\u001b[0;34m,\u001b[0m \u001b[0mv\u001b[0m \u001b[0;32min\u001b[0m \u001b[0mebunch\u001b[0m\u001b[0;34m)\u001b[0m\u001b[0;34m\u001b[0m\u001b[0m\n\u001b[0m\u001b[1;32m     39\u001b[0m \u001b[0;34m\u001b[0m\u001b[0m\n\u001b[1;32m     40\u001b[0m \u001b[0;34m\u001b[0m\u001b[0m\n",
      "\u001b[0;32m/anaconda3/lib/python3.6/site-packages/networkx/algorithms/link_prediction.py\u001b[0m in \u001b[0;36mpredict\u001b[0;34m(u, v)\u001b[0m\n\u001b[1;32m    142\u001b[0m     \"\"\"\n\u001b[1;32m    143\u001b[0m     \u001b[0;32mdef\u001b[0m \u001b[0mpredict\u001b[0m\u001b[0;34m(\u001b[0m\u001b[0mu\u001b[0m\u001b[0;34m,\u001b[0m \u001b[0mv\u001b[0m\u001b[0;34m)\u001b[0m\u001b[0;34m:\u001b[0m\u001b[0;34m\u001b[0m\u001b[0m\n\u001b[0;32m--> 144\u001b[0;31m         \u001b[0munion_size\u001b[0m \u001b[0;34m=\u001b[0m \u001b[0mlen\u001b[0m\u001b[0;34m(\u001b[0m\u001b[0mset\u001b[0m\u001b[0;34m(\u001b[0m\u001b[0mG\u001b[0m\u001b[0;34m[\u001b[0m\u001b[0mu\u001b[0m\u001b[0;34m]\u001b[0m\u001b[0;34m)\u001b[0m \u001b[0;34m|\u001b[0m \u001b[0mset\u001b[0m\u001b[0;34m(\u001b[0m\u001b[0mG\u001b[0m\u001b[0;34m[\u001b[0m\u001b[0mv\u001b[0m\u001b[0;34m]\u001b[0m\u001b[0;34m)\u001b[0m\u001b[0;34m)\u001b[0m\u001b[0;34m\u001b[0m\u001b[0m\n\u001b[0m\u001b[1;32m    145\u001b[0m         \u001b[0;32mif\u001b[0m \u001b[0munion_size\u001b[0m \u001b[0;34m==\u001b[0m \u001b[0;36m0\u001b[0m\u001b[0;34m:\u001b[0m\u001b[0;34m\u001b[0m\u001b[0m\n\u001b[1;32m    146\u001b[0m             \u001b[0;32mreturn\u001b[0m \u001b[0;36m0\u001b[0m\u001b[0;34m\u001b[0m\u001b[0m\n",
      "\u001b[0;31mKeyboardInterrupt\u001b[0m: "
     ]
    }
   ],
   "source": [
    "preds = nx.jaccard_coefficient(email_train_g)\n",
    "count = 0\n",
    "l = []\n",
    "for u, v, p in preds:\n",
    "    if p > 0:\n",
    "        l.append((u, v, p))\n",
    "#     print('(%s, %s) -> %.8f' % (u, v, p))"
   ]
  },
  {
   "cell_type": "code",
   "execution_count": 57,
   "metadata": {},
   "outputs": [],
   "source": [
    "G = nx.complete_graph(5)\n",
    "preds = nx.jaccard_coefficient(G)\n",
    "for u, v, p in preds:\n",
    "    print('(%d, %d) -> %.8f' % (u, v, p))"
   ]
  },
  {
   "cell_type": "code",
   "execution_count": 25,
   "metadata": {},
   "outputs": [],
   "source": [
    "# https://stackoverflow.com/questions/9767773/calculating-simrank-using-networkx\n",
    "\n",
    "from collections import defaultdict\n",
    "import copy\n",
    "import sys\n",
    "\n",
    "def simrankmatrix(G, r=0.9, max_iter=100):\n",
    "    # init. vars\n",
    "    sim_old = defaultdict(list)\n",
    "    sim = defaultdict(list)\n",
    "    for n in G.nodes():\n",
    "        sim[n] = defaultdict(int)\n",
    "        sim[n][n] = 1\n",
    "        sim_old[n] = defaultdict(int)\n",
    "        sim_old[n][n] = 0\n",
    "\n",
    "    # recursively calculate simrank\n",
    "    for iter_ctr in range(max_iter):\n",
    "        if _is_converge(sim, sim_old):\n",
    "            break\n",
    "        sim_old = copy.deepcopy(sim)\n",
    "        for u in G.nodes():\n",
    "            for v in G.nodes():\n",
    "                if u == v:\n",
    "                    continue\n",
    "                s_uv = 0.0\n",
    "                for n_u in G.neighbors(u):\n",
    "                    for n_v in G.neighbors(v):\n",
    "                        s_uv += sim_old[n_u][n_v]\n",
    "                sim[u][v] = (r * s_uv / (len(iter_to_list(G.neighbors(u))) * len(iter_to_list(G.neighbors(v)))))\n",
    "    return sim\n",
    "\n",
    "def _is_converge(s1, s2, eps=1e-4):\n",
    "    for i in s1.keys():\n",
    "        for j in s1[i].keys():\n",
    "            if abs(s1[i][j] - s2[i][j]) >= eps:\n",
    "                return False\n",
    "    return True"
   ]
  },
  {
   "cell_type": "code",
   "execution_count": 15,
   "metadata": {},
   "outputs": [],
   "source": [
    "def sim_rank_metric(G, ebunch=None):\n",
    "    \"\"\"Compute the commute time based metric of all node pairs in ebunch.\n",
    "\n",
    "    commute time based metric of nodes `u` and `v` is defined as\n",
    "\n",
    "    .. math::\n",
    "\n",
    "        CT(x, y) = HT(x, y) + HT(y, x) = m(L†x,x + L†y,y − 2L†x,y),\n",
    "\n",
    "    where L† is the pseudo-inverse of matrix L = DA − A and m is number of edges in a social network.\n",
    "\n",
    "    \"\"\"\n",
    "    import networkx as nx, numpy as np\n",
    "    nodelist = sorted(G.nodes)\n",
    "    sim_rank_matrix = simrankmatrix(G)\n",
    "    def predict(u, v):\n",
    "        ind_u = nodelist.index(u)\n",
    "        ind_v = nodelist.index(v)\n",
    "        return sim_rank_matrix[ind_u][ind_v]\n",
    "    return _apply_prediction(G, predict, ebunch)"
   ]
  },
  {
   "cell_type": "code",
   "execution_count": null,
   "metadata": {},
   "outputs": [],
   "source": []
  }
 ],
 "metadata": {
  "kernelspec": {
   "display_name": "Python 3",
   "language": "python",
   "name": "python3"
  },
  "language_info": {
   "codemirror_mode": {
    "name": "ipython",
    "version": 3
   },
   "file_extension": ".py",
   "mimetype": "text/x-python",
   "name": "python",
   "nbconvert_exporter": "python",
   "pygments_lexer": "ipython3",
   "version": "3.6.5"
  }
 },
 "nbformat": 4,
 "nbformat_minor": 2
}
