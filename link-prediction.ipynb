{
 "cells": [
  {
   "cell_type": "markdown",
   "metadata": {},
   "source": [
    "# CSE416 - Final Project: Link Prediction\n",
    "\n",
    "name: Angelica Tao Zhu, Yue Lin"
   ]
  },
  {
   "cell_type": "code",
   "execution_count": 3,
   "metadata": {},
   "outputs": [],
   "source": [
    "import networkx as nx\n",
    "import numpy as np\n",
    "\n",
    "# load General Relativity and Quantum Cosmology collaboration network from text file\n",
    "collaboration_network = nx.Graph()\n",
    "with open(\"dataset/ca-GrQc.txt\", \"r\") as fp:\n",
    "    line = fp.readline()\n",
    "    # skip comments\n",
    "    while line[0] == '#':\n",
    "        line = fp.readline()\n",
    "        \n",
    "    while line:\n",
    "        edge = line.split()\n",
    "        collaboration_network.add_edge(edge[0], edge[1])\n",
    "        line = fp.readline()\n",
    "\n",
    "# load facebook ego network\n",
    "facebook_ego = nx.Graph()\n",
    "with open(\"dataset/facebook_combined.txt\", \"r\") as fp:\n",
    "    line = fp.readline()\n",
    "        \n",
    "    while line:\n",
    "        edge = line.split()\n",
    "        facebook_ego.add_edge(edge[0], edge[1])\n",
    "        line = fp.readline()\n",
    "        \n",
    "# load email-Eu-core temporal network\n",
    "email_eu = nx.Graph()\n",
    "with open(\"dataset/email-Eu-core-temporal.txt\", \"r\") as fp:\n",
    "    line = fp.readline()\n",
    "    while line:\n",
    "        edge = line.split()\n",
    "        email_eu.add_edge(edge[0], edge[1])\n",
    "        line = fp.readline()"
   ]
  },
  {
   "cell_type": "code",
   "execution_count": 56,
   "metadata": {},
   "outputs": [],
   "source": [
    "import networkx as nx\n",
    "import numpy as np\n",
    "\n",
    "facebook = nx.Graph()\n",
    "with open(\"dataset/facebook.txt\", \"r\") as fp:\n",
    "    line = fp.readline()\n",
    "    # skip comments\n",
    "    while line[0] == '#':\n",
    "        line = fp.readline()\n",
    "    while line:\n",
    "        edge = line.split()\n",
    "        facebook.add_edge(edge[0], edge[1])\n",
    "        line = fp.readline()"
   ]
  },
  {
   "cell_type": "code",
   "execution_count": 4,
   "metadata": {},
   "outputs": [],
   "source": [
    "def loadGraph(fileName):\n",
    "    g = nx.Graph()\n",
    "    with open(\"dataset/\" + fileName + \".txt\", \"r\") as fp:\n",
    "        line = fp.readline()\n",
    "        \n",
    "        # skip comments\n",
    "        while line[0] == '#':\n",
    "            line = fp.readline()\n",
    "            \n",
    "        while line:\n",
    "            edge = line.split()\n",
    "            g.add_edge(edge[0], edge[1])\n",
    "            line = fp.readline()\n",
    "    return g"
   ]
  },
  {
   "cell_type": "code",
   "execution_count": 5,
   "metadata": {},
   "outputs": [],
   "source": [
    "def splitFile(fileName, percentage):\n",
    "    filePath = 'dataset/' + fileName + '.txt'\n",
    "    num_lines = sum(1 for line in open(filePath))\n",
    "    num_train_lines = int(num_lines * percentage)\n",
    "    with open(filePath) as fp:\n",
    "        count = 1\n",
    "        line = fp.readline()\n",
    "        \n",
    "        trainf = open('dataset/' + fileName + '_train.txt', \"w\")\n",
    "        while count < num_train_lines:\n",
    "            trainf.write(line)\n",
    "            line = fp.readline()\n",
    "            count += 1\n",
    "        \n",
    "        testf = open('dataset/' + fileName + '_test.txt', \"w\")\n",
    "        while line:\n",
    "            testf.write(line)\n",
    "            line = fp.readline()"
   ]
  },
  {
   "cell_type": "code",
   "execution_count": 6,
   "metadata": {},
   "outputs": [],
   "source": [
    "def _apply_prediction(G, func, ebunch=None):\n",
    "    \"\"\"Applies the given function to each edge in the specified iterable\n",
    "    of edges.\n",
    "\n",
    "    `G` is an instance of :class:`networkx.Graph`.\n",
    "\n",
    "    `func` is a function on two inputs, each of which is a node in the\n",
    "    graph. The function can return anything, but it should return a\n",
    "    value representing a prediction of the likelihood of a \"link\"\n",
    "    joining the two nodes.\n",
    "\n",
    "    `ebunch` is an iterable of pairs of nodes. If not specified, all\n",
    "    non-edges in the graph `G` will be used.\n",
    "\n",
    "    \"\"\"\n",
    "    if ebunch is None:\n",
    "        ebunch = nx.non_edges(G)\n",
    "    return [(u, v, func(u, v)) for u, v in ebunch]"
   ]
  },
  {
   "cell_type": "code",
   "execution_count": 7,
   "metadata": {},
   "outputs": [],
   "source": [
    "def jaccard_coefficient(G, ebunch=None):\n",
    "    \"\"\"Compute the Jaccard coefficient of all node pairs in ebunch.\n",
    "\n",
    "    Jaccard coefficient of nodes `u` and `v` is defined as\n",
    "\n",
    "    .. math::\n",
    "\n",
    "        \\frac{|\\Gamma(u) \\cap \\Gamma(v)|}{|\\Gamma(u) \\cup \\Gamma(v)|}\n",
    "\n",
    "    where $\\Gamma(u)$ denotes the set of neighbors of $u$.\n",
    "\n",
    "    Parameters\n",
    "    ----------\n",
    "    G : graph\n",
    "        A NetworkX undirected graph.\n",
    "\n",
    "    ebunch : iterable of node pairs, optional (default = None)\n",
    "        Jaccard coefficient will be computed for each pair of nodes\n",
    "        given in the iterable. The pairs must be given as 2-tuples\n",
    "        (u, v) where u and v are nodes in the graph. If ebunch is None\n",
    "        then all non-existent edges in the graph will be used.\n",
    "        Default value: None.\n",
    "\n",
    "    Returns\n",
    "    -------\n",
    "    piter : iterator\n",
    "        An iterator of 3-tuples in the form (u, v, p) where (u, v) is a\n",
    "        pair of nodes and p is their Jaccard coefficient.\n",
    "\n",
    "    Examples\n",
    "    --------\n",
    "    >>> import networkx as nx\n",
    "    >>> G = nx.complete_graph(5)\n",
    "    >>> preds = nx.jaccard_coefficient(G, [(0, 1), (2, 3)])\n",
    "    >>> for u, v, p in preds:\n",
    "    ...     '(%d, %d) -> %.8f' % (u, v, p)\n",
    "    ...\n",
    "    '(0, 1) -> 0.60000000'\n",
    "    '(2, 3) -> 0.60000000'\n",
    "\n",
    "    References\n",
    "    ----------\n",
    "    .. [1] D. Liben-Nowell, J. Kleinberg.\n",
    "           The Link Prediction Problem for Social Networks (2004).\n",
    "           http://www.cs.cornell.edu/home/kleinber/link-pred.pdf\n",
    "    \"\"\"\n",
    "    def predict(u, v):\n",
    "        union_size = len(set(G[u]) | set(G[v]))\n",
    "        if union_size == 0:\n",
    "            return 0\n",
    "        return len(list(nx.common_neighbors(G, u, v))) / union_size\n",
    "    return _apply_prediction(G, predict, ebunch)"
   ]
  },
  {
   "cell_type": "code",
   "execution_count": 8,
   "metadata": {},
   "outputs": [],
   "source": [
    "def sorensen_index(G, ebunch=None):\n",
    "    \"\"\"Compute the Sorensen Index of all node pairs in ebunch.\n",
    "\n",
    "    Sorensen Index of nodes `u` and `v` is defined as\n",
    "\n",
    "    .. math::\n",
    "\n",
    "        \\frac{|\\Gamma(u) \\cap \\Gamma(v)|}{|\\Gamma(u)| + |\\Gamma(v)|}\n",
    "\n",
    "    where $\\Gamma(u)$ denotes the set of neighbors of $u$.\n",
    "\n",
    "    Parameters\n",
    "    ----------\n",
    "    G : graph\n",
    "        A NetworkX undirected graph.\n",
    "\n",
    "    ebunch : iterable of node pairs, optional (default = None)\n",
    "        Jaccard coefficient will be computed for each pair of nodes\n",
    "        given in the iterable. The pairs must be given as 2-tuples\n",
    "        (u, v) where u and v are nodes in the graph. If ebunch is None\n",
    "        then all non-existent edges in the graph will be used.\n",
    "        Default value: None.\n",
    "\n",
    "    Returns\n",
    "    -------\n",
    "    piter : iterator\n",
    "        An iterator of 3-tuples in the form (u, v, p) where (u, v) is a\n",
    "        pair of nodes and p is their Jaccard coefficient.\n",
    "    \"\"\"\n",
    "    def predict(u, v):\n",
    "        union_size = len(set(G[u])) + len(set(G[v]))\n",
    "        if union_size == 0:\n",
    "            return 0\n",
    "        return len(list(nx.common_neighbors(G, u, v))) / union_size\n",
    "    return _apply_prediction(G, predict, ebunch)"
   ]
  },
  {
   "cell_type": "code",
   "execution_count": 9,
   "metadata": {},
   "outputs": [],
   "source": [
    "def salton_cosine_similarity(G, ebunch=None):\n",
    "    \"\"\"Compute the Salton Cosine Similarity of all node pairs in ebunch.\n",
    "\n",
    "    Salton Cosine Similarity of nodes `u` and `v` is defined as\n",
    "\n",
    "    .. math::\n",
    "\n",
    "        \\frac{|\\Gamma(u) \\cap \\Gamma(v)|}{\\sqrt{|\\Gamma(u)| \\times |\\Gamma(v)|}}\n",
    "\n",
    "    where $\\Gamma(u)$ denotes the set of neighbors of $u$.\n",
    "\n",
    "    Parameters\n",
    "    ----------\n",
    "    G : graph\n",
    "        A NetworkX undirected graph.\n",
    "\n",
    "    ebunch : iterable of node pairs, optional (default = None)\n",
    "        Jaccard coefficient will be computed for each pair of nodes\n",
    "        given in the iterable. The pairs must be given as 2-tuples\n",
    "        (u, v) where u and v are nodes in the graph. If ebunch is None\n",
    "        then all non-existent edges in the graph will be used.\n",
    "        Default value: None.\n",
    "\n",
    "    Returns\n",
    "    -------\n",
    "    piter : iterator\n",
    "        An iterator of 3-tuples in the form (u, v, p) where (u, v) is a\n",
    "        pair of nodes and p is their Jaccard coefficient.\n",
    "    \"\"\"\n",
    "    def predict(u, v):\n",
    "        import math\n",
    "        union_size = math.sqrt(len(set(G[u])) * len(set(G[v])))\n",
    "        if union_size == 0:\n",
    "            return 0\n",
    "        return len(list(nx.common_neighbors(G, u, v))) / union_size\n",
    "    return _apply_prediction(G, predict, ebunch)"
   ]
  },
  {
   "cell_type": "code",
   "execution_count": 10,
   "metadata": {},
   "outputs": [],
   "source": [
    "def preferential_attachment(G, ebunch=None):\n",
    "    \"\"\"Compute the Preferential Attachment of all node pairs in ebunch.\n",
    "\n",
    "    Preferential Attachment of nodes `u` and `v` is defined as\n",
    "\n",
    "    .. math::\n",
    "\n",
    "        \\frac{|\\Gamma(u) \\cap \\Gamma(v)|}{\\sqrt{|\\Gamma(u)| \\times |\\Gamma(v)|}}\n",
    "\n",
    "    where $\\Gamma(u)$ denotes the set of neighbors of $u$.\n",
    "\n",
    "    Parameters\n",
    "    ----------\n",
    "    G : graph\n",
    "        A NetworkX undirected graph.\n",
    "\n",
    "    ebunch : iterable of node pairs, optional (default = None)\n",
    "        Jaccard coefficient will be computed for each pair of nodes\n",
    "        given in the iterable. The pairs must be given as 2-tuples\n",
    "        (u, v) where u and v are nodes in the graph. If ebunch is None\n",
    "        then all non-existent edges in the graph will be used.\n",
    "        Default value: None.\n",
    "\n",
    "    Returns\n",
    "    -------\n",
    "    piter : iterator\n",
    "        An iterator of 3-tuples in the form (u, v, p) where (u, v) is a\n",
    "        pair of nodes and p is their Jaccard coefficient.\n",
    "    \"\"\"\n",
    "    def predict(u, v):\n",
    "        return len(set(G[u])) * len(set(G[v]))\n",
    "    return _apply_prediction(G, predict, ebunch)"
   ]
  },
  {
   "cell_type": "code",
   "execution_count": 11,
   "metadata": {},
   "outputs": [],
   "source": [
    "def rank(pred):\n",
    "    \"\"\"\n",
    "    Parameters\n",
    "    ----------\n",
    "    pred : An list of 3-tuples in the form (u, v, p) where (u, v) is a\n",
    "        pair of nodes and p is their Jaccard coefficient.\n",
    "\n",
    "    k : keep top k element based p\n",
    "\n",
    "    Returns\n",
    "    -------\n",
    "    top k list\n",
    "    \"\"\"\n",
    "    \n",
    "    sorted_l = sorted(pred, key=lambda x: x[2], reverse=True)\n",
    "    return sorted_l"
   ]
  },
  {
   "cell_type": "code",
   "execution_count": 12,
   "metadata": {},
   "outputs": [],
   "source": [
    "# evaluating prediction quality\n",
    "\n",
    "def prediction_eval(G, true_links, pred_links):\n",
    "    \"\"\"\n",
    "    G: network before prediction\n",
    "    \"\"\"\n",
    "    true_links = set(true_links)\n",
    "    pred_links = set(pred_links)\n",
    "    TP = 0; TN = 0; FP = 0; FN = 0\n",
    "\n",
    "    for u, v in nx.non_edges(G):\n",
    "        in_true_links = ((u,v) in true_links or (v,u) in true_links)\n",
    "        in_pred_links = ((u,v) in pred_links or (v,u) in pred_links)\n",
    "        \n",
    "        if in_true_links and in_pred_links:\n",
    "            TP += 1\n",
    "        elif not in_true_links and in_pred_links:\n",
    "            FP += 1\n",
    "        elif in_true_links and not in_pred_links:\n",
    "            FN += 1\n",
    "        else:\n",
    "            TN += 1\n",
    "    \n",
    "#     print (TP, FP, FN, TN)\n",
    "#     precision = TP / (TP + FP)\n",
    "    return TP, FP, FN, TN"
   ]
  },
  {
   "cell_type": "code",
   "execution_count": 13,
   "metadata": {},
   "outputs": [],
   "source": [
    "# load true links\n",
    "def load_true_links(filename):\n",
    "    # load true links\n",
    "    true_links = []\n",
    "    with open(filename, \"r\") as fp:\n",
    "        line = fp.readline()\n",
    "\n",
    "        # skip comments\n",
    "        while line[0] == '#':\n",
    "            line = fp.readline()\n",
    "\n",
    "        while line:\n",
    "            edge = line.split()\n",
    "            true_links.append((edge[0], edge[1]))\n",
    "            line = fp.readline()\n",
    "    \n",
    "    return true_links"
   ]
  },
  {
   "cell_type": "code",
   "execution_count": 80,
   "metadata": {},
   "outputs": [],
   "source": [
    "def katz_based_metric(G, cutoff=3, beta=0.8, ebunch=None):\n",
    "    \"\"\"Compute the Katz based metric of all node pairs in ebunch.\n",
    "\n",
    "    Katz based metric of nodes `u` and `v` is defined as\n",
    "\n",
    "    .. math::\n",
    "\n",
    "        Katz(x, y) = βA + β2A2 + β3A3 + ...\n",
    "\n",
    "    where $\\Gamma(u)$ denotes the set of neighbors of $u$.\n",
    "\n",
    "    Parameters\n",
    "    ----------\n",
    "    G : graph\n",
    "        A NetworkX undirected graph.\n",
    "\n",
    "    ebunch : iterable of node pairs, optional (default = None)\n",
    "        Jaccard coefficient will be computed for each pair of nodes\n",
    "        given in the iterable. The pairs must be given as 2-tuples\n",
    "        (u, v) where u and v are nodes in the graph. If ebunch is None\n",
    "        then all non-existent edges in the graph will be used.\n",
    "        Default value: None.\n",
    "\n",
    "    Returns\n",
    "    -------\n",
    "    piter : iterator\n",
    "        An iterator of 3-tuples in the form (u, v, p) where (u, v) is a\n",
    "        pair of nodes and p is their Jaccard coefficient.\n",
    "    \"\"\"\n",
    "    def predict(u, v):\n",
    "        curB = 1\n",
    "        katz = 0\n",
    "        c = compute_num_of_path(forum_train_g, u, v, cutoff)\n",
    "        for i in range(1, cutoff + 1):\n",
    "            curB *= beta\n",
    "            katz += curB * c[i]\n",
    "        return katz\n",
    "    return _apply_prediction(G, predict, ebunch)"
   ]
  },
  {
   "cell_type": "code",
   "execution_count": 81,
   "metadata": {},
   "outputs": [],
   "source": [
    "def local_path_based_metric(G, alpha=0.8, ebunch=None):\n",
    "    \"\"\"Compute the Local Path based metric of all node pairs in ebunch.\n",
    "\n",
    "    Local Path based metric of nodes `u` and `v` is defined as\n",
    "\n",
    "    .. math::\n",
    "\n",
    "        lp(x, y) = A2 + alpha*A3...\n",
    "\n",
    "    where $\\Gamma(u)$ denotes the set of neighbors of $u$.\n",
    "\n",
    "    Parameters\n",
    "    ----------\n",
    "    G : graph\n",
    "        A NetworkX undirected graph.\n",
    "\n",
    "    ebunch : iterable of node pairs, optional (default = None)\n",
    "        Jaccard coefficient will be computed for each pair of nodes\n",
    "        given in the iterable. The pairs must be given as 2-tuples\n",
    "        (u, v) where u and v are nodes in the graph. If ebunch is None\n",
    "        then all non-existent edges in the graph will be used.\n",
    "        Default value: None.\n",
    "\n",
    "    Returns\n",
    "    -------\n",
    "    piter : iterator\n",
    "        An iterator of 3-tuples in the form (u, v, p) where (u, v) is a\n",
    "        pair of nodes and p is their Jaccard coefficient.\n",
    "    \"\"\"\n",
    "    def predict(u, v):\n",
    "        c = compute_num_of_path(forum_train_g, u, v, 3)\n",
    "        return c[2] + alpha * c[3]\n",
    "    return _apply_prediction(G, predict, ebunch)"
   ]
  },
  {
   "cell_type": "code",
   "execution_count": 16,
   "metadata": {},
   "outputs": [],
   "source": [
    "def commute_time_based_metric(G, ebunch=None):\n",
    "    \"\"\"Compute the commute time based metric of all node pairs in ebunch.\n",
    "\n",
    "    commute time based metric of nodes `u` and `v` is defined as\n",
    "\n",
    "    .. math::\n",
    "\n",
    "        CT(x, y) = HT(x, y) + HT(y, x) = m(L†x,x + L†y,y − 2L†x,y),\n",
    "\n",
    "    where L† is the pseudo-inverse of matrix L = DA − A and m is number of edges in a social network.\n",
    "\n",
    "    \"\"\"\n",
    "    import networkx as nx, numpy as np\n",
    "    nodelist = sorted(G.nodes)\n",
    "    L = nx.laplacian_matrix(G, nodelist=nodelist).toarray()\n",
    "    CTK = np.linalg.pinv(L) # L†\n",
    "    m = len(G.edges())\n",
    "    def predict(u, v):\n",
    "        ind_u = nodelist.index(u)\n",
    "        ind_v = nodelist.index(v)\n",
    "        return 1/((CTK[ind_u][ind_u] + CTK[ind_v][ind_v] - 2*CTK[ind_v][ind_u]))\n",
    "    return _apply_prediction(G, predict, ebunch)"
   ]
  },
  {
   "cell_type": "code",
   "execution_count": 17,
   "metadata": {},
   "outputs": [],
   "source": [
    "def rooted_pagerank(G, ebunch=None):\n",
    "    \"\"\"\n",
    "    Use linkpred to compute rooted pagerank\n",
    "    link: https://github.com/rafguns/linkpred/tree/c3157208017b73798e8e9ba8223064bb5d34e1db\n",
    "    \"\"\"\n",
    "    \n",
    "    from linkpred.predictors.eigenvector import RootedPageRank\n",
    "    return RootedPageRank(G).predict()"
   ]
  },
  {
   "cell_type": "code",
   "execution_count": 18,
   "metadata": {},
   "outputs": [],
   "source": [
    "# https://stackoverflow.com/questions/9767773/calculating-simrank-using-networkx\n",
    "\n",
    "from collections import defaultdict\n",
    "import copy\n",
    "import sys\n",
    "\n",
    "# def iter_to_list(iterator):\n",
    "#     l = []\n",
    "#     for item in iterator:\n",
    "#         l.append(item)\n",
    "#     return l\n",
    "\n",
    "# def simrankmatrix(G, r=0.9, max_iter=100):\n",
    "#     # init. vars\n",
    "#     sim_old = defaultdict(list)\n",
    "#     sim = defaultdict(list)\n",
    "#     for n in G.nodes():\n",
    "#         sim[n] = defaultdict(int)\n",
    "#         sim[n][n] = 1\n",
    "#         sim_old[n] = defaultdict(int)\n",
    "#         sim_old[n][n] = 0\n",
    "\n",
    "#     # recursively calculate simrank\n",
    "#     for iter_ctr in range(max_iter):\n",
    "#         if _is_converge(sim, sim_old):\n",
    "#             break\n",
    "#         sim_old = copy.deepcopy(sim)\n",
    "#         for u in G.nodes():\n",
    "#             for v in G.nodes():\n",
    "#                 if u == v:\n",
    "#                     continue\n",
    "#                 s_uv = 0.0\n",
    "#                 for n_u in G.neighbors(u):\n",
    "#                     for n_v in G.neighbors(v):\n",
    "#                         s_uv += sim_old[n_u][n_v]\n",
    "#                 sim[u][v] = (r * s_uv / (len(iter_to_list(G.neighbors(u))) * len(iter_to_list(G.neighbors(v)))))\n",
    "#     return sim\n",
    "\n",
    "# def _is_converge(s1, s2, eps=1e-4):\n",
    "#     for i in s1.keys():\n",
    "#         for j in s1[i].keys():\n",
    "#             if abs(s1[i][j] - s2[i][j]) >= eps:\n",
    "#                 return False\n",
    "#     return True\n",
    "\n",
    "# def sim_rank_metric(G, ebunch=None):\n",
    "#     \"\"\"Compute the commute time based metric of all node pairs in ebunch.\n",
    "\n",
    "#     commute time based metric of nodes `u` and `v` is defined as\n",
    "\n",
    "#     .. math::\n",
    "\n",
    "#         CT(x, y) = HT(x, y) + HT(y, x) = m(L†x,x + L†y,y − 2L†x,y),\n",
    "\n",
    "#     where L† is the pseudo-inverse of matrix L = DA − A and m is number of edges in a social network.\n",
    "\n",
    "#     \"\"\"\n",
    "#     import networkx as nx, numpy as np\n",
    "#     nodelist = sorted(G.nodes)\n",
    "#     sim_rank_matrix = simrankmatrix(G)\n",
    "#     def predict(u, v):\n",
    "#         ind_u = nodelist.index(u)\n",
    "#         ind_v = nodelist.index(v)\n",
    "#         return sim_rank_matrix[ind_u][ind_v]\n",
    "#     return _apply_prediction(G, predict, ebunch)\n",
    "# ---------------------------------------------------------------------------\n",
    "# IndexError                                Traceback (most recent call last)\n",
    "# <ipython-input-27-2462a43456c7> in <module>\n",
    "#       6     import time\n",
    "#       7     start_time = time.time()\n",
    "# ----> 8     pred = method(email_train_g)\n",
    "#       9     runtime = time.time() - start_time\n",
    "#      10 \n",
    "\n",
    "# <ipython-input-16-dde101875b5e> in sim_rank_metric(G, ebunch)\n",
    "#      63         ind_v = nodelist.index(v)\n",
    "#      64         return sim_rank_matrix[ind_u][ind_v]\n",
    "# ---> 65     return _apply_prediction(G, predict, ebunch)\n",
    "\n",
    "# <ipython-input-4-3af494b29d1b> in _apply_prediction(G, func, ebunch)\n",
    "#      16     if ebunch is None:\n",
    "#      17         ebunch = nx.non_edges(G)\n",
    "# ---> 18     return [(u, v, func(u, v)) for u, v in ebunch]\n",
    "\n",
    "# <ipython-input-4-3af494b29d1b> in <listcomp>(.0)\n",
    "#      16     if ebunch is None:\n",
    "#      17         ebunch = nx.non_edges(G)\n",
    "# ---> 18     return [(u, v, func(u, v)) for u, v in ebunch]\n",
    "\n",
    "# <ipython-input-16-dde101875b5e> in predict(u, v)\n",
    "#      62         ind_u = nodelist.index(u)\n",
    "#      63         ind_v = nodelist.index(v)\n",
    "# ---> 64         return sim_rank_matrix[ind_u][ind_v]\n",
    "#      65     return _apply_prediction(G, predict, ebunch)\n",
    "\n",
    "# IndexError: list index out of range\n",
    "def sim_rank_metric(G):\n",
    "    from linkpred.predictors.eigenvector import SimRank\n",
    "    return SimRank(G).predict()"
   ]
  },
  {
   "cell_type": "code",
   "execution_count": 19,
   "metadata": {},
   "outputs": [],
   "source": [
    "import collections\n",
    "def compute_num_of_path(G, u, v, cutoff):\n",
    "    paths = nx.all_simple_paths(G, source=u, target=v, cutoff=cutoff)\n",
    "    paths_len = [len(path) - 1 for path in paths]\n",
    "    return collections.Counter(paths_len)"
   ]
  },
  {
   "cell_type": "code",
   "execution_count": 72,
   "metadata": {},
   "outputs": [],
   "source": [
    "splitFile('forum', 0.9)\n",
    "forum_train_g = loadGraph('forum_train')"
   ]
  },
  {
   "cell_type": "code",
   "execution_count": 73,
   "metadata": {},
   "outputs": [
    {
     "name": "stdout",
     "output_type": "stream",
     "text": [
      "6776\n",
      "874\n"
     ]
    }
   ],
   "source": [
    "print(len(forum_train_g.edges()))\n",
    "print(len(forum_train_g.nodes()))"
   ]
  },
  {
   "cell_type": "code",
   "execution_count": 74,
   "metadata": {},
   "outputs": [],
   "source": [
    "def convert(score_sheet):\n",
    "    l = []\n",
    "    for k, v in score_sheet.items():\n",
    "        l.append((k.__getitem__(0), k.__getitem__(1), v))\n",
    "    return l"
   ]
  },
  {
   "cell_type": "code",
   "execution_count": 82,
   "metadata": {},
   "outputs": [
    {
     "name": "stdout",
     "output_type": "stream",
     "text": [
      "local_path_based_metric\n",
      "here\n",
      "commute_time_based_metric\n",
      "here\n",
      "rooted_pagerank\n",
      "[############################################################] 874/874\n",
      "here\n",
      "sim_rank_metric\n",
      "here\n"
     ]
    }
   ],
   "source": [
    "methods = [sorensen_index, jaccard_coefficient, salton_cosine_similarity, preferential_attachment, katz_based_metric,local_path_based_metric, commute_time_based_metric, rooted_pagerank, sim_rank_metric]\n",
    "# methods = [sim_rank_metric]\n",
    "for method in methods:\n",
    "    method_name = method.__name__\n",
    "    print(method_name)\n",
    "    import time\n",
    "    start_time = time.time()\n",
    "    pred = method(forum_train_g)\n",
    "    runtime = time.time() - start_time\n",
    "    print(\"here\")\n",
    "    if method.__name__ == \"rooted_pagerank\" or method.__name__ == \"sim_rank_metric\":\n",
    "        pred = convert(pred)\n",
    "    res = rank(pred)\n",
    "    with open(\"result_forum/\" + method_name + '_res.txt', 'w') as f:\n",
    "        f.write(\"# --- runtime: %s seconds ---\\n\" % runtime)\n",
    "        for u, v, score in res:\n",
    "            f.write(\"%s %s %f\\n\" % (u, v, float(score)))"
   ]
  },
  {
   "cell_type": "code",
   "execution_count": 83,
   "metadata": {},
   "outputs": [],
   "source": [
    "def loadPred(method_name):\n",
    "    print(method_name)\n",
    "    pred = []\n",
    "    with open(\"result_forum/\" + method_name + \"_res.txt\", 'r') as fp:\n",
    "        line = fp.readline()\n",
    "        \n",
    "        # skip comments\n",
    "        while line[0] == '#':\n",
    "            line = fp.readline()\n",
    "            \n",
    "        while line:\n",
    "            statistics = line.split()\n",
    "            pred.append((statistics[0], statistics[1], float(statistics[2])))\n",
    "            line = fp.readline()\n",
    "    return pred\n",
    "\n",
    "true_links = load_true_links(\"dataset/forum_test.txt\")\n",
    "import numpy as np\n",
    "\n",
    "def getEval(pred):\n",
    "    x = []\n",
    "    TPs = []\n",
    "    FPs = []\n",
    "    FNs = []\n",
    "    TNs = []\n",
    "\n",
    "    for i in np.arange(100,len(pred),1000):\n",
    "        res = pred[0: i]\n",
    "        pred_pairs = [(u,v) for u,v,p in res]\n",
    "        TP, FP, FN, TN = prediction_eval(forum_train_g, true_links, pred_pairs)\n",
    "        x.append(i)\n",
    "        TPs.append(TP)\n",
    "        FPs.append(FP)\n",
    "        TNs.append(TN)\n",
    "        FNs.append(FN)\n",
    "    \n",
    "    return TPs, FPs, FNs, TNs"
   ]
  },
  {
   "cell_type": "code",
   "execution_count": 99,
   "metadata": {},
   "outputs": [
    {
     "name": "stdout",
     "output_type": "stream",
     "text": [
      "3373\n"
     ]
    }
   ],
   "source": [
    "print(len(true_links))"
   ]
  },
  {
   "cell_type": "code",
   "execution_count": 84,
   "metadata": {},
   "outputs": [],
   "source": [
    "methods = [sorensen_index, jaccard_coefficient, salton_cosine_similarity, preferential_attachment, katz_based_metric, local_path_based_metric, commute_time_based_metric, rooted_pagerank, sim_rank_metric]\n",
    "method_names = [method.__name__ for method in methods]"
   ]
  },
  {
   "cell_type": "code",
   "execution_count": 34,
   "metadata": {},
   "outputs": [],
   "source": [
    "for edge in email_train_g.edges():\n",
    "    nx.set_edge_attributes(email_train_g, {edge: {\"tag\": \"train\"}})\n",
    "for edge in pred[:879]:\n",
    "    email_train_g.add_edge(edge[0], edge[1])\n",
    "    nx.set_edge_attributes(email_train_g, {(edge[0], edge[1]): {\"tag\": \"test\"}})\n",
    "\n",
    "nx.write_gml(email_train_g, \"rooted_pagerank.gml\")"
   ]
  },
  {
   "cell_type": "code",
   "execution_count": 85,
   "metadata": {},
   "outputs": [
    {
     "name": "stdout",
     "output_type": "stream",
     "text": [
      "sorensen_index\n",
      "jaccard_coefficient\n",
      "salton_cosine_similarity\n",
      "preferential_attachment\n",
      "katz_based_metric\n",
      "local_path_based_metric\n",
      "commute_time_based_metric\n",
      "rooted_pagerank\n",
      "sim_rank_metric\n"
     ]
    }
   ],
   "source": [
    "import matplotlib.pyplot as plt\n",
    "eval_dict = {}\n",
    "for method_name in method_names:\n",
    "    pred = loadPred(method_name)\n",
    "    TPs, FPs, FNs, TNs = getEval(pred)\n",
    "    eval_dict[method_name] = (TPs, FPs, FNs, TNs)"
   ]
  },
  {
   "cell_type": "code",
   "execution_count": 86,
   "metadata": {},
   "outputs": [
    {
     "data": {
      "image/png": "[encoded data removed]",
      "text/plain": [
       "<Figure size 432x288 with 1 Axes>"
      ]
     },
     "metadata": {
      "needs_background": "light"
     },
     "output_type": "display_data"
    }
   ],
   "source": [
    "import matplotlib.pyplot as plt\n",
    "for method_name in method_names:\n",
    "    TPs, FPs, FNs, TNs = eval_dict[method_name]\n",
    "    \n",
    "    FPRs = [FPs[i] / (FPs[i] + TNs[i]) for i in range(len(FPs))]\n",
    "    TPRs = [TPs[i] / (TPs[i] + FNs[i]) for i in range(len(TPs))]\n",
    "    plt.plot(FPRs, TPRs,'-', label = method_name)\n",
    "    \n",
    "# plot graph\n",
    "x = np.arange(0, 1.1, 0.1)\n",
    "plt.plot(x, x,'-', label='Random Performance')\n",
    "\n",
    "plt.title('ROC Curve')\n",
    "plt.xlabel('False Positive Rate')\n",
    "plt.ylabel('True Positive Rate')\n",
    "# save graph to local file\n",
    "plt.legend(prop={'size': 8})\n",
    "plt.savefig(\"ROC_forum.png\", dpi=800) # save as png\n",
    "plt.show()"
   ]
  },
  {
   "cell_type": "code",
   "execution_count": 94,
   "metadata": {},
   "outputs": [
    {
     "name": "stdout",
     "output_type": "stream",
     "text": [
      "[2, 8, 16, 18, 24, 28, 30, 37, 40, 42, 44, 46, 48, 52, 54, 57, 60, 63, 65, 68, 71, 72, 73, 73, 75, 77, 80, 81, 82, 85, 85, 88, 92, 93, 93, 94, 95, 96, 96, 100, 100, 102, 103, 103, 104, 104, 104, 107, 109, 109, 109, 109, 109, 113, 114, 115, 117, 118, 118, 119, 121, 121, 121, 122, 123, 123, 123, 123, 124, 125, 125, 125, 127, 127, 129, 129, 130, 131, 131, 132, 134, 135, 136, 136, 136, 137, 138, 140, 140, 140, 141, 141, 141, 142, 142, 142, 144, 144, 145, 145, 145, 146, 147, 150, 151, 152, 152, 152, 152, 153, 153, 153, 153, 153, 156, 156, 156, 156, 158, 158, 159, 161, 161, 161, 162, 162, 162, 162, 162, 162, 163, 164, 164, 164, 164, 165, 165, 166, 166, 166, 166, 167, 168, 168, 171, 171, 171, 172, 172, 172, 172, 173, 174, 174, 175, 175, 175, 176, 176, 176, 176, 177, 178, 179, 179, 179, 179, 179, 179, 180, 180, 181, 182, 182, 182, 182, 182, 182, 182, 183, 183, 184, 186, 186, 187, 187, 188, 188, 190, 190, 190, 190, 190, 190, 191, 191, 191, 191, 191, 191, 191, 191, 191, 192, 193, 193, 193, 193, 193, 194, 195, 196, 196, 197, 198, 198, 198, 199, 200, 200, 200, 200, 201, 201, 201, 201, 202, 203, 204, 204, 205, 205, 205, 205, 205, 206, 206, 206, 206, 206, 207, 210, 210, 210, 210, 210, 210, 210, 210, 210, 210, 211, 212, 212, 212, 212, 212, 212, 212, 212, 212, 212, 212, 212, 212, 212, 212, 212, 212, 212, 212, 212, 212, 212, 212, 213, 213, 213, 213, 213, 213, 213, 213, 213, 213, 213, 214, 214, 214, 214, 214, 215, 215, 215, 215, 215, 215, 215, 215, 215, 216, 216, 216, 216, 216, 216, 216, 216, 216, 216, 216, 216, 216, 216, 216, 216, 216, 216, 216, 216, 216, 216, 216, 216, 216, 216, 216, 216, 216, 216, 216, 216, 216, 216, 216, 216, 216, 216, 216, 216, 216, 216, 216, 216, 216, 216, 216, 216, 216, 216, 216, 216, 216, 216, 216, 216, 216, 216, 216, 217, 217, 217, 217, 218, 218, 218, 218, 218, 219, 219, 219, 219, 219, 219, 219]\n"
     ]
    }
   ],
   "source": [
    "TPs, FPs, FNs, TNs = eval_dict[\"katz_based_metric\"]\n",
    "print(TPs)"
   ]
  },
  {
   "cell_type": "code",
   "execution_count": 95,
   "metadata": {},
   "outputs": [
    {
     "name": "stdout",
     "output_type": "stream",
     "text": [
      "[0, 0, 0, 0, 1, 1, 1, 2, 5, 6, 6, 7, 7, 9, 9, 11, 12, 12, 13, 14, 14, 15, 17, 17, 18, 20, 20, 20, 20, 20, 21, 24, 27, 27, 30, 35, 36, 37, 37, 40, 42, 42, 43, 44, 46, 46, 47, 48, 48, 49, 49, 50, 51, 52, 53, 54, 55, 55, 59, 61, 63, 63, 65, 66, 66, 66, 66, 66, 68, 68, 68, 68, 68, 69, 71, 71, 72, 74, 74, 77, 77, 78, 78, 78, 78, 78, 78, 79, 79, 81, 83, 84, 86, 88, 88, 91, 93, 96, 99, 99, 99, 102, 102, 104, 105, 107, 107, 109, 111, 112, 116, 122, 124, 124, 124, 125, 125, 125, 126, 126, 126, 126, 127, 128, 128, 129, 130, 131, 131, 131, 131, 132, 133, 133, 133, 133, 133, 133, 133, 135, 135, 135, 135, 135, 135, 136, 136, 136, 136, 136, 138, 138, 138, 139, 139, 139, 139, 139, 139, 139, 139, 139, 140, 140, 140, 140, 140, 140, 140, 140, 140, 141, 141, 141, 142, 142, 142, 142, 144, 145, 145, 145, 146, 146, 146, 146, 146, 147, 148, 148, 148, 150, 151, 151, 151, 151, 153, 153, 153, 154, 154, 154, 155, 155, 155, 156, 157, 158, 158, 158, 158, 158, 158, 158, 158, 158, 159, 159, 159, 159, 162, 162, 162, 162, 163, 166, 166, 166, 166, 167, 167, 167, 167, 171, 171, 171, 171, 171, 171, 171, 171, 171, 172, 172, 172, 174, 174, 174, 174, 174, 174, 175, 175, 175, 175, 175, 175, 176, 176, 176, 177, 177, 177, 177, 180, 180, 182, 182, 183, 184, 184, 184, 186, 186, 186, 186, 186, 186, 186, 186, 186, 186, 186, 186, 186, 186, 187, 188, 188, 189, 189, 189, 189, 189, 191, 191, 191, 191, 191, 191, 191, 192, 192, 193, 194, 196, 196, 196, 196, 196, 196, 196, 196, 197, 198, 198, 198, 198, 198, 198, 198, 198, 200, 204, 204, 204, 204, 204, 204, 204, 205, 205, 205, 205, 205, 205, 207, 209, 209, 209, 209, 209, 209, 210, 210, 211, 211, 211, 212, 213, 213, 213, 213, 213, 213, 213, 213, 213, 216, 216, 217, 218, 218, 218, 218, 218, 218, 218, 218, 218, 218, 218, 218, 218, 219]\n"
     ]
    }
   ],
   "source": [
    "TPs, FPs, FNs, TNs = eval_dict[\"jaccard_coefficient\"]\n",
    "print(TPs)"
   ]
  },
  {
   "cell_type": "code",
   "execution_count": 98,
   "metadata": {},
   "outputs": [
    {
     "data": {
      "image/png": "[encoded data removed]",
      "text/plain": [
       "<Figure size 432x288 with 1 Axes>"
      ]
     },
     "metadata": {
      "needs_background": "light"
     },
     "output_type": "display_data"
    }
   ],
   "source": [
    "for method_name in method_names:\n",
    "    TPs, FPs, FNs, TNs = eval_dict[method_name]\n",
    "    precisions = []\n",
    "    recalls = []\n",
    "    for i in range(len(TPs)):\n",
    "        if TPs[i] == 0 or TPs[i] + FPs[i] == 0 or TPs[i] + FNs[i] == 0:\n",
    "            continue\n",
    "        precisions.append(TPs[i] / (TPs[i] + FPs[i])) # tp / tp + fp\n",
    "        recalls.append(TPs[i] / (TPs[i] + FNs[i])) # tp / tp + fn\n",
    "#     precisions = [TPs[i] / (TPs[i] + FPs[i]) for i in range(len(TPs))] # tp / tp + fp\n",
    "#     recalls = [TPs[i] / (TPs[i] + FNs[i]) for i in range(len(TPs))] # tp / tp + fn\n",
    "    plt.plot(recalls, precisions,'-', label = method_name)\n",
    "# x = np.arange(0, 1.1, 0.1)\n",
    "# y = [0.5 for i in x]\n",
    "\n",
    "# plt.plot(x, y,'-', label='Random Performance')\n",
    "plt.title('Precision-Recall Curve')\n",
    "plt.xlabel('Recall')\n",
    "plt.ylabel('Precision')\n",
    "plt.yscale('log')\n",
    "\n",
    "plt.legend(prop={'size': 7})\n",
    "plt.savefig(\"Precision-Recall_forum.png\", dpi=800) # save as png\n",
    "plt.show()"
   ]
  },
  {
   "cell_type": "code",
   "execution_count": 48,
   "metadata": {},
   "outputs": [
    {
     "name": "stdout",
     "output_type": "stream",
     "text": [
      "{'sorensen_index': ([2, 48, 86, 110, 140, 173, 195, 214, 239, 256, 270, 283, 299, 314, 329, 340, 353, 362, 376, 387, 397, 401, 410, 421, 434, 441, 451, 456, 460, 463, 473, 479, 486, 491, 500, 504, 513, 517, 524, 531, 538, 543, 544, 552, 559, 566, 569, 574, 577, 578, 584, 589, 594, 597, 602, 603, 610, 615, 621, 625, 627, 630, 633, 635, 640, 643, 645, 647, 648, 650, 651, 652, 657, 658, 662, 663, 664, 665, 666, 668, 669, 675, 677, 680, 682, 685, 687, 691, 695, 697, 699, 702, 705, 707, 709, 713, 714, 715, 716, 718, 720, 722, 722, 722, 723, 727, 729, 732, 734, 737, 737, 739, 741, 745, 746, 749, 749, 751, 752, 755, 755, 757, 758, 758, 758, 760, 761, 761, 762, 762, 763, 766, 767, 770, 771, 772, 772, 774, 774, 775, 777, 777, 778, 779, 781, 783, 783, 784, 785, 788, 788, 788, 790, 792, 794, 794, 795, 795, 796, 797, 798, 798, 798, 799, 800, 800, 802, 802, 802, 803, 807, 807, 809, 809, 811, 812, 812, 812, 812, 813, 813, 813, 814, 814, 814, 814, 814, 814, 814, 814, 815, 816, 816, 817, 817, 817, 819, 822, 822, 822, 822, 822, 822, 822, 822, 823, 823, 823, 823, 823, 824, 824, 824, 824, 824, 824, 824, 824, 824, 824, 824, 824, 824, 824, 824, 824, 824, 824, 824, 824, 824, 824, 824, 824, 824, 825, 825, 825, 825, 825, 825, 825, 825, 825, 825, 825, 825, 825, 825, 825, 825, 825, 826, 826, 826, 826, 826, 826, 826, 827, 827, 828, 828, 828, 829, 829, 829, 829, 829, 829, 829, 829, 829, 829, 829, 829, 830, 830, 830, 830, 830, 831, 831, 831, 831, 831, 831, 831, 831, 831, 831, 831, 831, 831, 831, 831, 831, 831, 831, 831, 831, 831, 831, 831, 831, 831, 831, 831, 831, 832, 832, 833, 834, 834, 834, 834, 834, 834, 834, 834, 834, 836, 836, 837, 837, 837, 837, 837, 837, 837, 837, 838, 838, 839, 839, 839, 839, 839, 839, 839, 839, 839, 839, 839, 839, 839, 841, 841, 841, 841, 841, 841, 841, 841, 841, 841, 841, 841, 841, 841, 841, 841, 841, 841, 841, 841, 842, 842, 842, 842, 842, 842, 842, 842, 842, 843, 843, 843, 843, 843, 843, 843, 843, 843, 844, 844, 845, 845, 845, 845, 845, 845, 845, 845, 845, 845, 845, 845, 845, 845, 845, 845, 845, 845, 845, 845, 845, 845, 845, 845, 846, 846, 847, 847, 847, 847, 847, 847, 847, 847, 848, 848, 848, 848, 848, 848, 848, 848, 848, 848, 848, 848, 848, 849, 849, 849, 849, 849, 849, 849, 850, 851, 851, 851, 851, 851, 851, 851, 851, 851, 851, 851, 851, 851, 851, 852, 852, 852, 852, 852], [98, 1052, 2014, 2990, 3960, 4927, 5905, 6886, 7861, 8844, 9830, 10817, 11801, 12786, 13771, 14760, 15747, 16738, 17724, 18713, 19703, 20699, 21690, 22679, 23666, 24659, 25649, 26644, 27640, 28637, 29627, 30621, 31614, 32609, 33600, 34596, 35587, 36583, 37576, 38569, 39562, 40557, 41556, 42548, 43541, 44534, 45531, 46526, 47523, 48522, 49516, 50511, 51506, 52503, 53498, 54497, 55490, 56485, 57479, 58475, 59473, 60470, 61467, 62465, 63460, 64457, 65455, 66453, 67452, 68450, 69449, 70448, 71443, 72442, 73438, 74437, 75436, 76435, 77434, 78432, 79431, 80425, 81423, 82420, 83418, 84415, 85413, 86409, 87405, 88403, 89401, 90398, 91395, 92393, 93391, 94387, 95386, 96385, 97384, 98382, 99380, 100378, 101378, 102378, 103377, 104373, 105371, 106368, 107366, 108363, 109363, 110361, 111359, 112355, 113354, 114351, 115351, 116349, 117348, 118345, 119345, 120343, 121342, 122342, 123342, 124340, 125339, 126339, 127338, 128338, 129337, 130334, 131333, 132330, 133329, 134328, 135328, 136326, 137326, 138325, 139323, 140323, 141322, 142321, 143319, 144317, 145317, 146316, 147315, 148312, 149312, 150312, 151310, 152308, 153306, 154306, 155305, 156305, 157304, 158303, 159302, 160302, 161302, 162301, 163300, 164300, 165298, 166298, 167298, 168297, 169293, 170293, 171291, 172291, 173289, 174288, 175288, 176288, 177288, 178287, 179287, 180287, 181286, 182286, 183286, 184286, 185286, 186286, 187286, 188286, 189285, 190284, 191284, 192283, 193283, 194283, 195281, 196278, 197278, 198278, 199278, 200278, 201278, 202278, 203278, 204277, 205277, 206277, 207277, 208277, 209276, 210276, 211276, 212276, 213276, 214276, 215276, 216276, 217276, 218276, 219276, 220276, 221276, 222276, 223276, 224276, 225276, 226276, 227276, 228276, 229276, 230276, 231276, 232276, 233276, 234275, 235275, 236275, 237275, 238275, 239275, 240275, 241275, 242275, 243275, 244275, 245275, 246275, 247275, 248275, 249275, 250275, 251274, 252274, 253274, 254274, 255274, 256274, 257274, 258273, 259273, 260272, 261272, 262272, 263271, 264271, 265271, 266271, 267271, 268271, 269271, 270271, 271271, 272271, 273271, 274271, 275270, 276270, 277270, 278270, 279270, 280269, 281269, 282269, 283269, 284269, 285269, 286269, 287269, 288269, 289269, 290269, 291269, 292269, 293269, 294269, 295269, 296269, 297269, 298269, 299269, 300269, 301269, 302269, 303269, 304269, 305269, 306269, 307269, 308268, 309268, 310267, 311266, 312266, 313266, 314266, 315266, 316266, 317266, 318266, 319266, 320264, 321264, 322263, 323263, 324263, 325263, 326263, 327263, 328263, 329263, 330262, 331262, 332261, 333261, 334261, 335261, 336261, 337261, 338261, 339261, 340261, 341261, 342261, 343261, 344261, 345259, 346259, 347259, 348259, 349259, 350259, 351259, 352259, 353259, 354259, 355259, 356259, 357259, 358259, 359259, 360259, 361259, 362259, 363259, 364259, 365258, 366258, 367258, 368258, 369258, 370258, 371258, 372258, 373258, 374257, 375257, 376257, 377257, 378257, 379257, 380257, 381257, 382257, 383256, 384256, 385255, 386255, 387255, 388255, 389255, 390255, 391255, 392255, 393255, 394255, 395255, 396255, 397255, 398255, 399255, 400255, 401255, 402255, 403255, 404255, 405255, 406255, 407255, 408255, 409254, 410254, 411253, 412253, 413253, 414253, 415253, 416253, 417253, 418253, 419252, 420252, 421252, 422252, 423252, 424252, 425252, 426252, 427252, 428252, 429252, 430252, 431252, 432251, 433251, 434251, 435251, 436251, 437251, 438251, 439250, 440249, 441249, 442249, 443249, 444249, 445249, 446249, 447249, 448249, 449249, 450249, 451249, 452249, 453249, 454248, 455248, 456248, 457248, 458248], [850, 804, 766, 742, 712, 679, 657, 638, 613, 596, 582, 569, 553, 538, 523, 512, 499, 490, 476, 465, 455, 451, 442, 431, 418, 411, 401, 396, 392, 389, 379, 373, 366, 361, 352, 348, 339, 335, 328, 321, 314, 309, 308, 300, 293, 286, 283, 278, 275, 274, 268, 263, 258, 255, 250, 249, 242, 237, 231, 227, 225, 222, 219, 217, 212, 209, 207, 205, 204, 202, 201, 200, 195, 194, 190, 189, 188, 187, 186, 184, 183, 177, 175, 172, 170, 167, 165, 161, 157, 155, 153, 150, 147, 145, 143, 139, 138, 137, 136, 134, 132, 130, 130, 130, 129, 125, 123, 120, 118, 115, 115, 113, 111, 107, 106, 103, 103, 101, 100, 97, 97, 95, 94, 94, 94, 92, 91, 91, 90, 90, 89, 86, 85, 82, 81, 80, 80, 78, 78, 77, 75, 75, 74, 73, 71, 69, 69, 68, 67, 64, 64, 64, 62, 60, 58, 58, 57, 57, 56, 55, 54, 54, 54, 53, 52, 52, 50, 50, 50, 49, 45, 45, 43, 43, 41, 40, 40, 40, 40, 39, 39, 39, 38, 38, 38, 38, 38, 38, 38, 38, 37, 36, 36, 35, 35, 35, 33, 30, 30, 30, 30, 30, 30, 30, 30, 29, 29, 29, 29, 29, 28, 28, 28, 28, 28, 28, 28, 28, 28, 28, 28, 28, 28, 28, 28, 28, 28, 28, 28, 28, 28, 28, 28, 28, 28, 27, 27, 27, 27, 27, 27, 27, 27, 27, 27, 27, 27, 27, 27, 27, 27, 27, 26, 26, 26, 26, 26, 26, 26, 25, 25, 24, 24, 24, 23, 23, 23, 23, 23, 23, 23, 23, 23, 23, 23, 23, 22, 22, 22, 22, 22, 21, 21, 21, 21, 21, 21, 21, 21, 21, 21, 21, 21, 21, 21, 21, 21, 21, 21, 21, 21, 21, 21, 21, 21, 21, 21, 21, 21, 20, 20, 19, 18, 18, 18, 18, 18, 18, 18, 18, 18, 16, 16, 15, 15, 15, 15, 15, 15, 15, 15, 14, 14, 13, 13, 13, 13, 13, 13, 13, 13, 13, 13, 13, 13, 13, 11, 11, 11, 11, 11, 11, 11, 11, 11, 11, 11, 11, 11, 11, 11, 11, 11, 11, 11, 11, 10, 10, 10, 10, 10, 10, 10, 10, 10, 9, 9, 9, 9, 9, 9, 9, 9, 9, 8, 8, 7, 7, 7, 7, 7, 7, 7, 7, 7, 7, 7, 7, 7, 7, 7, 7, 7, 7, 7, 7, 7, 7, 7, 7, 6, 6, 5, 5, 5, 5, 5, 5, 5, 5, 4, 4, 4, 4, 4, 4, 4, 4, 4, 4, 4, 4, 4, 3, 3, 3, 3, 3, 3, 3, 2, 1, 1, 1, 1, 1, 1, 1, 1, 1, 1, 1, 1, 1, 1, 0, 0, 0, 0, 0], [458690, 457736, 456774, 455798, 454828, 453861, 452883, 451902, 450927, 449944, 448958, 447971, 446987, 446002, 445017, 444028, 443041, 442050, 441064, 440075, 439085, 438089, 437098, 436109, 435122, 434129, 433139, 432144, 431148, 430151, 429161, 428167, 427174, 426179, 425188, 424192, 423201, 422205, 421212, 420219, 419226, 418231, 417232, 416240, 415247, 414254, 413257, 412262, 411265, 410266, 409272, 408277, 407282, 406285, 405290, 404291, 403298, 402303, 401309, 400313, 399315, 398318, 397321, 396323, 395328, 394331, 393333, 392335, 391336, 390338, 389339, 388340, 387345, 386346, 385350, 384351, 383352, 382353, 381354, 380356, 379357, 378363, 377365, 376368, 375370, 374373, 373375, 372379, 371383, 370385, 369387, 368390, 367393, 366395, 365397, 364401, 363402, 362403, 361404, 360406, 359408, 358410, 357410, 356410, 355411, 354415, 353417, 352420, 351422, 350425, 349425, 348427, 347429, 346433, 345434, 344437, 343437, 342439, 341440, 340443, 339443, 338445, 337446, 336446, 335446, 334448, 333449, 332449, 331450, 330450, 329451, 328454, 327455, 326458, 325459, 324460, 323460, 322462, 321462, 320463, 319465, 318465, 317466, 316467, 315469, 314471, 313471, 312472, 311473, 310476, 309476, 308476, 307478, 306480, 305482, 304482, 303483, 302483, 301484, 300485, 299486, 298486, 297486, 296487, 295488, 294488, 293490, 292490, 291490, 290491, 289495, 288495, 287497, 286497, 285499, 284500, 283500, 282500, 281500, 280501, 279501, 278501, 277502, 276502, 275502, 274502, 273502, 272502, 271502, 270502, 269503, 268504, 267504, 266505, 265505, 264505, 263507, 262510, 261510, 260510, 259510, 258510, 257510, 256510, 255510, 254511, 253511, 252511, 251511, 250511, 249512, 248512, 247512, 246512, 245512, 244512, 243512, 242512, 241512, 240512, 239512, 238512, 237512, 236512, 235512, 234512, 233512, 232512, 231512, 230512, 229512, 228512, 227512, 226512, 225512, 224513, 223513, 222513, 221513, 220513, 219513, 218513, 217513, 216513, 215513, 214513, 213513, 212513, 211513, 210513, 209513, 208513, 207514, 206514, 205514, 204514, 203514, 202514, 201514, 200515, 199515, 198516, 197516, 196516, 195517, 194517, 193517, 192517, 191517, 190517, 189517, 188517, 187517, 186517, 185517, 184517, 183518, 182518, 181518, 180518, 179518, 178519, 177519, 176519, 175519, 174519, 173519, 172519, 171519, 170519, 169519, 168519, 167519, 166519, 165519, 164519, 163519, 162519, 161519, 160519, 159519, 158519, 157519, 156519, 155519, 154519, 153519, 152519, 151519, 150520, 149520, 148521, 147522, 146522, 145522, 144522, 143522, 142522, 141522, 140522, 139522, 138524, 137524, 136525, 135525, 134525, 133525, 132525, 131525, 130525, 129525, 128526, 127526, 126527, 125527, 124527, 123527, 122527, 121527, 120527, 119527, 118527, 117527, 116527, 115527, 114527, 113529, 112529, 111529, 110529, 109529, 108529, 107529, 106529, 105529, 104529, 103529, 102529, 101529, 100529, 99529, 98529, 97529, 96529, 95529, 94529, 93530, 92530, 91530, 90530, 89530, 88530, 87530, 86530, 85530, 84531, 83531, 82531, 81531, 80531, 79531, 78531, 77531, 76531, 75532, 74532, 73533, 72533, 71533, 70533, 69533, 68533, 67533, 66533, 65533, 64533, 63533, 62533, 61533, 60533, 59533, 58533, 57533, 56533, 55533, 54533, 53533, 52533, 51533, 50533, 49534, 48534, 47535, 46535, 45535, 44535, 43535, 42535, 41535, 40535, 39536, 38536, 37536, 36536, 35536, 34536, 33536, 32536, 31536, 30536, 29536, 28536, 27536, 26537, 25537, 24537, 23537, 22537, 21537, 20537, 19538, 18539, 17539, 16539, 15539, 14539, 13539, 12539, 11539, 10539, 9539, 8539, 7539, 6539, 5539, 4540, 3540, 2540, 1540, 540]), 'jaccard_coefficient': ([2, 48, 86, 110, 140, 173, 195, 214, 239, 256, 270, 283, 299, 314, 329, 340, 353, 362, 376, 387, 397, 401, 410, 421, 434, 441, 451, 456, 460, 463, 473, 479, 486, 491, 500, 504, 513, 517, 524, 531, 538, 543, 544, 552, 559, 566, 569, 574, 577, 578, 584, 589, 594, 597, 602, 603, 610, 615, 621, 625, 627, 630, 633, 635, 640, 643, 645, 647, 648, 650, 651, 652, 657, 658, 662, 663, 664, 665, 666, 668, 669, 675, 677, 680, 682, 685, 687, 691, 695, 697, 699, 702, 705, 707, 709, 713, 714, 715, 716, 718, 720, 722, 722, 722, 723, 727, 729, 732, 734, 737, 737, 739, 741, 745, 746, 749, 749, 751, 752, 755, 755, 757, 758, 758, 758, 760, 761, 761, 762, 762, 763, 766, 767, 770, 771, 772, 772, 774, 774, 775, 777, 777, 778, 779, 781, 783, 783, 784, 785, 788, 788, 788, 790, 792, 794, 794, 795, 795, 796, 797, 798, 798, 798, 799, 800, 800, 802, 802, 802, 803, 807, 807, 809, 809, 811, 812, 812, 812, 812, 813, 813, 813, 814, 814, 814, 814, 814, 814, 814, 814, 815, 816, 816, 817, 817, 817, 819, 822, 822, 822, 822, 822, 822, 822, 822, 823, 823, 823, 823, 823, 824, 824, 824, 824, 824, 824, 824, 824, 824, 824, 824, 824, 824, 824, 824, 824, 824, 824, 824, 824, 824, 824, 824, 824, 824, 825, 825, 825, 825, 825, 825, 825, 825, 825, 825, 825, 825, 825, 825, 825, 825, 825, 826, 826, 826, 826, 826, 826, 826, 827, 827, 828, 828, 828, 829, 829, 829, 829, 829, 829, 829, 829, 829, 829, 829, 829, 830, 830, 830, 830, 830, 831, 831, 831, 831, 831, 831, 831, 831, 831, 831, 831, 831, 831, 831, 831, 831, 831, 831, 831, 831, 831, 831, 831, 831, 831, 831, 831, 831, 832, 832, 833, 834, 834, 834, 834, 834, 834, 834, 834, 834, 836, 836, 837, 837, 837, 837, 837, 837, 837, 837, 838, 838, 839, 839, 839, 839, 839, 839, 839, 839, 839, 839, 839, 839, 839, 841, 841, 841, 841, 841, 841, 841, 841, 841, 841, 841, 841, 841, 841, 841, 841, 841, 841, 841, 841, 842, 842, 842, 842, 842, 842, 842, 842, 842, 843, 843, 843, 843, 843, 843, 843, 843, 843, 844, 844, 845, 845, 845, 845, 845, 845, 845, 845, 845, 845, 845, 845, 845, 845, 845, 845, 845, 845, 845, 845, 845, 845, 845, 845, 846, 846, 847, 847, 847, 847, 847, 847, 847, 847, 848, 848, 848, 848, 848, 848, 848, 848, 848, 848, 848, 848, 848, 849, 849, 849, 849, 849, 849, 849, 850, 851, 851, 851, 851, 851, 851, 851, 851, 851, 851, 851, 851, 851, 851, 852, 852, 852, 852, 852], [98, 1052, 2014, 2990, 3960, 4927, 5905, 6886, 7861, 8844, 9830, 10817, 11801, 12786, 13771, 14760, 15747, 16738, 17724, 18713, 19703, 20699, 21690, 22679, 23666, 24659, 25649, 26644, 27640, 28637, 29627, 30621, 31614, 32609, 33600, 34596, 35587, 36583, 37576, 38569, 39562, 40557, 41556, 42548, 43541, 44534, 45531, 46526, 47523, 48522, 49516, 50511, 51506, 52503, 53498, 54497, 55490, 56485, 57479, 58475, 59473, 60470, 61467, 62465, 63460, 64457, 65455, 66453, 67452, 68450, 69449, 70448, 71443, 72442, 73438, 74437, 75436, 76435, 77434, 78432, 79431, 80425, 81423, 82420, 83418, 84415, 85413, 86409, 87405, 88403, 89401, 90398, 91395, 92393, 93391, 94387, 95386, 96385, 97384, 98382, 99380, 100378, 101378, 102378, 103377, 104373, 105371, 106368, 107366, 108363, 109363, 110361, 111359, 112355, 113354, 114351, 115351, 116349, 117348, 118345, 119345, 120343, 121342, 122342, 123342, 124340, 125339, 126339, 127338, 128338, 129337, 130334, 131333, 132330, 133329, 134328, 135328, 136326, 137326, 138325, 139323, 140323, 141322, 142321, 143319, 144317, 145317, 146316, 147315, 148312, 149312, 150312, 151310, 152308, 153306, 154306, 155305, 156305, 157304, 158303, 159302, 160302, 161302, 162301, 163300, 164300, 165298, 166298, 167298, 168297, 169293, 170293, 171291, 172291, 173289, 174288, 175288, 176288, 177288, 178287, 179287, 180287, 181286, 182286, 183286, 184286, 185286, 186286, 187286, 188286, 189285, 190284, 191284, 192283, 193283, 194283, 195281, 196278, 197278, 198278, 199278, 200278, 201278, 202278, 203278, 204277, 205277, 206277, 207277, 208277, 209276, 210276, 211276, 212276, 213276, 214276, 215276, 216276, 217276, 218276, 219276, 220276, 221276, 222276, 223276, 224276, 225276, 226276, 227276, 228276, 229276, 230276, 231276, 232276, 233276, 234275, 235275, 236275, 237275, 238275, 239275, 240275, 241275, 242275, 243275, 244275, 245275, 246275, 247275, 248275, 249275, 250275, 251274, 252274, 253274, 254274, 255274, 256274, 257274, 258273, 259273, 260272, 261272, 262272, 263271, 264271, 265271, 266271, 267271, 268271, 269271, 270271, 271271, 272271, 273271, 274271, 275270, 276270, 277270, 278270, 279270, 280269, 281269, 282269, 283269, 284269, 285269, 286269, 287269, 288269, 289269, 290269, 291269, 292269, 293269, 294269, 295269, 296269, 297269, 298269, 299269, 300269, 301269, 302269, 303269, 304269, 305269, 306269, 307269, 308268, 309268, 310267, 311266, 312266, 313266, 314266, 315266, 316266, 317266, 318266, 319266, 320264, 321264, 322263, 323263, 324263, 325263, 326263, 327263, 328263, 329263, 330262, 331262, 332261, 333261, 334261, 335261, 336261, 337261, 338261, 339261, 340261, 341261, 342261, 343261, 344261, 345259, 346259, 347259, 348259, 349259, 350259, 351259, 352259, 353259, 354259, 355259, 356259, 357259, 358259, 359259, 360259, 361259, 362259, 363259, 364259, 365258, 366258, 367258, 368258, 369258, 370258, 371258, 372258, 373258, 374257, 375257, 376257, 377257, 378257, 379257, 380257, 381257, 382257, 383256, 384256, 385255, 386255, 387255, 388255, 389255, 390255, 391255, 392255, 393255, 394255, 395255, 396255, 397255, 398255, 399255, 400255, 401255, 402255, 403255, 404255, 405255, 406255, 407255, 408255, 409254, 410254, 411253, 412253, 413253, 414253, 415253, 416253, 417253, 418253, 419252, 420252, 421252, 422252, 423252, 424252, 425252, 426252, 427252, 428252, 429252, 430252, 431252, 432251, 433251, 434251, 435251, 436251, 437251, 438251, 439250, 440249, 441249, 442249, 443249, 444249, 445249, 446249, 447249, 448249, 449249, 450249, 451249, 452249, 453249, 454248, 455248, 456248, 457248, 458248], [850, 804, 766, 742, 712, 679, 657, 638, 613, 596, 582, 569, 553, 538, 523, 512, 499, 490, 476, 465, 455, 451, 442, 431, 418, 411, 401, 396, 392, 389, 379, 373, 366, 361, 352, 348, 339, 335, 328, 321, 314, 309, 308, 300, 293, 286, 283, 278, 275, 274, 268, 263, 258, 255, 250, 249, 242, 237, 231, 227, 225, 222, 219, 217, 212, 209, 207, 205, 204, 202, 201, 200, 195, 194, 190, 189, 188, 187, 186, 184, 183, 177, 175, 172, 170, 167, 165, 161, 157, 155, 153, 150, 147, 145, 143, 139, 138, 137, 136, 134, 132, 130, 130, 130, 129, 125, 123, 120, 118, 115, 115, 113, 111, 107, 106, 103, 103, 101, 100, 97, 97, 95, 94, 94, 94, 92, 91, 91, 90, 90, 89, 86, 85, 82, 81, 80, 80, 78, 78, 77, 75, 75, 74, 73, 71, 69, 69, 68, 67, 64, 64, 64, 62, 60, 58, 58, 57, 57, 56, 55, 54, 54, 54, 53, 52, 52, 50, 50, 50, 49, 45, 45, 43, 43, 41, 40, 40, 40, 40, 39, 39, 39, 38, 38, 38, 38, 38, 38, 38, 38, 37, 36, 36, 35, 35, 35, 33, 30, 30, 30, 30, 30, 30, 30, 30, 29, 29, 29, 29, 29, 28, 28, 28, 28, 28, 28, 28, 28, 28, 28, 28, 28, 28, 28, 28, 28, 28, 28, 28, 28, 28, 28, 28, 28, 28, 27, 27, 27, 27, 27, 27, 27, 27, 27, 27, 27, 27, 27, 27, 27, 27, 27, 26, 26, 26, 26, 26, 26, 26, 25, 25, 24, 24, 24, 23, 23, 23, 23, 23, 23, 23, 23, 23, 23, 23, 23, 22, 22, 22, 22, 22, 21, 21, 21, 21, 21, 21, 21, 21, 21, 21, 21, 21, 21, 21, 21, 21, 21, 21, 21, 21, 21, 21, 21, 21, 21, 21, 21, 21, 20, 20, 19, 18, 18, 18, 18, 18, 18, 18, 18, 18, 16, 16, 15, 15, 15, 15, 15, 15, 15, 15, 14, 14, 13, 13, 13, 13, 13, 13, 13, 13, 13, 13, 13, 13, 13, 11, 11, 11, 11, 11, 11, 11, 11, 11, 11, 11, 11, 11, 11, 11, 11, 11, 11, 11, 11, 10, 10, 10, 10, 10, 10, 10, 10, 10, 9, 9, 9, 9, 9, 9, 9, 9, 9, 8, 8, 7, 7, 7, 7, 7, 7, 7, 7, 7, 7, 7, 7, 7, 7, 7, 7, 7, 7, 7, 7, 7, 7, 7, 7, 6, 6, 5, 5, 5, 5, 5, 5, 5, 5, 4, 4, 4, 4, 4, 4, 4, 4, 4, 4, 4, 4, 4, 3, 3, 3, 3, 3, 3, 3, 2, 1, 1, 1, 1, 1, 1, 1, 1, 1, 1, 1, 1, 1, 1, 0, 0, 0, 0, 0], [458690, 457736, 456774, 455798, 454828, 453861, 452883, 451902, 450927, 449944, 448958, 447971, 446987, 446002, 445017, 444028, 443041, 442050, 441064, 440075, 439085, 438089, 437098, 436109, 435122, 434129, 433139, 432144, 431148, 430151, 429161, 428167, 427174, 426179, 425188, 424192, 423201, 422205, 421212, 420219, 419226, 418231, 417232, 416240, 415247, 414254, 413257, 412262, 411265, 410266, 409272, 408277, 407282, 406285, 405290, 404291, 403298, 402303, 401309, 400313, 399315, 398318, 397321, 396323, 395328, 394331, 393333, 392335, 391336, 390338, 389339, 388340, 387345, 386346, 385350, 384351, 383352, 382353, 381354, 380356, 379357, 378363, 377365, 376368, 375370, 374373, 373375, 372379, 371383, 370385, 369387, 368390, 367393, 366395, 365397, 364401, 363402, 362403, 361404, 360406, 359408, 358410, 357410, 356410, 355411, 354415, 353417, 352420, 351422, 350425, 349425, 348427, 347429, 346433, 345434, 344437, 343437, 342439, 341440, 340443, 339443, 338445, 337446, 336446, 335446, 334448, 333449, 332449, 331450, 330450, 329451, 328454, 327455, 326458, 325459, 324460, 323460, 322462, 321462, 320463, 319465, 318465, 317466, 316467, 315469, 314471, 313471, 312472, 311473, 310476, 309476, 308476, 307478, 306480, 305482, 304482, 303483, 302483, 301484, 300485, 299486, 298486, 297486, 296487, 295488, 294488, 293490, 292490, 291490, 290491, 289495, 288495, 287497, 286497, 285499, 284500, 283500, 282500, 281500, 280501, 279501, 278501, 277502, 276502, 275502, 274502, 273502, 272502, 271502, 270502, 269503, 268504, 267504, 266505, 265505, 264505, 263507, 262510, 261510, 260510, 259510, 258510, 257510, 256510, 255510, 254511, 253511, 252511, 251511, 250511, 249512, 248512, 247512, 246512, 245512, 244512, 243512, 242512, 241512, 240512, 239512, 238512, 237512, 236512, 235512, 234512, 233512, 232512, 231512, 230512, 229512, 228512, 227512, 226512, 225512, 224513, 223513, 222513, 221513, 220513, 219513, 218513, 217513, 216513, 215513, 214513, 213513, 212513, 211513, 210513, 209513, 208513, 207514, 206514, 205514, 204514, 203514, 202514, 201514, 200515, 199515, 198516, 197516, 196516, 195517, 194517, 193517, 192517, 191517, 190517, 189517, 188517, 187517, 186517, 185517, 184517, 183518, 182518, 181518, 180518, 179518, 178519, 177519, 176519, 175519, 174519, 173519, 172519, 171519, 170519, 169519, 168519, 167519, 166519, 165519, 164519, 163519, 162519, 161519, 160519, 159519, 158519, 157519, 156519, 155519, 154519, 153519, 152519, 151519, 150520, 149520, 148521, 147522, 146522, 145522, 144522, 143522, 142522, 141522, 140522, 139522, 138524, 137524, 136525, 135525, 134525, 133525, 132525, 131525, 130525, 129525, 128526, 127526, 126527, 125527, 124527, 123527, 122527, 121527, 120527, 119527, 118527, 117527, 116527, 115527, 114527, 113529, 112529, 111529, 110529, 109529, 108529, 107529, 106529, 105529, 104529, 103529, 102529, 101529, 100529, 99529, 98529, 97529, 96529, 95529, 94529, 93530, 92530, 91530, 90530, 89530, 88530, 87530, 86530, 85530, 84531, 83531, 82531, 81531, 80531, 79531, 78531, 77531, 76531, 75532, 74532, 73533, 72533, 71533, 70533, 69533, 68533, 67533, 66533, 65533, 64533, 63533, 62533, 61533, 60533, 59533, 58533, 57533, 56533, 55533, 54533, 53533, 52533, 51533, 50533, 49534, 48534, 47535, 46535, 45535, 44535, 43535, 42535, 41535, 40535, 39536, 38536, 37536, 36536, 35536, 34536, 33536, 32536, 31536, 30536, 29536, 28536, 27536, 26537, 25537, 24537, 23537, 22537, 21537, 20537, 19538, 18539, 17539, 16539, 15539, 14539, 13539, 12539, 11539, 10539, 9539, 8539, 7539, 6539, 5539, 4540, 3540, 2540, 1540, 540]), 'salton_cosine_similarity': ([3, 50, 80, 121, 143, 163, 187, 209, 225, 239, 251, 272, 288, 304, 320, 328, 346, 353, 365, 381, 391, 403, 415, 428, 436, 447, 454, 460, 472, 479, 489, 490, 499, 507, 516, 523, 528, 531, 535, 538, 542, 550, 555, 562, 564, 568, 572, 585, 591, 598, 601, 608, 617, 623, 625, 628, 632, 634, 638, 643, 644, 646, 648, 651, 656, 659, 661, 667, 667, 670, 670, 674, 677, 680, 682, 684, 686, 687, 687, 688, 691, 695, 699, 700, 701, 702, 705, 707, 711, 712, 713, 717, 718, 719, 719, 723, 725, 727, 728, 732, 735, 736, 740, 741, 742, 743, 746, 748, 751, 752, 752, 753, 756, 756, 758, 758, 758, 758, 761, 763, 764, 766, 766, 767, 768, 770, 772, 772, 772, 772, 774, 775, 775, 775, 775, 778, 779, 780, 780, 781, 783, 786, 788, 788, 788, 788, 791, 792, 792, 793, 794, 794, 794, 795, 797, 797, 797, 798, 799, 801, 804, 804, 804, 804, 805, 806, 806, 806, 806, 808, 808, 812, 814, 814, 814, 814, 814, 814, 814, 815, 815, 815, 816, 817, 818, 819, 819, 820, 820, 820, 820, 820, 820, 821, 821, 821, 821, 822, 822, 822, 822, 822, 822, 822, 822, 823, 823, 823, 823, 823, 824, 824, 824, 824, 824, 824, 824, 824, 824, 824, 824, 824, 824, 824, 824, 824, 824, 824, 824, 824, 824, 824, 824, 824, 824, 825, 825, 825, 825, 825, 825, 825, 825, 825, 825, 825, 825, 825, 825, 825, 825, 825, 826, 826, 826, 826, 826, 826, 826, 827, 827, 828, 828, 828, 829, 829, 829, 829, 829, 829, 829, 829, 829, 829, 829, 829, 830, 830, 830, 830, 830, 831, 831, 831, 831, 831, 831, 831, 831, 831, 831, 831, 831, 831, 831, 831, 831, 831, 831, 831, 831, 831, 831, 831, 831, 831, 831, 831, 831, 832, 832, 833, 834, 834, 834, 834, 834, 834, 834, 834, 834, 836, 836, 837, 837, 837, 837, 837, 837, 837, 837, 838, 838, 839, 839, 839, 839, 839, 839, 839, 839, 839, 839, 839, 839, 839, 841, 841, 841, 841, 841, 841, 841, 841, 841, 841, 841, 841, 841, 841, 841, 841, 841, 841, 841, 841, 842, 842, 842, 842, 842, 842, 842, 842, 842, 843, 843, 843, 843, 843, 843, 843, 843, 843, 844, 844, 845, 845, 845, 845, 845, 845, 845, 845, 845, 845, 845, 845, 845, 845, 845, 845, 845, 845, 845, 845, 845, 845, 845, 845, 846, 846, 847, 847, 847, 847, 847, 847, 847, 847, 848, 848, 848, 848, 848, 848, 848, 848, 848, 848, 848, 848, 848, 849, 849, 849, 849, 849, 849, 849, 850, 851, 851, 851, 851, 851, 851, 851, 851, 851, 851, 851, 851, 851, 851, 852, 852, 852, 852, 852], [97, 1050, 2020, 2979, 3957, 4937, 5913, 6891, 7875, 8861, 9849, 10828, 11812, 12796, 13780, 14772, 15754, 16747, 17735, 18719, 19709, 20697, 21685, 22672, 23664, 24653, 25646, 26640, 27628, 28621, 29611, 30610, 31601, 32593, 33584, 34577, 35572, 36569, 37565, 38562, 39558, 40550, 41545, 42538, 43536, 44532, 45528, 46515, 47509, 48502, 49499, 50492, 51483, 52477, 53475, 54472, 55468, 56466, 57462, 58457, 59456, 60454, 61452, 62449, 63444, 64441, 65439, 66433, 67433, 68430, 69430, 70426, 71423, 72420, 73418, 74416, 75414, 76413, 77413, 78412, 79409, 80405, 81401, 82400, 83399, 84398, 85395, 86393, 87389, 88388, 89387, 90383, 91382, 92381, 93381, 94377, 95375, 96373, 97372, 98368, 99365, 100364, 101360, 102359, 103358, 104357, 105354, 106352, 107349, 108348, 109348, 110347, 111344, 112344, 113342, 114342, 115342, 116342, 117339, 118337, 119336, 120334, 121334, 122333, 123332, 124330, 125328, 126328, 127328, 128328, 129326, 130325, 131325, 132325, 133325, 134322, 135321, 136320, 137320, 138319, 139317, 140314, 141312, 142312, 143312, 144312, 145309, 146308, 147308, 148307, 149306, 150306, 151306, 152305, 153303, 154303, 155303, 156302, 157301, 158299, 159296, 160296, 161296, 162296, 163295, 164294, 165294, 166294, 167294, 168292, 169292, 170288, 171286, 172286, 173286, 174286, 175286, 176286, 177286, 178285, 179285, 180285, 181284, 182283, 183282, 184281, 185281, 186280, 187280, 188280, 189280, 190280, 191280, 192279, 193279, 194279, 195279, 196278, 197278, 198278, 199278, 200278, 201278, 202278, 203278, 204277, 205277, 206277, 207277, 208277, 209276, 210276, 211276, 212276, 213276, 214276, 215276, 216276, 217276, 218276, 219276, 220276, 221276, 222276, 223276, 224276, 225276, 226276, 227276, 228276, 229276, 230276, 231276, 232276, 233276, 234275, 235275, 236275, 237275, 238275, 239275, 240275, 241275, 242275, 243275, 244275, 245275, 246275, 247275, 248275, 249275, 250275, 251274, 252274, 253274, 254274, 255274, 256274, 257274, 258273, 259273, 260272, 261272, 262272, 263271, 264271, 265271, 266271, 267271, 268271, 269271, 270271, 271271, 272271, 273271, 274271, 275270, 276270, 277270, 278270, 279270, 280269, 281269, 282269, 283269, 284269, 285269, 286269, 287269, 288269, 289269, 290269, 291269, 292269, 293269, 294269, 295269, 296269, 297269, 298269, 299269, 300269, 301269, 302269, 303269, 304269, 305269, 306269, 307269, 308268, 309268, 310267, 311266, 312266, 313266, 314266, 315266, 316266, 317266, 318266, 319266, 320264, 321264, 322263, 323263, 324263, 325263, 326263, 327263, 328263, 329263, 330262, 331262, 332261, 333261, 334261, 335261, 336261, 337261, 338261, 339261, 340261, 341261, 342261, 343261, 344261, 345259, 346259, 347259, 348259, 349259, 350259, 351259, 352259, 353259, 354259, 355259, 356259, 357259, 358259, 359259, 360259, 361259, 362259, 363259, 364259, 365258, 366258, 367258, 368258, 369258, 370258, 371258, 372258, 373258, 374257, 375257, 376257, 377257, 378257, 379257, 380257, 381257, 382257, 383256, 384256, 385255, 386255, 387255, 388255, 389255, 390255, 391255, 392255, 393255, 394255, 395255, 396255, 397255, 398255, 399255, 400255, 401255, 402255, 403255, 404255, 405255, 406255, 407255, 408255, 409254, 410254, 411253, 412253, 413253, 414253, 415253, 416253, 417253, 418253, 419252, 420252, 421252, 422252, 423252, 424252, 425252, 426252, 427252, 428252, 429252, 430252, 431252, 432251, 433251, 434251, 435251, 436251, 437251, 438251, 439250, 440249, 441249, 442249, 443249, 444249, 445249, 446249, 447249, 448249, 449249, 450249, 451249, 452249, 453249, 454248, 455248, 456248, 457248, 458248], [849, 802, 772, 731, 709, 689, 665, 643, 627, 613, 601, 580, 564, 548, 532, 524, 506, 499, 487, 471, 461, 449, 437, 424, 416, 405, 398, 392, 380, 373, 363, 362, 353, 345, 336, 329, 324, 321, 317, 314, 310, 302, 297, 290, 288, 284, 280, 267, 261, 254, 251, 244, 235, 229, 227, 224, 220, 218, 214, 209, 208, 206, 204, 201, 196, 193, 191, 185, 185, 182, 182, 178, 175, 172, 170, 168, 166, 165, 165, 164, 161, 157, 153, 152, 151, 150, 147, 145, 141, 140, 139, 135, 134, 133, 133, 129, 127, 125, 124, 120, 117, 116, 112, 111, 110, 109, 106, 104, 101, 100, 100, 99, 96, 96, 94, 94, 94, 94, 91, 89, 88, 86, 86, 85, 84, 82, 80, 80, 80, 80, 78, 77, 77, 77, 77, 74, 73, 72, 72, 71, 69, 66, 64, 64, 64, 64, 61, 60, 60, 59, 58, 58, 58, 57, 55, 55, 55, 54, 53, 51, 48, 48, 48, 48, 47, 46, 46, 46, 46, 44, 44, 40, 38, 38, 38, 38, 38, 38, 38, 37, 37, 37, 36, 35, 34, 33, 33, 32, 32, 32, 32, 32, 32, 31, 31, 31, 31, 30, 30, 30, 30, 30, 30, 30, 30, 29, 29, 29, 29, 29, 28, 28, 28, 28, 28, 28, 28, 28, 28, 28, 28, 28, 28, 28, 28, 28, 28, 28, 28, 28, 28, 28, 28, 28, 28, 27, 27, 27, 27, 27, 27, 27, 27, 27, 27, 27, 27, 27, 27, 27, 27, 27, 26, 26, 26, 26, 26, 26, 26, 25, 25, 24, 24, 24, 23, 23, 23, 23, 23, 23, 23, 23, 23, 23, 23, 23, 22, 22, 22, 22, 22, 21, 21, 21, 21, 21, 21, 21, 21, 21, 21, 21, 21, 21, 21, 21, 21, 21, 21, 21, 21, 21, 21, 21, 21, 21, 21, 21, 21, 20, 20, 19, 18, 18, 18, 18, 18, 18, 18, 18, 18, 16, 16, 15, 15, 15, 15, 15, 15, 15, 15, 14, 14, 13, 13, 13, 13, 13, 13, 13, 13, 13, 13, 13, 13, 13, 11, 11, 11, 11, 11, 11, 11, 11, 11, 11, 11, 11, 11, 11, 11, 11, 11, 11, 11, 11, 10, 10, 10, 10, 10, 10, 10, 10, 10, 9, 9, 9, 9, 9, 9, 9, 9, 9, 8, 8, 7, 7, 7, 7, 7, 7, 7, 7, 7, 7, 7, 7, 7, 7, 7, 7, 7, 7, 7, 7, 7, 7, 7, 7, 6, 6, 5, 5, 5, 5, 5, 5, 5, 5, 4, 4, 4, 4, 4, 4, 4, 4, 4, 4, 4, 4, 4, 3, 3, 3, 3, 3, 3, 3, 2, 1, 1, 1, 1, 1, 1, 1, 1, 1, 1, 1, 1, 1, 1, 0, 0, 0, 0, 0], [458691, 457738, 456768, 455809, 454831, 453851, 452875, 451897, 450913, 449927, 448939, 447960, 446976, 445992, 445008, 444016, 443034, 442041, 441053, 440069, 439079, 438091, 437103, 436116, 435124, 434135, 433142, 432148, 431160, 430167, 429177, 428178, 427187, 426195, 425204, 424211, 423216, 422219, 421223, 420226, 419230, 418238, 417243, 416250, 415252, 414256, 413260, 412273, 411279, 410286, 409289, 408296, 407305, 406311, 405313, 404316, 403320, 402322, 401326, 400331, 399332, 398334, 397336, 396339, 395344, 394347, 393349, 392355, 391355, 390358, 389358, 388362, 387365, 386368, 385370, 384372, 383374, 382375, 381375, 380376, 379379, 378383, 377387, 376388, 375389, 374390, 373393, 372395, 371399, 370400, 369401, 368405, 367406, 366407, 365407, 364411, 363413, 362415, 361416, 360420, 359423, 358424, 357428, 356429, 355430, 354431, 353434, 352436, 351439, 350440, 349440, 348441, 347444, 346444, 345446, 344446, 343446, 342446, 341449, 340451, 339452, 338454, 337454, 336455, 335456, 334458, 333460, 332460, 331460, 330460, 329462, 328463, 327463, 326463, 325463, 324466, 323467, 322468, 321468, 320469, 319471, 318474, 317476, 316476, 315476, 314476, 313479, 312480, 311480, 310481, 309482, 308482, 307482, 306483, 305485, 304485, 303485, 302486, 301487, 300489, 299492, 298492, 297492, 296492, 295493, 294494, 293494, 292494, 291494, 290496, 289496, 288500, 287502, 286502, 285502, 284502, 283502, 282502, 281502, 280503, 279503, 278503, 277504, 276505, 275506, 274507, 273507, 272508, 271508, 270508, 269508, 268508, 267508, 266509, 265509, 264509, 263509, 262510, 261510, 260510, 259510, 258510, 257510, 256510, 255510, 254511, 253511, 252511, 251511, 250511, 249512, 248512, 247512, 246512, 245512, 244512, 243512, 242512, 241512, 240512, 239512, 238512, 237512, 236512, 235512, 234512, 233512, 232512, 231512, 230512, 229512, 228512, 227512, 226512, 225512, 224513, 223513, 222513, 221513, 220513, 219513, 218513, 217513, 216513, 215513, 214513, 213513, 212513, 211513, 210513, 209513, 208513, 207514, 206514, 205514, 204514, 203514, 202514, 201514, 200515, 199515, 198516, 197516, 196516, 195517, 194517, 193517, 192517, 191517, 190517, 189517, 188517, 187517, 186517, 185517, 184517, 183518, 182518, 181518, 180518, 179518, 178519, 177519, 176519, 175519, 174519, 173519, 172519, 171519, 170519, 169519, 168519, 167519, 166519, 165519, 164519, 163519, 162519, 161519, 160519, 159519, 158519, 157519, 156519, 155519, 154519, 153519, 152519, 151519, 150520, 149520, 148521, 147522, 146522, 145522, 144522, 143522, 142522, 141522, 140522, 139522, 138524, 137524, 136525, 135525, 134525, 133525, 132525, 131525, 130525, 129525, 128526, 127526, 126527, 125527, 124527, 123527, 122527, 121527, 120527, 119527, 118527, 117527, 116527, 115527, 114527, 113529, 112529, 111529, 110529, 109529, 108529, 107529, 106529, 105529, 104529, 103529, 102529, 101529, 100529, 99529, 98529, 97529, 96529, 95529, 94529, 93530, 92530, 91530, 90530, 89530, 88530, 87530, 86530, 85530, 84531, 83531, 82531, 81531, 80531, 79531, 78531, 77531, 76531, 75532, 74532, 73533, 72533, 71533, 70533, 69533, 68533, 67533, 66533, 65533, 64533, 63533, 62533, 61533, 60533, 59533, 58533, 57533, 56533, 55533, 54533, 53533, 52533, 51533, 50533, 49534, 48534, 47535, 46535, 45535, 44535, 43535, 42535, 41535, 40535, 39536, 38536, 37536, 36536, 35536, 34536, 33536, 32536, 31536, 30536, 29536, 28536, 27536, 26537, 25537, 24537, 23537, 22537, 21537, 20537, 19538, 18539, 17539, 16539, 15539, 14539, 13539, 12539, 11539, 10539, 9539, 8539, 7539, 6539, 5539, 4540, 3540, 2540, 1540, 540]), 'preferential_attachment': ([6, 45, 86, 109, 126, 143, 160, 172, 186, 192, 203, 215, 233, 245, 251, 260, 273, 283, 289, 297, 306, 313, 318, 322, 326, 336, 340, 343, 352, 358, 366, 369, 375, 382, 390, 399, 402, 408, 411, 415, 422, 424, 428, 431, 438, 441, 445, 446, 452, 454, 457, 462, 463, 463, 463, 467, 468, 470, 473, 475, 476, 478, 479, 484, 488, 490, 493, 497, 497, 498, 499, 503, 505, 510, 511, 514, 516, 521, 526, 528, 530, 531, 532, 535, 536, 540, 543, 546, 548, 551, 556, 560, 564, 566, 567, 569, 571, 572, 577, 578, 582, 585, 586, 589, 592, 593, 598, 600, 600, 602, 603, 603, 605, 607, 609, 609, 610, 612, 614, 616, 618, 622, 622, 623, 625, 627, 629, 630, 630, 631, 633, 636, 638, 639, 641, 642, 645, 645, 646, 648, 650, 651, 653, 659, 661, 662, 667, 669, 671, 672, 674, 675, 677, 679, 679, 680, 681, 684, 685, 687, 690, 692, 696, 700, 703, 705, 706, 707, 709, 710, 714, 715, 715, 715, 719, 723, 725, 726, 726, 728, 731, 731, 732, 735, 737, 739, 741, 743, 746, 747, 747, 747, 747, 748, 751, 752, 754, 756, 757, 758, 759, 759, 761, 761, 762, 763, 764, 765, 765, 766, 767, 768, 769, 769, 771, 771, 774, 774, 775, 777, 777, 778, 778, 781, 781, 782, 783, 784, 784, 784, 785, 786, 787, 789, 791, 791, 792, 792, 792, 793, 793, 793, 794, 797, 798, 799, 799, 802, 803, 805, 806, 807, 807, 808, 809, 810, 811, 811, 812, 813, 814, 815, 815, 815, 815, 815, 815, 817, 818, 819, 819, 819, 821, 821, 824, 824, 824, 824, 825, 826, 827, 827, 827, 827, 827, 828, 828, 828, 828, 829, 829, 829, 829, 831, 831, 831, 832, 832, 832, 832, 832, 832, 832, 832, 832, 832, 832, 832, 833, 833, 833, 833, 833, 833, 834, 835, 835, 835, 835, 836, 836, 836, 836, 836, 836, 836, 836, 836, 836, 837, 837, 837, 837, 837, 837, 837, 837, 838, 838, 838, 838, 838, 838, 838, 839, 839, 839, 839, 839, 839, 839, 839, 839, 839, 839, 841, 841, 841, 841, 842, 842, 842, 842, 842, 842, 842, 842, 842, 842, 842, 842, 842, 842, 842, 842, 842, 842, 842, 842, 842, 842, 843, 843, 843, 843, 843, 843, 843, 843, 843, 843, 844, 845, 845, 845, 845, 845, 845, 845, 845, 845, 845, 845, 847, 847, 847, 847, 847, 848, 848, 849, 849, 849, 849, 849, 849, 849, 849, 849, 850, 850, 851, 851, 851, 851, 851, 851, 852, 852, 852, 852, 852, 852, 852, 852, 852, 852, 852, 852, 852, 852, 852, 852, 852, 852, 852, 852, 852, 852, 852, 852, 852, 852, 852, 852, 852, 852, 852, 852, 852], [94, 1055, 2014, 2991, 3974, 4957, 5940, 6928, 7914, 8908, 9897, 10885, 11867, 12855, 13849, 14840, 15827, 16817, 17811, 18803, 19794, 20787, 21782, 22778, 23774, 24764, 25760, 26757, 27748, 28742, 29734, 30731, 31725, 32718, 33710, 34701, 35698, 36692, 37689, 38685, 39678, 40676, 41672, 42669, 43662, 44659, 45655, 46654, 47648, 48646, 49643, 50638, 51637, 52637, 53637, 54633, 55632, 56630, 57627, 58625, 59624, 60622, 61621, 62616, 63612, 64610, 65607, 66603, 67603, 68602, 69601, 70597, 71595, 72590, 73589, 74586, 75584, 76579, 77574, 78572, 79570, 80569, 81568, 82565, 83564, 84560, 85557, 86554, 87552, 88549, 89544, 90540, 91536, 92534, 93533, 94531, 95529, 96528, 97523, 98522, 99518, 100515, 101514, 102511, 103508, 104507, 105502, 106500, 107500, 108498, 109497, 110497, 111495, 112493, 113491, 114491, 115490, 116488, 117486, 118484, 119482, 120478, 121478, 122477, 123475, 124473, 125471, 126470, 127470, 128469, 129467, 130464, 131462, 132461, 133459, 134458, 135455, 136455, 137454, 138452, 139450, 140449, 141447, 142441, 143439, 144438, 145433, 146431, 147429, 148428, 149426, 150425, 151423, 152421, 153421, 154420, 155419, 156416, 157415, 158413, 159410, 160408, 161404, 162400, 163397, 164395, 165394, 166393, 167391, 168390, 169386, 170385, 171385, 172385, 173381, 174377, 175375, 176374, 177374, 178372, 179369, 180369, 181368, 182365, 183363, 184361, 185359, 186357, 187354, 188353, 189353, 190353, 191353, 192352, 193349, 194348, 195346, 196344, 197343, 198342, 199341, 200341, 201339, 202339, 203338, 204337, 205336, 206335, 207335, 208334, 209333, 210332, 211331, 212331, 213329, 214329, 215326, 216326, 217325, 218323, 219323, 220322, 221322, 222319, 223319, 224318, 225317, 226316, 227316, 228316, 229315, 230314, 231313, 232311, 233309, 234309, 235308, 236308, 237308, 238307, 239307, 240307, 241306, 242303, 243302, 244301, 245301, 246298, 247297, 248295, 249294, 250293, 251293, 252292, 253291, 254290, 255289, 256289, 257288, 258287, 259286, 260285, 261285, 262285, 263285, 264285, 265285, 266283, 267282, 268281, 269281, 270281, 271279, 272279, 273276, 274276, 275276, 276276, 277275, 278274, 279273, 280273, 281273, 282273, 283273, 284272, 285272, 286272, 287272, 288271, 289271, 290271, 291271, 292269, 293269, 294269, 295268, 296268, 297268, 298268, 299268, 300268, 301268, 302268, 303268, 304268, 305268, 306268, 307267, 308267, 309267, 310267, 311267, 312267, 313266, 314265, 315265, 316265, 317265, 318264, 319264, 320264, 321264, 322264, 323264, 324264, 325264, 326264, 327264, 328263, 329263, 330263, 331263, 332263, 333263, 334263, 335263, 336262, 337262, 338262, 339262, 340262, 341262, 342262, 343261, 344261, 345261, 346261, 347261, 348261, 349261, 350261, 351261, 352261, 353261, 354259, 355259, 356259, 357259, 358258, 359258, 360258, 361258, 362258, 363258, 364258, 365258, 366258, 367258, 368258, 369258, 370258, 371258, 372258, 373258, 374258, 375258, 376258, 377258, 378258, 379258, 380257, 381257, 382257, 383257, 384257, 385257, 386257, 387257, 388257, 389257, 390256, 391255, 392255, 393255, 394255, 395255, 396255, 397255, 398255, 399255, 400255, 401255, 402253, 403253, 404253, 405253, 406253, 407252, 408252, 409251, 410251, 411251, 412251, 413251, 414251, 415251, 416251, 417251, 418250, 419250, 420249, 421249, 422249, 423249, 424249, 425249, 426248, 427248, 428248, 429248, 430248, 431248, 432248, 433248, 434248, 435248, 436248, 437248, 438248, 439248, 440248, 441248, 442248, 443248, 444248, 445248, 446248, 447248, 448248, 449248, 450248, 451248, 452248, 453248, 454248, 455248, 456248, 457248, 458248], [846, 807, 766, 743, 726, 709, 692, 680, 666, 660, 649, 637, 619, 607, 601, 592, 579, 569, 563, 555, 546, 539, 534, 530, 526, 516, 512, 509, 500, 494, 486, 483, 477, 470, 462, 453, 450, 444, 441, 437, 430, 428, 424, 421, 414, 411, 407, 406, 400, 398, 395, 390, 389, 389, 389, 385, 384, 382, 379, 377, 376, 374, 373, 368, 364, 362, 359, 355, 355, 354, 353, 349, 347, 342, 341, 338, 336, 331, 326, 324, 322, 321, 320, 317, 316, 312, 309, 306, 304, 301, 296, 292, 288, 286, 285, 283, 281, 280, 275, 274, 270, 267, 266, 263, 260, 259, 254, 252, 252, 250, 249, 249, 247, 245, 243, 243, 242, 240, 238, 236, 234, 230, 230, 229, 227, 225, 223, 222, 222, 221, 219, 216, 214, 213, 211, 210, 207, 207, 206, 204, 202, 201, 199, 193, 191, 190, 185, 183, 181, 180, 178, 177, 175, 173, 173, 172, 171, 168, 167, 165, 162, 160, 156, 152, 149, 147, 146, 145, 143, 142, 138, 137, 137, 137, 133, 129, 127, 126, 126, 124, 121, 121, 120, 117, 115, 113, 111, 109, 106, 105, 105, 105, 105, 104, 101, 100, 98, 96, 95, 94, 93, 93, 91, 91, 90, 89, 88, 87, 87, 86, 85, 84, 83, 83, 81, 81, 78, 78, 77, 75, 75, 74, 74, 71, 71, 70, 69, 68, 68, 68, 67, 66, 65, 63, 61, 61, 60, 60, 60, 59, 59, 59, 58, 55, 54, 53, 53, 50, 49, 47, 46, 45, 45, 44, 43, 42, 41, 41, 40, 39, 38, 37, 37, 37, 37, 37, 37, 35, 34, 33, 33, 33, 31, 31, 28, 28, 28, 28, 27, 26, 25, 25, 25, 25, 25, 24, 24, 24, 24, 23, 23, 23, 23, 21, 21, 21, 20, 20, 20, 20, 20, 20, 20, 20, 20, 20, 20, 20, 19, 19, 19, 19, 19, 19, 18, 17, 17, 17, 17, 16, 16, 16, 16, 16, 16, 16, 16, 16, 16, 15, 15, 15, 15, 15, 15, 15, 15, 14, 14, 14, 14, 14, 14, 14, 13, 13, 13, 13, 13, 13, 13, 13, 13, 13, 13, 11, 11, 11, 11, 10, 10, 10, 10, 10, 10, 10, 10, 10, 10, 10, 10, 10, 10, 10, 10, 10, 10, 10, 10, 10, 10, 9, 9, 9, 9, 9, 9, 9, 9, 9, 9, 8, 7, 7, 7, 7, 7, 7, 7, 7, 7, 7, 7, 5, 5, 5, 5, 5, 4, 4, 3, 3, 3, 3, 3, 3, 3, 3, 3, 2, 2, 1, 1, 1, 1, 1, 1, 0, 0, 0, 0, 0, 0, 0, 0, 0, 0, 0, 0, 0, 0, 0, 0, 0, 0, 0, 0, 0, 0, 0, 0, 0, 0, 0, 0, 0, 0, 0, 0, 0], [458694, 457733, 456774, 455797, 454814, 453831, 452848, 451860, 450874, 449880, 448891, 447903, 446921, 445933, 444939, 443948, 442961, 441971, 440977, 439985, 438994, 438001, 437006, 436010, 435014, 434024, 433028, 432031, 431040, 430046, 429054, 428057, 427063, 426070, 425078, 424087, 423090, 422096, 421099, 420103, 419110, 418112, 417116, 416119, 415126, 414129, 413133, 412134, 411140, 410142, 409145, 408150, 407151, 406151, 405151, 404155, 403156, 402158, 401161, 400163, 399164, 398166, 397167, 396172, 395176, 394178, 393181, 392185, 391185, 390186, 389187, 388191, 387193, 386198, 385199, 384202, 383204, 382209, 381214, 380216, 379218, 378219, 377220, 376223, 375224, 374228, 373231, 372234, 371236, 370239, 369244, 368248, 367252, 366254, 365255, 364257, 363259, 362260, 361265, 360266, 359270, 358273, 357274, 356277, 355280, 354281, 353286, 352288, 351288, 350290, 349291, 348291, 347293, 346295, 345297, 344297, 343298, 342300, 341302, 340304, 339306, 338310, 337310, 336311, 335313, 334315, 333317, 332318, 331318, 330319, 329321, 328324, 327326, 326327, 325329, 324330, 323333, 322333, 321334, 320336, 319338, 318339, 317341, 316347, 315349, 314350, 313355, 312357, 311359, 310360, 309362, 308363, 307365, 306367, 305367, 304368, 303369, 302372, 301373, 300375, 299378, 298380, 297384, 296388, 295391, 294393, 293394, 292395, 291397, 290398, 289402, 288403, 287403, 286403, 285407, 284411, 283413, 282414, 281414, 280416, 279419, 278419, 277420, 276423, 275425, 274427, 273429, 272431, 271434, 270435, 269435, 268435, 267435, 266436, 265439, 264440, 263442, 262444, 261445, 260446, 259447, 258447, 257449, 256449, 255450, 254451, 253452, 252453, 251453, 250454, 249455, 248456, 247457, 246457, 245459, 244459, 243462, 242462, 241463, 240465, 239465, 238466, 237466, 236469, 235469, 234470, 233471, 232472, 231472, 230472, 229473, 228474, 227475, 226477, 225479, 224479, 223480, 222480, 221480, 220481, 219481, 218481, 217482, 216485, 215486, 214487, 213487, 212490, 211491, 210493, 209494, 208495, 207495, 206496, 205497, 204498, 203499, 202499, 201500, 200501, 199502, 198503, 197503, 196503, 195503, 194503, 193503, 192505, 191506, 190507, 189507, 188507, 187509, 186509, 185512, 184512, 183512, 182512, 181513, 180514, 179515, 178515, 177515, 176515, 175515, 174516, 173516, 172516, 171516, 170517, 169517, 168517, 167517, 166519, 165519, 164519, 163520, 162520, 161520, 160520, 159520, 158520, 157520, 156520, 155520, 154520, 153520, 152520, 151521, 150521, 149521, 148521, 147521, 146521, 145522, 144523, 143523, 142523, 141523, 140524, 139524, 138524, 137524, 136524, 135524, 134524, 133524, 132524, 131524, 130525, 129525, 128525, 127525, 126525, 125525, 124525, 123525, 122526, 121526, 120526, 119526, 118526, 117526, 116526, 115527, 114527, 113527, 112527, 111527, 110527, 109527, 108527, 107527, 106527, 105527, 104529, 103529, 102529, 101529, 100530, 99530, 98530, 97530, 96530, 95530, 94530, 93530, 92530, 91530, 90530, 89530, 88530, 87530, 86530, 85530, 84530, 83530, 82530, 81530, 80530, 79530, 78531, 77531, 76531, 75531, 74531, 73531, 72531, 71531, 70531, 69531, 68532, 67533, 66533, 65533, 64533, 63533, 62533, 61533, 60533, 59533, 58533, 57533, 56535, 55535, 54535, 53535, 52535, 51536, 50536, 49537, 48537, 47537, 46537, 45537, 44537, 43537, 42537, 41537, 40538, 39538, 38539, 37539, 36539, 35539, 34539, 33539, 32540, 31540, 30540, 29540, 28540, 27540, 26540, 25540, 24540, 23540, 22540, 21540, 20540, 19540, 18540, 17540, 16540, 15540, 14540, 13540, 12540, 11540, 10540, 9540, 8540, 7540, 6540, 5540, 4540, 3540, 2540, 1540, 540]), 'katz_based_metric': ([10, 58, 97, 123, 139, 164, 175, 188, 204, 219, 237, 248, 262, 277, 289, 302, 318, 331, 342, 347, 354, 363, 371, 382, 391, 403, 410, 418, 429, 434, 438, 443, 449, 455, 460, 464, 467, 480, 489, 493, 497, 501, 507, 514, 519, 523, 528, 534, 535, 537, 540, 542, 546, 553, 561, 562, 566, 572, 578, 580, 584, 586, 592, 595, 598, 603, 606, 610, 614, 617, 619, 621, 627, 627, 630, 633, 637, 638, 639, 642, 645, 650, 654, 656, 662, 667, 670, 671, 673, 679, 680, 683, 686, 690, 693, 694, 695, 697, 705, 708, 710, 712, 714, 717, 719, 720, 721, 723, 723, 725, 727, 729, 731, 731, 734, 735, 737, 740, 740, 742, 742, 744, 746, 746, 747, 747, 749, 751, 754, 756, 756, 763, 765, 767, 767, 769, 769, 771, 771, 772, 774, 775, 775, 776, 776, 776, 778, 778, 779, 780, 780, 781, 782, 782, 784, 785, 785, 785, 785, 785, 785, 786, 788, 789, 789, 792, 793, 793, 794, 795, 795, 797, 798, 799, 800, 800, 800, 800, 800, 801, 802, 804, 805, 805, 805, 805, 805, 805, 805, 805, 807, 807, 807, 807, 807, 807, 807, 807, 807, 807, 807, 807, 808, 809, 810, 810, 810, 811, 812, 812, 812, 814, 814, 814, 814, 815, 815, 815, 815, 816, 817, 817, 818, 819, 819, 821, 821, 821, 821, 821, 821, 821, 822, 822, 824, 824, 824, 825, 825, 825, 827, 828, 828, 828, 828, 828, 831, 831, 831, 831, 831, 831, 831, 831, 831, 831, 831, 831, 831, 833, 833, 833, 833, 833, 833, 833, 834, 834, 834, 834, 834, 835, 835, 835, 835, 835, 835, 835, 835, 835, 835, 836, 836, 836, 838, 838, 838, 838, 838, 838, 838, 840, 840, 840, 840, 841, 841, 841, 841, 841, 841, 841, 842, 843, 843, 843, 843, 843, 843, 844, 846, 846, 846, 846, 846, 846, 846, 846, 847, 847, 848, 848, 848, 848, 848, 848, 848, 848, 848, 848, 848, 848, 848, 848, 848, 848, 848, 848, 848, 849, 849, 849, 849, 849, 849, 849, 849, 849, 849, 849, 849, 849, 849, 849, 849, 849, 849, 849, 849, 849, 849, 849, 849, 849, 849, 849, 849, 849, 849, 849, 849, 849, 849, 849, 849, 849, 849, 849, 849, 849, 849, 849, 850, 850, 850, 850, 850, 850, 850, 850, 850, 850, 850, 850, 850, 850, 850, 850, 850, 850, 850, 850, 850, 850, 850, 850, 850, 851, 851, 851, 851, 851, 851, 851, 851, 851, 851, 851, 851, 851, 851, 851, 851, 851, 851, 851, 851, 851, 851, 851, 851, 851, 851, 851, 851, 851, 851, 851, 851, 851, 851, 851, 851, 851, 851, 851, 851, 851, 851, 851, 851, 851, 851, 852, 852, 852, 852, 852, 852, 852], [90, 1042, 2003, 2977, 3961, 4936, 5925, 6912, 7896, 8881, 9863, 10852, 11838, 12823, 13811, 14798, 15782, 16769, 17758, 18753, 19746, 20737, 21729, 22718, 23709, 24697, 25690, 26682, 27671, 28666, 29662, 30657, 31651, 32645, 33640, 34636, 35633, 36620, 37611, 38607, 39603, 40599, 41593, 42586, 43581, 44577, 45572, 46566, 47565, 48563, 49560, 50558, 51554, 52547, 53539, 54538, 55534, 56528, 57522, 58520, 59516, 60514, 61508, 62505, 63502, 64497, 65494, 66490, 67486, 68483, 69481, 70479, 71473, 72473, 73470, 74467, 75463, 76462, 77461, 78458, 79455, 80450, 81446, 82444, 83438, 84433, 85430, 86429, 87427, 88421, 89420, 90417, 91414, 92410, 93407, 94406, 95405, 96403, 97395, 98392, 99390, 100388, 101386, 102383, 103381, 104380, 105379, 106377, 107377, 108375, 109373, 110371, 111369, 112369, 113366, 114365, 115363, 116360, 117360, 118358, 119358, 120356, 121354, 122354, 123353, 124353, 125351, 126349, 127346, 128344, 129344, 130337, 131335, 132333, 133333, 134331, 135331, 136329, 137329, 138328, 139326, 140325, 141325, 142324, 143324, 144324, 145322, 146322, 147321, 148320, 149320, 150319, 151318, 152318, 153316, 154315, 155315, 156315, 157315, 158315, 159315, 160314, 161312, 162311, 163311, 164308, 165307, 166307, 167306, 168305, 169305, 170303, 171302, 172301, 173300, 174300, 175300, 176300, 177300, 178299, 179298, 180296, 181295, 182295, 183295, 184295, 185295, 186295, 187295, 188295, 189293, 190293, 191293, 192293, 193293, 194293, 195293, 196293, 197293, 198293, 199293, 200293, 201292, 202291, 203290, 204290, 205290, 206289, 207288, 208288, 209288, 210286, 211286, 212286, 213286, 214285, 215285, 216285, 217285, 218284, 219283, 220283, 221282, 222281, 223281, 224279, 225279, 226279, 227279, 228279, 229279, 230279, 231278, 232278, 233276, 234276, 235276, 236275, 237275, 238275, 239273, 240272, 241272, 242272, 243272, 244272, 245269, 246269, 247269, 248269, 249269, 250269, 251269, 252269, 253269, 254269, 255269, 256269, 257269, 258267, 259267, 260267, 261267, 262267, 263267, 264267, 265266, 266266, 267266, 268266, 269266, 270265, 271265, 272265, 273265, 274265, 275265, 276265, 277265, 278265, 279265, 280264, 281264, 282264, 283262, 284262, 285262, 286262, 287262, 288262, 289262, 290260, 291260, 292260, 293260, 294259, 295259, 296259, 297259, 298259, 299259, 300259, 301258, 302257, 303257, 304257, 305257, 306257, 307257, 308256, 309254, 310254, 311254, 312254, 313254, 314254, 315254, 316254, 317253, 318253, 319252, 320252, 321252, 322252, 323252, 324252, 325252, 326252, 327252, 328252, 329252, 330252, 331252, 332252, 333252, 334252, 335252, 336252, 337252, 338251, 339251, 340251, 341251, 342251, 343251, 344251, 345251, 346251, 347251, 348251, 349251, 350251, 351251, 352251, 353251, 354251, 355251, 356251, 357251, 358251, 359251, 360251, 361251, 362251, 363251, 364251, 365251, 366251, 367251, 368251, 369251, 370251, 371251, 372251, 373251, 374251, 375251, 376251, 377251, 378251, 379251, 380251, 381250, 382250, 383250, 384250, 385250, 386250, 387250, 388250, 389250, 390250, 391250, 392250, 393250, 394250, 395250, 396250, 397250, 398250, 399250, 400250, 401250, 402250, 403250, 404250, 405250, 406249, 407249, 408249, 409249, 410249, 411249, 412249, 413249, 414249, 415249, 416249, 417249, 418249, 419249, 420249, 421249, 422249, 423249, 424249, 425249, 426249, 427249, 428249, 429249, 430249, 431249, 432249, 433249, 434249, 435249, 436249, 437249, 438249, 439249, 440249, 441249, 442249, 443249, 444249, 445249, 446249, 447249, 448249, 449249, 450249, 451249, 452248, 453248, 454248, 455248, 456248, 457248, 458248], [842, 794, 755, 729, 713, 688, 677, 664, 648, 633, 615, 604, 590, 575, 563, 550, 534, 521, 510, 505, 498, 489, 481, 470, 461, 449, 442, 434, 423, 418, 414, 409, 403, 397, 392, 388, 385, 372, 363, 359, 355, 351, 345, 338, 333, 329, 324, 318, 317, 315, 312, 310, 306, 299, 291, 290, 286, 280, 274, 272, 268, 266, 260, 257, 254, 249, 246, 242, 238, 235, 233, 231, 225, 225, 222, 219, 215, 214, 213, 210, 207, 202, 198, 196, 190, 185, 182, 181, 179, 173, 172, 169, 166, 162, 159, 158, 157, 155, 147, 144, 142, 140, 138, 135, 133, 132, 131, 129, 129, 127, 125, 123, 121, 121, 118, 117, 115, 112, 112, 110, 110, 108, 106, 106, 105, 105, 103, 101, 98, 96, 96, 89, 87, 85, 85, 83, 83, 81, 81, 80, 78, 77, 77, 76, 76, 76, 74, 74, 73, 72, 72, 71, 70, 70, 68, 67, 67, 67, 67, 67, 67, 66, 64, 63, 63, 60, 59, 59, 58, 57, 57, 55, 54, 53, 52, 52, 52, 52, 52, 51, 50, 48, 47, 47, 47, 47, 47, 47, 47, 47, 45, 45, 45, 45, 45, 45, 45, 45, 45, 45, 45, 45, 44, 43, 42, 42, 42, 41, 40, 40, 40, 38, 38, 38, 38, 37, 37, 37, 37, 36, 35, 35, 34, 33, 33, 31, 31, 31, 31, 31, 31, 31, 30, 30, 28, 28, 28, 27, 27, 27, 25, 24, 24, 24, 24, 24, 21, 21, 21, 21, 21, 21, 21, 21, 21, 21, 21, 21, 21, 19, 19, 19, 19, 19, 19, 19, 18, 18, 18, 18, 18, 17, 17, 17, 17, 17, 17, 17, 17, 17, 17, 16, 16, 16, 14, 14, 14, 14, 14, 14, 14, 12, 12, 12, 12, 11, 11, 11, 11, 11, 11, 11, 10, 9, 9, 9, 9, 9, 9, 8, 6, 6, 6, 6, 6, 6, 6, 6, 5, 5, 4, 4, 4, 4, 4, 4, 4, 4, 4, 4, 4, 4, 4, 4, 4, 4, 4, 4, 4, 3, 3, 3, 3, 3, 3, 3, 3, 3, 3, 3, 3, 3, 3, 3, 3, 3, 3, 3, 3, 3, 3, 3, 3, 3, 3, 3, 3, 3, 3, 3, 3, 3, 3, 3, 3, 3, 3, 3, 3, 3, 3, 3, 2, 2, 2, 2, 2, 2, 2, 2, 2, 2, 2, 2, 2, 2, 2, 2, 2, 2, 2, 2, 2, 2, 2, 2, 2, 1, 1, 1, 1, 1, 1, 1, 1, 1, 1, 1, 1, 1, 1, 1, 1, 1, 1, 1, 1, 1, 1, 1, 1, 1, 1, 1, 1, 1, 1, 1, 1, 1, 1, 1, 1, 1, 1, 1, 1, 1, 1, 1, 1, 1, 1, 0, 0, 0, 0, 0, 0, 0], [458698, 457746, 456785, 455811, 454827, 453852, 452863, 451876, 450892, 449907, 448925, 447936, 446950, 445965, 444977, 443990, 443006, 442019, 441030, 440035, 439042, 438051, 437059, 436070, 435079, 434091, 433098, 432106, 431117, 430122, 429126, 428131, 427137, 426143, 425148, 424152, 423155, 422168, 421177, 420181, 419185, 418189, 417195, 416202, 415207, 414211, 413216, 412222, 411223, 410225, 409228, 408230, 407234, 406241, 405249, 404250, 403254, 402260, 401266, 400268, 399272, 398274, 397280, 396283, 395286, 394291, 393294, 392298, 391302, 390305, 389307, 388309, 387315, 386315, 385318, 384321, 383325, 382326, 381327, 380330, 379333, 378338, 377342, 376344, 375350, 374355, 373358, 372359, 371361, 370367, 369368, 368371, 367374, 366378, 365381, 364382, 363383, 362385, 361393, 360396, 359398, 358400, 357402, 356405, 355407, 354408, 353409, 352411, 351411, 350413, 349415, 348417, 347419, 346419, 345422, 344423, 343425, 342428, 341428, 340430, 339430, 338432, 337434, 336434, 335435, 334435, 333437, 332439, 331442, 330444, 329444, 328451, 327453, 326455, 325455, 324457, 323457, 322459, 321459, 320460, 319462, 318463, 317463, 316464, 315464, 314464, 313466, 312466, 311467, 310468, 309468, 308469, 307470, 306470, 305472, 304473, 303473, 302473, 301473, 300473, 299473, 298474, 297476, 296477, 295477, 294480, 293481, 292481, 291482, 290483, 289483, 288485, 287486, 286487, 285488, 284488, 283488, 282488, 281488, 280489, 279490, 278492, 277493, 276493, 275493, 274493, 273493, 272493, 271493, 270493, 269495, 268495, 267495, 266495, 265495, 264495, 263495, 262495, 261495, 260495, 259495, 258495, 257496, 256497, 255498, 254498, 253498, 252499, 251500, 250500, 249500, 248502, 247502, 246502, 245502, 244503, 243503, 242503, 241503, 240504, 239505, 238505, 237506, 236507, 235507, 234509, 233509, 232509, 231509, 230509, 229509, 228509, 227510, 226510, 225512, 224512, 223512, 222513, 221513, 220513, 219515, 218516, 217516, 216516, 215516, 214516, 213519, 212519, 211519, 210519, 209519, 208519, 207519, 206519, 205519, 204519, 203519, 202519, 201519, 200521, 199521, 198521, 197521, 196521, 195521, 194521, 193522, 192522, 191522, 190522, 189522, 188523, 187523, 186523, 185523, 184523, 183523, 182523, 181523, 180523, 179523, 178524, 177524, 176524, 175526, 174526, 173526, 172526, 171526, 170526, 169526, 168528, 167528, 166528, 165528, 164529, 163529, 162529, 161529, 160529, 159529, 158529, 157530, 156531, 155531, 154531, 153531, 152531, 151531, 150532, 149534, 148534, 147534, 146534, 145534, 144534, 143534, 142534, 141535, 140535, 139536, 138536, 137536, 136536, 135536, 134536, 133536, 132536, 131536, 130536, 129536, 128536, 127536, 126536, 125536, 124536, 123536, 122536, 121536, 120537, 119537, 118537, 117537, 116537, 115537, 114537, 113537, 112537, 111537, 110537, 109537, 108537, 107537, 106537, 105537, 104537, 103537, 102537, 101537, 100537, 99537, 98537, 97537, 96537, 95537, 94537, 93537, 92537, 91537, 90537, 89537, 88537, 87537, 86537, 85537, 84537, 83537, 82537, 81537, 80537, 79537, 78537, 77538, 76538, 75538, 74538, 73538, 72538, 71538, 70538, 69538, 68538, 67538, 66538, 65538, 64538, 63538, 62538, 61538, 60538, 59538, 58538, 57538, 56538, 55538, 54538, 53538, 52539, 51539, 50539, 49539, 48539, 47539, 46539, 45539, 44539, 43539, 42539, 41539, 40539, 39539, 38539, 37539, 36539, 35539, 34539, 33539, 32539, 31539, 30539, 29539, 28539, 27539, 26539, 25539, 24539, 23539, 22539, 21539, 20539, 19539, 18539, 17539, 16539, 15539, 14539, 13539, 12539, 11539, 10539, 9539, 8539, 7539, 6540, 5540, 4540, 3540, 2540, 1540, 540]), 'local_path_based_metric': ([10, 58, 97, 123, 139, 164, 175, 188, 204, 219, 237, 248, 262, 277, 289, 302, 318, 331, 342, 347, 354, 363, 371, 382, 391, 403, 410, 418, 429, 434, 438, 443, 449, 455, 460, 464, 467, 480, 489, 493, 497, 501, 507, 514, 519, 523, 528, 534, 535, 537, 540, 542, 546, 553, 561, 562, 566, 572, 578, 580, 584, 586, 592, 595, 598, 603, 606, 610, 614, 617, 619, 621, 627, 627, 630, 633, 637, 638, 639, 642, 645, 650, 654, 656, 662, 667, 670, 671, 673, 679, 680, 683, 686, 690, 693, 694, 695, 697, 705, 708, 710, 712, 714, 717, 719, 720, 721, 723, 723, 725, 727, 729, 731, 731, 734, 735, 737, 740, 740, 742, 742, 744, 746, 746, 747, 747, 749, 751, 754, 756, 756, 763, 765, 767, 767, 768, 769, 771, 771, 772, 774, 775, 775, 776, 776, 776, 778, 778, 779, 780, 780, 781, 782, 782, 783, 785, 785, 785, 785, 785, 785, 786, 788, 789, 789, 792, 793, 793, 794, 795, 795, 797, 798, 799, 800, 800, 800, 800, 800, 801, 802, 804, 805, 805, 805, 805, 805, 805, 805, 805, 806, 807, 807, 807, 807, 807, 807, 807, 807, 807, 807, 807, 808, 809, 810, 810, 810, 811, 812, 812, 812, 814, 814, 814, 814, 815, 815, 815, 815, 816, 817, 817, 818, 819, 819, 821, 821, 821, 821, 821, 821, 821, 822, 822, 824, 824, 824, 825, 825, 825, 827, 828, 828, 828, 828, 828, 831, 831, 831, 831, 831, 831, 831, 831, 831, 831, 831, 831, 831, 833, 833, 833, 833, 833, 833, 833, 834, 834, 834, 834, 834, 835, 835, 835, 835, 835, 835, 835, 835, 835, 835, 836, 836, 836, 838, 838, 838, 838, 838, 838, 838, 840, 840, 840, 840, 841, 841, 841, 841, 841, 841, 841, 842, 843, 843, 843, 843, 843, 843, 844, 846, 846, 846, 846, 846, 846, 846, 846, 847, 847, 848, 848, 848, 848, 848, 848, 848, 848, 848, 848, 848, 848, 848, 848, 848, 848, 848, 848, 848, 849, 849, 849, 849, 849, 849, 849, 849, 849, 849, 849, 849, 849, 849, 849, 849, 849, 849, 849, 849, 849, 849, 849, 849, 849, 849, 849, 849, 849, 849, 849, 849, 849, 849, 849, 849, 849, 849, 849, 849, 849, 849, 849, 850, 850, 850, 850, 850, 850, 850, 850, 850, 850, 850, 850, 850, 850, 850, 850, 850, 850, 850, 850, 850, 850, 850, 850, 850, 851, 851, 851, 851, 851, 851, 851, 851, 851, 851, 851, 851, 851, 851, 851, 851, 851, 851, 851, 851, 851, 851, 851, 851, 851, 851, 851, 851, 851, 851, 851, 851, 851, 851, 851, 851, 851, 851, 851, 851, 851, 851, 851, 851, 851, 851, 852, 852, 852, 852, 852, 852, 852], [90, 1042, 2003, 2977, 3961, 4936, 5925, 6912, 7896, 8881, 9863, 10852, 11838, 12823, 13811, 14798, 15782, 16769, 17758, 18753, 19746, 20737, 21729, 22718, 23709, 24697, 25690, 26682, 27671, 28666, 29662, 30657, 31651, 32645, 33640, 34636, 35633, 36620, 37611, 38607, 39603, 40599, 41593, 42586, 43581, 44577, 45572, 46566, 47565, 48563, 49560, 50558, 51554, 52547, 53539, 54538, 55534, 56528, 57522, 58520, 59516, 60514, 61508, 62505, 63502, 64497, 65494, 66490, 67486, 68483, 69481, 70479, 71473, 72473, 73470, 74467, 75463, 76462, 77461, 78458, 79455, 80450, 81446, 82444, 83438, 84433, 85430, 86429, 87427, 88421, 89420, 90417, 91414, 92410, 93407, 94406, 95405, 96403, 97395, 98392, 99390, 100388, 101386, 102383, 103381, 104380, 105379, 106377, 107377, 108375, 109373, 110371, 111369, 112369, 113366, 114365, 115363, 116360, 117360, 118358, 119358, 120356, 121354, 122354, 123353, 124353, 125351, 126349, 127346, 128344, 129344, 130337, 131335, 132333, 133333, 134332, 135331, 136329, 137329, 138328, 139326, 140325, 141325, 142324, 143324, 144324, 145322, 146322, 147321, 148320, 149320, 150319, 151318, 152318, 153317, 154315, 155315, 156315, 157315, 158315, 159315, 160314, 161312, 162311, 163311, 164308, 165307, 166307, 167306, 168305, 169305, 170303, 171302, 172301, 173300, 174300, 175300, 176300, 177300, 178299, 179298, 180296, 181295, 182295, 183295, 184295, 185295, 186295, 187295, 188295, 189294, 190293, 191293, 192293, 193293, 194293, 195293, 196293, 197293, 198293, 199293, 200293, 201292, 202291, 203290, 204290, 205290, 206289, 207288, 208288, 209288, 210286, 211286, 212286, 213286, 214285, 215285, 216285, 217285, 218284, 219283, 220283, 221282, 222281, 223281, 224279, 225279, 226279, 227279, 228279, 229279, 230279, 231278, 232278, 233276, 234276, 235276, 236275, 237275, 238275, 239273, 240272, 241272, 242272, 243272, 244272, 245269, 246269, 247269, 248269, 249269, 250269, 251269, 252269, 253269, 254269, 255269, 256269, 257269, 258267, 259267, 260267, 261267, 262267, 263267, 264267, 265266, 266266, 267266, 268266, 269266, 270265, 271265, 272265, 273265, 274265, 275265, 276265, 277265, 278265, 279265, 280264, 281264, 282264, 283262, 284262, 285262, 286262, 287262, 288262, 289262, 290260, 291260, 292260, 293260, 294259, 295259, 296259, 297259, 298259, 299259, 300259, 301258, 302257, 303257, 304257, 305257, 306257, 307257, 308256, 309254, 310254, 311254, 312254, 313254, 314254, 315254, 316254, 317253, 318253, 319252, 320252, 321252, 322252, 323252, 324252, 325252, 326252, 327252, 328252, 329252, 330252, 331252, 332252, 333252, 334252, 335252, 336252, 337252, 338251, 339251, 340251, 341251, 342251, 343251, 344251, 345251, 346251, 347251, 348251, 349251, 350251, 351251, 352251, 353251, 354251, 355251, 356251, 357251, 358251, 359251, 360251, 361251, 362251, 363251, 364251, 365251, 366251, 367251, 368251, 369251, 370251, 371251, 372251, 373251, 374251, 375251, 376251, 377251, 378251, 379251, 380251, 381250, 382250, 383250, 384250, 385250, 386250, 387250, 388250, 389250, 390250, 391250, 392250, 393250, 394250, 395250, 396250, 397250, 398250, 399250, 400250, 401250, 402250, 403250, 404250, 405250, 406249, 407249, 408249, 409249, 410249, 411249, 412249, 413249, 414249, 415249, 416249, 417249, 418249, 419249, 420249, 421249, 422249, 423249, 424249, 425249, 426249, 427249, 428249, 429249, 430249, 431249, 432249, 433249, 434249, 435249, 436249, 437249, 438249, 439249, 440249, 441249, 442249, 443249, 444249, 445249, 446249, 447249, 448249, 449249, 450249, 451249, 452248, 453248, 454248, 455248, 456248, 457248, 458248], [842, 794, 755, 729, 713, 688, 677, 664, 648, 633, 615, 604, 590, 575, 563, 550, 534, 521, 510, 505, 498, 489, 481, 470, 461, 449, 442, 434, 423, 418, 414, 409, 403, 397, 392, 388, 385, 372, 363, 359, 355, 351, 345, 338, 333, 329, 324, 318, 317, 315, 312, 310, 306, 299, 291, 290, 286, 280, 274, 272, 268, 266, 260, 257, 254, 249, 246, 242, 238, 235, 233, 231, 225, 225, 222, 219, 215, 214, 213, 210, 207, 202, 198, 196, 190, 185, 182, 181, 179, 173, 172, 169, 166, 162, 159, 158, 157, 155, 147, 144, 142, 140, 138, 135, 133, 132, 131, 129, 129, 127, 125, 123, 121, 121, 118, 117, 115, 112, 112, 110, 110, 108, 106, 106, 105, 105, 103, 101, 98, 96, 96, 89, 87, 85, 85, 84, 83, 81, 81, 80, 78, 77, 77, 76, 76, 76, 74, 74, 73, 72, 72, 71, 70, 70, 69, 67, 67, 67, 67, 67, 67, 66, 64, 63, 63, 60, 59, 59, 58, 57, 57, 55, 54, 53, 52, 52, 52, 52, 52, 51, 50, 48, 47, 47, 47, 47, 47, 47, 47, 47, 46, 45, 45, 45, 45, 45, 45, 45, 45, 45, 45, 45, 44, 43, 42, 42, 42, 41, 40, 40, 40, 38, 38, 38, 38, 37, 37, 37, 37, 36, 35, 35, 34, 33, 33, 31, 31, 31, 31, 31, 31, 31, 30, 30, 28, 28, 28, 27, 27, 27, 25, 24, 24, 24, 24, 24, 21, 21, 21, 21, 21, 21, 21, 21, 21, 21, 21, 21, 21, 19, 19, 19, 19, 19, 19, 19, 18, 18, 18, 18, 18, 17, 17, 17, 17, 17, 17, 17, 17, 17, 17, 16, 16, 16, 14, 14, 14, 14, 14, 14, 14, 12, 12, 12, 12, 11, 11, 11, 11, 11, 11, 11, 10, 9, 9, 9, 9, 9, 9, 8, 6, 6, 6, 6, 6, 6, 6, 6, 5, 5, 4, 4, 4, 4, 4, 4, 4, 4, 4, 4, 4, 4, 4, 4, 4, 4, 4, 4, 4, 3, 3, 3, 3, 3, 3, 3, 3, 3, 3, 3, 3, 3, 3, 3, 3, 3, 3, 3, 3, 3, 3, 3, 3, 3, 3, 3, 3, 3, 3, 3, 3, 3, 3, 3, 3, 3, 3, 3, 3, 3, 3, 3, 2, 2, 2, 2, 2, 2, 2, 2, 2, 2, 2, 2, 2, 2, 2, 2, 2, 2, 2, 2, 2, 2, 2, 2, 2, 1, 1, 1, 1, 1, 1, 1, 1, 1, 1, 1, 1, 1, 1, 1, 1, 1, 1, 1, 1, 1, 1, 1, 1, 1, 1, 1, 1, 1, 1, 1, 1, 1, 1, 1, 1, 1, 1, 1, 1, 1, 1, 1, 1, 1, 1, 0, 0, 0, 0, 0, 0, 0], [458698, 457746, 456785, 455811, 454827, 453852, 452863, 451876, 450892, 449907, 448925, 447936, 446950, 445965, 444977, 443990, 443006, 442019, 441030, 440035, 439042, 438051, 437059, 436070, 435079, 434091, 433098, 432106, 431117, 430122, 429126, 428131, 427137, 426143, 425148, 424152, 423155, 422168, 421177, 420181, 419185, 418189, 417195, 416202, 415207, 414211, 413216, 412222, 411223, 410225, 409228, 408230, 407234, 406241, 405249, 404250, 403254, 402260, 401266, 400268, 399272, 398274, 397280, 396283, 395286, 394291, 393294, 392298, 391302, 390305, 389307, 388309, 387315, 386315, 385318, 384321, 383325, 382326, 381327, 380330, 379333, 378338, 377342, 376344, 375350, 374355, 373358, 372359, 371361, 370367, 369368, 368371, 367374, 366378, 365381, 364382, 363383, 362385, 361393, 360396, 359398, 358400, 357402, 356405, 355407, 354408, 353409, 352411, 351411, 350413, 349415, 348417, 347419, 346419, 345422, 344423, 343425, 342428, 341428, 340430, 339430, 338432, 337434, 336434, 335435, 334435, 333437, 332439, 331442, 330444, 329444, 328451, 327453, 326455, 325455, 324456, 323457, 322459, 321459, 320460, 319462, 318463, 317463, 316464, 315464, 314464, 313466, 312466, 311467, 310468, 309468, 308469, 307470, 306470, 305471, 304473, 303473, 302473, 301473, 300473, 299473, 298474, 297476, 296477, 295477, 294480, 293481, 292481, 291482, 290483, 289483, 288485, 287486, 286487, 285488, 284488, 283488, 282488, 281488, 280489, 279490, 278492, 277493, 276493, 275493, 274493, 273493, 272493, 271493, 270493, 269494, 268495, 267495, 266495, 265495, 264495, 263495, 262495, 261495, 260495, 259495, 258495, 257496, 256497, 255498, 254498, 253498, 252499, 251500, 250500, 249500, 248502, 247502, 246502, 245502, 244503, 243503, 242503, 241503, 240504, 239505, 238505, 237506, 236507, 235507, 234509, 233509, 232509, 231509, 230509, 229509, 228509, 227510, 226510, 225512, 224512, 223512, 222513, 221513, 220513, 219515, 218516, 217516, 216516, 215516, 214516, 213519, 212519, 211519, 210519, 209519, 208519, 207519, 206519, 205519, 204519, 203519, 202519, 201519, 200521, 199521, 198521, 197521, 196521, 195521, 194521, 193522, 192522, 191522, 190522, 189522, 188523, 187523, 186523, 185523, 184523, 183523, 182523, 181523, 180523, 179523, 178524, 177524, 176524, 175526, 174526, 173526, 172526, 171526, 170526, 169526, 168528, 167528, 166528, 165528, 164529, 163529, 162529, 161529, 160529, 159529, 158529, 157530, 156531, 155531, 154531, 153531, 152531, 151531, 150532, 149534, 148534, 147534, 146534, 145534, 144534, 143534, 142534, 141535, 140535, 139536, 138536, 137536, 136536, 135536, 134536, 133536, 132536, 131536, 130536, 129536, 128536, 127536, 126536, 125536, 124536, 123536, 122536, 121536, 120537, 119537, 118537, 117537, 116537, 115537, 114537, 113537, 112537, 111537, 110537, 109537, 108537, 107537, 106537, 105537, 104537, 103537, 102537, 101537, 100537, 99537, 98537, 97537, 96537, 95537, 94537, 93537, 92537, 91537, 90537, 89537, 88537, 87537, 86537, 85537, 84537, 83537, 82537, 81537, 80537, 79537, 78537, 77538, 76538, 75538, 74538, 73538, 72538, 71538, 70538, 69538, 68538, 67538, 66538, 65538, 64538, 63538, 62538, 61538, 60538, 59538, 58538, 57538, 56538, 55538, 54538, 53538, 52539, 51539, 50539, 49539, 48539, 47539, 46539, 45539, 44539, 43539, 42539, 41539, 40539, 39539, 38539, 37539, 36539, 35539, 34539, 33539, 32539, 31539, 30539, 29539, 28539, 27539, 26539, 25539, 24539, 23539, 22539, 21539, 20539, 19539, 18539, 17539, 16539, 15539, 14539, 13539, 12539, 11539, 10539, 9539, 8539, 7539, 6540, 5540, 4540, 3540, 2540, 1540, 540]), 'commute_time_based_metric': ([7, 48, 73, 98, 123, 142, 159, 171, 186, 194, 210, 220, 232, 241, 249, 257, 265, 275, 278, 284, 292, 299, 308, 312, 323, 328, 330, 333, 340, 349, 354, 365, 368, 370, 374, 375, 379, 383, 389, 392, 398, 398, 400, 403, 410, 414, 416, 421, 423, 425, 428, 431, 435, 439, 446, 447, 447, 448, 452, 455, 459, 461, 466, 467, 470, 475, 480, 483, 484, 487, 489, 493, 494, 496, 499, 502, 504, 507, 509, 513, 515, 517, 520, 524, 525, 526, 529, 530, 532, 535, 538, 540, 542, 543, 545, 550, 553, 557, 559, 561, 564, 566, 569, 574, 576, 577, 581, 585, 589, 591, 592, 594, 596, 599, 605, 611, 614, 617, 619, 623, 625, 625, 625, 626, 626, 627, 628, 633, 634, 635, 635, 636, 638, 640, 641, 643, 646, 647, 650, 650, 650, 650, 653, 653, 656, 657, 659, 660, 660, 662, 663, 666, 670, 673, 675, 675, 675, 676, 683, 684, 685, 687, 690, 693, 694, 695, 696, 700, 701, 701, 701, 701, 704, 707, 708, 709, 712, 712, 714, 714, 714, 715, 718, 718, 720, 721, 721, 721, 722, 723, 725, 726, 727, 731, 732, 735, 736, 737, 739, 739, 740, 740, 740, 742, 743, 743, 745, 747, 747, 748, 751, 752, 752, 753, 754, 755, 757, 758, 758, 762, 765, 765, 765, 767, 769, 770, 772, 772, 773, 774, 775, 778, 779, 780, 783, 787, 787, 788, 791, 791, 791, 792, 793, 793, 794, 794, 796, 797, 798, 798, 799, 801, 804, 804, 805, 808, 808, 810, 810, 810, 810, 810, 810, 810, 810, 810, 811, 813, 813, 814, 814, 814, 814, 814, 814, 814, 815, 816, 816, 816, 816, 816, 819, 820, 820, 820, 820, 822, 822, 823, 823, 823, 823, 823, 823, 823, 823, 824, 824, 824, 824, 824, 824, 824, 824, 826, 826, 826, 826, 828, 828, 829, 829, 829, 829, 830, 831, 831, 831, 831, 831, 831, 831, 831, 831, 831, 831, 831, 831, 831, 831, 831, 831, 831, 832, 833, 833, 833, 835, 836, 836, 836, 836, 836, 836, 836, 837, 837, 837, 837, 837, 837, 837, 837, 837, 837, 837, 837, 837, 838, 838, 838, 838, 838, 839, 839, 839, 839, 839, 839, 839, 840, 840, 841, 841, 841, 841, 842, 842, 842, 842, 842, 843, 843, 844, 846, 846, 846, 846, 846, 846, 846, 846, 846, 846, 846, 847, 847, 847, 847, 847, 847, 847, 848, 848, 848, 848, 848, 848, 849, 849, 849, 849, 849, 849, 849, 849, 850, 850, 850, 850, 850, 850, 851, 851, 851, 852, 852, 852, 852, 852, 852, 852, 852, 852, 852, 852, 852, 852, 852, 852, 852, 852, 852, 852, 852, 852, 852, 852, 852, 852, 852, 852, 852, 852, 852, 852, 852, 852, 852], [93, 1052, 2027, 3002, 3977, 4958, 5941, 6929, 7914, 8906, 9890, 10880, 11868, 12859, 13851, 14843, 15835, 16825, 17822, 18816, 19808, 20801, 21792, 22788, 23777, 24772, 25770, 26767, 27760, 28751, 29746, 30735, 31732, 32730, 33726, 34725, 35721, 36717, 37711, 38708, 39702, 40702, 41700, 42697, 43690, 44686, 45684, 46679, 47677, 48675, 49672, 50669, 51665, 52661, 53654, 54653, 55653, 56652, 57648, 58645, 59641, 60639, 61634, 62633, 63630, 64625, 65620, 66617, 67616, 68613, 69611, 70607, 71606, 72604, 73601, 74598, 75596, 76593, 77591, 78587, 79585, 80583, 81580, 82576, 83575, 84574, 85571, 86570, 87568, 88565, 89562, 90560, 91558, 92557, 93555, 94550, 95547, 96543, 97541, 98539, 99536, 100534, 101531, 102526, 103524, 104523, 105519, 106515, 107511, 108509, 109508, 110506, 111504, 112501, 113495, 114489, 115486, 116483, 117481, 118477, 119475, 120475, 121475, 122474, 123474, 124473, 125472, 126467, 127466, 128465, 129465, 130464, 131462, 132460, 133459, 134457, 135454, 136453, 137450, 138450, 139450, 140450, 141447, 142447, 143444, 144443, 145441, 146440, 147440, 148438, 149437, 150434, 151430, 152427, 153425, 154425, 155425, 156424, 157417, 158416, 159415, 160413, 161410, 162407, 163406, 164405, 165404, 166400, 167399, 168399, 169399, 170399, 171396, 172393, 173392, 174391, 175388, 176388, 177386, 178386, 179386, 180385, 181382, 182382, 183380, 184379, 185379, 186379, 187378, 188377, 189375, 190374, 191373, 192369, 193368, 194365, 195364, 196363, 197361, 198361, 199360, 200360, 201360, 202358, 203357, 204357, 205355, 206353, 207353, 208352, 209349, 210348, 211348, 212347, 213346, 214345, 215343, 216342, 217342, 218338, 219335, 220335, 221335, 222333, 223331, 224330, 225328, 226328, 227327, 228326, 229325, 230322, 231321, 232320, 233317, 234313, 235313, 236312, 237309, 238309, 239309, 240308, 241307, 242307, 243306, 244306, 245304, 246303, 247302, 248302, 249301, 250299, 251296, 252296, 253295, 254292, 255292, 256290, 257290, 258290, 259290, 260290, 261290, 262290, 263290, 264290, 265289, 266287, 267287, 268286, 269286, 270286, 271286, 272286, 273286, 274286, 275285, 276284, 277284, 278284, 279284, 280284, 281281, 282280, 283280, 284280, 285280, 286278, 287278, 288277, 289277, 290277, 291277, 292277, 293277, 294277, 295277, 296276, 297276, 298276, 299276, 300276, 301276, 302276, 303276, 304274, 305274, 306274, 307274, 308272, 309272, 310271, 311271, 312271, 313271, 314270, 315269, 316269, 317269, 318269, 319269, 320269, 321269, 322269, 323269, 324269, 325269, 326269, 327269, 328269, 329269, 330269, 331269, 332269, 333268, 334267, 335267, 336267, 337265, 338264, 339264, 340264, 341264, 342264, 343264, 344264, 345263, 346263, 347263, 348263, 349263, 350263, 351263, 352263, 353263, 354263, 355263, 356263, 357263, 358262, 359262, 360262, 361262, 362262, 363261, 364261, 365261, 366261, 367261, 368261, 369261, 370260, 371260, 372259, 373259, 374259, 375259, 376258, 377258, 378258, 379258, 380258, 381257, 382257, 383256, 384254, 385254, 386254, 387254, 388254, 389254, 390254, 391254, 392254, 393254, 394254, 395253, 396253, 397253, 398253, 399253, 400253, 401253, 402252, 403252, 404252, 405252, 406252, 407252, 408251, 409251, 410251, 411251, 412251, 413251, 414251, 415251, 416250, 417250, 418250, 419250, 420250, 421250, 422249, 423249, 424249, 425248, 426248, 427248, 428248, 429248, 430248, 431248, 432248, 433248, 434248, 435248, 436248, 437248, 438248, 439248, 440248, 441248, 442248, 443248, 444248, 445248, 446248, 447248, 448248, 449248, 450248, 451248, 452248, 453248, 454248, 455248, 456248, 457248, 458248], [845, 804, 779, 754, 729, 710, 693, 681, 666, 658, 642, 632, 620, 611, 603, 595, 587, 577, 574, 568, 560, 553, 544, 540, 529, 524, 522, 519, 512, 503, 498, 487, 484, 482, 478, 477, 473, 469, 463, 460, 454, 454, 452, 449, 442, 438, 436, 431, 429, 427, 424, 421, 417, 413, 406, 405, 405, 404, 400, 397, 393, 391, 386, 385, 382, 377, 372, 369, 368, 365, 363, 359, 358, 356, 353, 350, 348, 345, 343, 339, 337, 335, 332, 328, 327, 326, 323, 322, 320, 317, 314, 312, 310, 309, 307, 302, 299, 295, 293, 291, 288, 286, 283, 278, 276, 275, 271, 267, 263, 261, 260, 258, 256, 253, 247, 241, 238, 235, 233, 229, 227, 227, 227, 226, 226, 225, 224, 219, 218, 217, 217, 216, 214, 212, 211, 209, 206, 205, 202, 202, 202, 202, 199, 199, 196, 195, 193, 192, 192, 190, 189, 186, 182, 179, 177, 177, 177, 176, 169, 168, 167, 165, 162, 159, 158, 157, 156, 152, 151, 151, 151, 151, 148, 145, 144, 143, 140, 140, 138, 138, 138, 137, 134, 134, 132, 131, 131, 131, 130, 129, 127, 126, 125, 121, 120, 117, 116, 115, 113, 113, 112, 112, 112, 110, 109, 109, 107, 105, 105, 104, 101, 100, 100, 99, 98, 97, 95, 94, 94, 90, 87, 87, 87, 85, 83, 82, 80, 80, 79, 78, 77, 74, 73, 72, 69, 65, 65, 64, 61, 61, 61, 60, 59, 59, 58, 58, 56, 55, 54, 54, 53, 51, 48, 48, 47, 44, 44, 42, 42, 42, 42, 42, 42, 42, 42, 42, 41, 39, 39, 38, 38, 38, 38, 38, 38, 38, 37, 36, 36, 36, 36, 36, 33, 32, 32, 32, 32, 30, 30, 29, 29, 29, 29, 29, 29, 29, 29, 28, 28, 28, 28, 28, 28, 28, 28, 26, 26, 26, 26, 24, 24, 23, 23, 23, 23, 22, 21, 21, 21, 21, 21, 21, 21, 21, 21, 21, 21, 21, 21, 21, 21, 21, 21, 21, 20, 19, 19, 19, 17, 16, 16, 16, 16, 16, 16, 16, 15, 15, 15, 15, 15, 15, 15, 15, 15, 15, 15, 15, 15, 14, 14, 14, 14, 14, 13, 13, 13, 13, 13, 13, 13, 12, 12, 11, 11, 11, 11, 10, 10, 10, 10, 10, 9, 9, 8, 6, 6, 6, 6, 6, 6, 6, 6, 6, 6, 6, 5, 5, 5, 5, 5, 5, 5, 4, 4, 4, 4, 4, 4, 3, 3, 3, 3, 3, 3, 3, 3, 2, 2, 2, 2, 2, 2, 1, 1, 1, 0, 0, 0, 0, 0, 0, 0, 0, 0, 0, 0, 0, 0, 0, 0, 0, 0, 0, 0, 0, 0, 0, 0, 0, 0, 0, 0, 0, 0, 0, 0, 0, 0, 0], [458695, 457736, 456761, 455786, 454811, 453830, 452847, 451859, 450874, 449882, 448898, 447908, 446920, 445929, 444937, 443945, 442953, 441963, 440966, 439972, 438980, 437987, 436996, 436000, 435011, 434016, 433018, 432021, 431028, 430037, 429042, 428053, 427056, 426058, 425062, 424063, 423067, 422071, 421077, 420080, 419086, 418086, 417088, 416091, 415098, 414102, 413104, 412109, 411111, 410113, 409116, 408119, 407123, 406127, 405134, 404135, 403135, 402136, 401140, 400143, 399147, 398149, 397154, 396155, 395158, 394163, 393168, 392171, 391172, 390175, 389177, 388181, 387182, 386184, 385187, 384190, 383192, 382195, 381197, 380201, 379203, 378205, 377208, 376212, 375213, 374214, 373217, 372218, 371220, 370223, 369226, 368228, 367230, 366231, 365233, 364238, 363241, 362245, 361247, 360249, 359252, 358254, 357257, 356262, 355264, 354265, 353269, 352273, 351277, 350279, 349280, 348282, 347284, 346287, 345293, 344299, 343302, 342305, 341307, 340311, 339313, 338313, 337313, 336314, 335314, 334315, 333316, 332321, 331322, 330323, 329323, 328324, 327326, 326328, 325329, 324331, 323334, 322335, 321338, 320338, 319338, 318338, 317341, 316341, 315344, 314345, 313347, 312348, 311348, 310350, 309351, 308354, 307358, 306361, 305363, 304363, 303363, 302364, 301371, 300372, 299373, 298375, 297378, 296381, 295382, 294383, 293384, 292388, 291389, 290389, 289389, 288389, 287392, 286395, 285396, 284397, 283400, 282400, 281402, 280402, 279402, 278403, 277406, 276406, 275408, 274409, 273409, 272409, 271410, 270411, 269413, 268414, 267415, 266419, 265420, 264423, 263424, 262425, 261427, 260427, 259428, 258428, 257428, 256430, 255431, 254431, 253433, 252435, 251435, 250436, 249439, 248440, 247440, 246441, 245442, 244443, 243445, 242446, 241446, 240450, 239453, 238453, 237453, 236455, 235457, 234458, 233460, 232460, 231461, 230462, 229463, 228466, 227467, 226468, 225471, 224475, 223475, 222476, 221479, 220479, 219479, 218480, 217481, 216481, 215482, 214482, 213484, 212485, 211486, 210486, 209487, 208489, 207492, 206492, 205493, 204496, 203496, 202498, 201498, 200498, 199498, 198498, 197498, 196498, 195498, 194498, 193499, 192501, 191501, 190502, 189502, 188502, 187502, 186502, 185502, 184502, 183503, 182504, 181504, 180504, 179504, 178504, 177507, 176508, 175508, 174508, 173508, 172510, 171510, 170511, 169511, 168511, 167511, 166511, 165511, 164511, 163511, 162512, 161512, 160512, 159512, 158512, 157512, 156512, 155512, 154514, 153514, 152514, 151514, 150516, 149516, 148517, 147517, 146517, 145517, 144518, 143519, 142519, 141519, 140519, 139519, 138519, 137519, 136519, 135519, 134519, 133519, 132519, 131519, 130519, 129519, 128519, 127519, 126519, 125520, 124521, 123521, 122521, 121523, 120524, 119524, 118524, 117524, 116524, 115524, 114524, 113525, 112525, 111525, 110525, 109525, 108525, 107525, 106525, 105525, 104525, 103525, 102525, 101525, 100526, 99526, 98526, 97526, 96526, 95527, 94527, 93527, 92527, 91527, 90527, 89527, 88528, 87528, 86529, 85529, 84529, 83529, 82530, 81530, 80530, 79530, 78530, 77531, 76531, 75532, 74534, 73534, 72534, 71534, 70534, 69534, 68534, 67534, 66534, 65534, 64534, 63535, 62535, 61535, 60535, 59535, 58535, 57535, 56536, 55536, 54536, 53536, 52536, 51536, 50537, 49537, 48537, 47537, 46537, 45537, 44537, 43537, 42538, 41538, 40538, 39538, 38538, 37538, 36539, 35539, 34539, 33540, 32540, 31540, 30540, 29540, 28540, 27540, 26540, 25540, 24540, 23540, 22540, 21540, 20540, 19540, 18540, 17540, 16540, 15540, 14540, 13540, 12540, 11540, 10540, 9540, 8540, 7540, 6540, 5540, 4540, 3540, 2540, 1540, 540]), 'rooted_pagerank': ([0, 1, 1, 1, 1, 1, 1, 2, 5, 7, 8, 12, 19, 28, 38, 43, 54, 69, 87, 112, 136, 172, 199, 222, 240, 254, 273, 294, 305, 321, 330, 344, 359, 373, 388, 406, 410, 416, 428, 435, 446, 455, 464, 476, 483, 494, 503, 508, 519, 527, 538, 542, 549, 552, 555, 562, 573, 578, 582, 590, 593, 601, 606, 611, 617, 618, 622, 633, 637, 640, 644, 645, 650, 655, 661, 665, 669, 671, 672, 675, 682, 686, 689, 693, 694, 697, 701, 705, 706, 708, 711, 714, 716, 720, 721, 723, 725, 728, 733, 735, 738, 740, 742, 743, 745, 745, 746, 748, 750, 751, 755, 756, 758, 758, 758, 761, 762, 763, 767, 767, 767, 768, 769, 770, 772, 773, 774, 775, 776, 777, 779, 781, 782, 782, 782, 784, 784, 785, 786, 790, 791, 792, 792, 792, 793, 794, 797, 798, 798, 799, 799, 800, 800, 801, 801, 802, 803, 804, 804, 806, 806, 806, 806, 806, 806, 806, 806, 807, 807, 807, 807, 808, 808, 808, 810, 810, 810, 810, 811, 812, 812, 812, 812, 813, 814, 814, 814, 814, 815, 816, 816, 816, 816, 816, 817, 817, 818, 818, 819, 819, 819, 820, 821, 821, 822, 824, 824, 824, 824, 825, 825, 826, 826, 826, 827, 828, 829, 829, 829, 830, 830, 831, 831, 831, 831, 831, 831, 831, 831, 831, 831, 831, 831, 831, 831, 831, 831, 831, 832, 832, 832, 832, 832, 832, 833, 833, 833, 834, 834, 834, 834, 834, 834, 834, 835, 836, 836, 836, 836, 836, 836, 836, 836, 836, 836, 837, 837, 837, 837, 837, 837, 837, 838, 838, 838, 838, 839, 839, 839, 839, 839, 839, 839, 840, 840, 840, 840, 840, 840, 840, 840, 840, 840, 840, 840, 840, 840, 840, 840, 840, 841, 841, 841, 841, 841, 841, 841, 843, 843, 843, 843, 843, 843, 843, 843, 843, 843, 843, 843, 843, 843, 843, 843, 843, 843, 843, 843, 843, 843, 843, 843, 843, 843, 843, 843, 843, 843, 843, 843, 843, 843, 843, 843, 843, 843, 843, 843, 843, 843, 843, 843, 843, 843, 843, 843, 843, 844, 844, 844, 844, 844, 844, 844, 844, 844, 844, 845, 845, 845, 845, 845, 845, 845, 846, 846, 847, 847, 847, 847, 847, 847, 847, 847, 847, 847, 848, 848, 848, 848, 848, 848, 848, 848, 848, 848, 848, 848, 848, 848, 848, 848, 848, 848, 849, 849, 849, 849, 849, 849, 849, 849, 849, 850, 850, 850, 850, 850, 850, 850, 850, 850, 850, 850, 850, 850, 850, 851, 851, 851, 851, 852, 852, 852, 852, 852, 852, 852, 852, 852, 852, 852, 852, 852, 852, 852, 852, 852, 852, 852, 852, 852, 852, 852, 852, 852, 852, 852, 852, 852, 852, 852, 852, 852, 852, 852, 852, 852, 852, 852, 852, 852, 852, 852, 852, 852], [0, 23, 37, 59, 79, 103, 123, 145, 199, 264, 389, 515, 672, 846, 1017, 1221, 1532, 2023, 2842, 3806, 4779, 5743, 6716, 7693, 8675, 9661, 10642, 11621, 12610, 13594, 14585, 15571, 16556, 17542, 18527, 19509, 20505, 21499, 22487, 23480, 24469, 25460, 26451, 27439, 28432, 29421, 30412, 31407, 32396, 33388, 34377, 35373, 36366, 37363, 38360, 39353, 40342, 41337, 42333, 43325, 44322, 45314, 46309, 47304, 48298, 49297, 50293, 51282, 52278, 53275, 54271, 55270, 56265, 57260, 58254, 59250, 60246, 61244, 62243, 63240, 64233, 65229, 66226, 67222, 68221, 69218, 70214, 71210, 72209, 73207, 74204, 75201, 76199, 77195, 78194, 79192, 80190, 81187, 82182, 83180, 84177, 85175, 86173, 87172, 88170, 89170, 90169, 91167, 92165, 93164, 94160, 95159, 96157, 97157, 98157, 99154, 100153, 101152, 102148, 103148, 104148, 105147, 106146, 107145, 108143, 109142, 110141, 111140, 112139, 113138, 114136, 115134, 116133, 117133, 118133, 119131, 120131, 121130, 122129, 123125, 124124, 125123, 126123, 127123, 128122, 129121, 130118, 131117, 132117, 133116, 134116, 135115, 136115, 137114, 138114, 139113, 140112, 141111, 142111, 143109, 144109, 145109, 146109, 147109, 148109, 149109, 150109, 151108, 152108, 153108, 154108, 155107, 156107, 157107, 158105, 159105, 160105, 161105, 162104, 163103, 164103, 165103, 166103, 167102, 168101, 169101, 170101, 171101, 172100, 173099, 174099, 175099, 176099, 177099, 178098, 179098, 180097, 181097, 182096, 183096, 184096, 185095, 186094, 187094, 188093, 189091, 190091, 191091, 192091, 193090, 194090, 195089, 196089, 197089, 198088, 199087, 200086, 201086, 202086, 203085, 204085, 205084, 206084, 207084, 208084, 209084, 210084, 211084, 212084, 213084, 214084, 215084, 216084, 217084, 218084, 219084, 220084, 221084, 222083, 223083, 224083, 225083, 226083, 227083, 228082, 229082, 230082, 231081, 232081, 233081, 234081, 235081, 236081, 237081, 238080, 239079, 240079, 241079, 242079, 243079, 244079, 245079, 246079, 247079, 248079, 249078, 250078, 251078, 252078, 253078, 254078, 255078, 256077, 257077, 258077, 259077, 260076, 261076, 262076, 263076, 264076, 265076, 266076, 267075, 268075, 269075, 270075, 271075, 272075, 273075, 274075, 275075, 276075, 277075, 278075, 279075, 280075, 281075, 282075, 283075, 284074, 285074, 286074, 287074, 288074, 289074, 290074, 291072, 292072, 293072, 294072, 295072, 296072, 297072, 298072, 299072, 300072, 301072, 302072, 303072, 304072, 305072, 306072, 307072, 308072, 309072, 310072, 311072, 312072, 313072, 314072, 315072, 316072, 317072, 318072, 319072, 320072, 321072, 322072, 323072, 324072, 325072, 326072, 327072, 328072, 329072, 330072, 331072, 332072, 333072, 334072, 335072, 336072, 337072, 338072, 339072, 340071, 341071, 342071, 343071, 344071, 345071, 346071, 347071, 348071, 349071, 350070, 351070, 352070, 353070, 354070, 355070, 356070, 357069, 358069, 359068, 360068, 361068, 362068, 363068, 364068, 365068, 366068, 367068, 368068, 369067, 370067, 371067, 372067, 373067, 374067, 375067, 376067, 377067, 378067, 379067, 380067, 381067, 382067, 383067, 384067, 385067, 386067, 387066, 388066, 389066, 390066, 391066, 392066, 393066, 394066, 395066, 396065, 397065, 398065, 399065, 400065, 401065, 402065, 403065, 404065, 405065, 406065, 407065, 408065, 409065, 410064, 411064, 412064, 413064, 414063, 415063, 416063, 417063, 418063, 419063, 420063, 421063, 422063, 423063, 424063, 425063, 426063, 427063, 428063, 429063, 430063, 431063, 432063, 433063, 434063, 435063, 436063, 437063, 438063, 439063, 440063, 441063, 442063, 443063, 444063, 445063, 446063, 447063, 448063, 449063, 450063, 451063, 452063, 453063, 454063, 455063, 456063, 457063, 458063], [852, 851, 851, 851, 851, 851, 851, 850, 847, 845, 844, 840, 833, 824, 814, 809, 798, 783, 765, 740, 716, 680, 653, 630, 612, 598, 579, 558, 547, 531, 522, 508, 493, 479, 464, 446, 442, 436, 424, 417, 406, 397, 388, 376, 369, 358, 349, 344, 333, 325, 314, 310, 303, 300, 297, 290, 279, 274, 270, 262, 259, 251, 246, 241, 235, 234, 230, 219, 215, 212, 208, 207, 202, 197, 191, 187, 183, 181, 180, 177, 170, 166, 163, 159, 158, 155, 151, 147, 146, 144, 141, 138, 136, 132, 131, 129, 127, 124, 119, 117, 114, 112, 110, 109, 107, 107, 106, 104, 102, 101, 97, 96, 94, 94, 94, 91, 90, 89, 85, 85, 85, 84, 83, 82, 80, 79, 78, 77, 76, 75, 73, 71, 70, 70, 70, 68, 68, 67, 66, 62, 61, 60, 60, 60, 59, 58, 55, 54, 54, 53, 53, 52, 52, 51, 51, 50, 49, 48, 48, 46, 46, 46, 46, 46, 46, 46, 46, 45, 45, 45, 45, 44, 44, 44, 42, 42, 42, 42, 41, 40, 40, 40, 40, 39, 38, 38, 38, 38, 37, 36, 36, 36, 36, 36, 35, 35, 34, 34, 33, 33, 33, 32, 31, 31, 30, 28, 28, 28, 28, 27, 27, 26, 26, 26, 25, 24, 23, 23, 23, 22, 22, 21, 21, 21, 21, 21, 21, 21, 21, 21, 21, 21, 21, 21, 21, 21, 21, 21, 20, 20, 20, 20, 20, 20, 19, 19, 19, 18, 18, 18, 18, 18, 18, 18, 17, 16, 16, 16, 16, 16, 16, 16, 16, 16, 16, 15, 15, 15, 15, 15, 15, 15, 14, 14, 14, 14, 13, 13, 13, 13, 13, 13, 13, 12, 12, 12, 12, 12, 12, 12, 12, 12, 12, 12, 12, 12, 12, 12, 12, 12, 11, 11, 11, 11, 11, 11, 11, 9, 9, 9, 9, 9, 9, 9, 9, 9, 9, 9, 9, 9, 9, 9, 9, 9, 9, 9, 9, 9, 9, 9, 9, 9, 9, 9, 9, 9, 9, 9, 9, 9, 9, 9, 9, 9, 9, 9, 9, 9, 9, 9, 9, 9, 9, 9, 9, 9, 8, 8, 8, 8, 8, 8, 8, 8, 8, 8, 7, 7, 7, 7, 7, 7, 7, 6, 6, 5, 5, 5, 5, 5, 5, 5, 5, 5, 5, 4, 4, 4, 4, 4, 4, 4, 4, 4, 4, 4, 4, 4, 4, 4, 4, 4, 4, 3, 3, 3, 3, 3, 3, 3, 3, 3, 2, 2, 2, 2, 2, 2, 2, 2, 2, 2, 2, 2, 2, 2, 1, 1, 1, 1, 0, 0, 0, 0, 0, 0, 0, 0, 0, 0, 0, 0, 0, 0, 0, 0, 0, 0, 0, 0, 0, 0, 0, 0, 0, 0, 0, 0, 0, 0, 0, 0, 0, 0, 0, 0, 0, 0, 0, 0, 0, 0, 0, 0, 0], [458788, 458765, 458751, 458729, 458709, 458685, 458665, 458643, 458589, 458524, 458399, 458273, 458116, 457942, 457771, 457567, 457256, 456765, 455946, 454982, 454009, 453045, 452072, 451095, 450113, 449127, 448146, 447167, 446178, 445194, 444203, 443217, 442232, 441246, 440261, 439279, 438283, 437289, 436301, 435308, 434319, 433328, 432337, 431349, 430356, 429367, 428376, 427381, 426392, 425400, 424411, 423415, 422422, 421425, 420428, 419435, 418446, 417451, 416455, 415463, 414466, 413474, 412479, 411484, 410490, 409491, 408495, 407506, 406510, 405513, 404517, 403518, 402523, 401528, 400534, 399538, 398542, 397544, 396545, 395548, 394555, 393559, 392562, 391566, 390567, 389570, 388574, 387578, 386579, 385581, 384584, 383587, 382589, 381593, 380594, 379596, 378598, 377601, 376606, 375608, 374611, 373613, 372615, 371616, 370618, 369618, 368619, 367621, 366623, 365624, 364628, 363629, 362631, 361631, 360631, 359634, 358635, 357636, 356640, 355640, 354640, 353641, 352642, 351643, 350645, 349646, 348647, 347648, 346649, 345650, 344652, 343654, 342655, 341655, 340655, 339657, 338657, 337658, 336659, 335663, 334664, 333665, 332665, 331665, 330666, 329667, 328670, 327671, 326671, 325672, 324672, 323673, 322673, 321674, 320674, 319675, 318676, 317677, 316677, 315679, 314679, 313679, 312679, 311679, 310679, 309679, 308679, 307680, 306680, 305680, 304680, 303681, 302681, 301681, 300683, 299683, 298683, 297683, 296684, 295685, 294685, 293685, 292685, 291686, 290687, 289687, 288687, 287687, 286688, 285689, 284689, 283689, 282689, 281689, 280690, 279690, 278691, 277691, 276692, 275692, 274692, 273693, 272694, 271694, 270695, 269697, 268697, 267697, 266697, 265698, 264698, 263699, 262699, 261699, 260700, 259701, 258702, 257702, 256702, 255703, 254703, 253704, 252704, 251704, 250704, 249704, 248704, 247704, 246704, 245704, 244704, 243704, 242704, 241704, 240704, 239704, 238704, 237704, 236705, 235705, 234705, 233705, 232705, 231705, 230706, 229706, 228706, 227707, 226707, 225707, 224707, 223707, 222707, 221707, 220708, 219709, 218709, 217709, 216709, 215709, 214709, 213709, 212709, 211709, 210709, 209710, 208710, 207710, 206710, 205710, 204710, 203710, 202711, 201711, 200711, 199711, 198712, 197712, 196712, 195712, 194712, 193712, 192712, 191713, 190713, 189713, 188713, 187713, 186713, 185713, 184713, 183713, 182713, 181713, 180713, 179713, 178713, 177713, 176713, 175713, 174714, 173714, 172714, 171714, 170714, 169714, 168714, 167716, 166716, 165716, 164716, 163716, 162716, 161716, 160716, 159716, 158716, 157716, 156716, 155716, 154716, 153716, 152716, 151716, 150716, 149716, 148716, 147716, 146716, 145716, 144716, 143716, 142716, 141716, 140716, 139716, 138716, 137716, 136716, 135716, 134716, 133716, 132716, 131716, 130716, 129716, 128716, 127716, 126716, 125716, 124716, 123716, 122716, 121716, 120716, 119716, 118717, 117717, 116717, 115717, 114717, 113717, 112717, 111717, 110717, 109717, 108718, 107718, 106718, 105718, 104718, 103718, 102718, 101719, 100719, 99720, 98720, 97720, 96720, 95720, 94720, 93720, 92720, 91720, 90720, 89721, 88721, 87721, 86721, 85721, 84721, 83721, 82721, 81721, 80721, 79721, 78721, 77721, 76721, 75721, 74721, 73721, 72721, 71722, 70722, 69722, 68722, 67722, 66722, 65722, 64722, 63722, 62723, 61723, 60723, 59723, 58723, 57723, 56723, 55723, 54723, 53723, 52723, 51723, 50723, 49723, 48724, 47724, 46724, 45724, 44725, 43725, 42725, 41725, 40725, 39725, 38725, 37725, 36725, 35725, 34725, 33725, 32725, 31725, 30725, 29725, 28725, 27725, 26725, 25725, 24725, 23725, 22725, 21725, 20725, 19725, 18725, 17725, 16725, 15725, 14725, 13725, 12725, 11725, 10725, 9725, 8725, 7725, 6725, 5725, 4725, 3725, 2725, 1725, 725]), 'sim_rank_metric': ([1, 10, 19, 32, 50, 68, 86, 104, 124, 133, 146, 161, 175, 189, 202, 220, 229, 242, 257, 276, 284, 298, 309, 327, 332, 339, 348, 360, 378, 389, 405, 414, 419, 428, 438, 447, 453, 462, 471, 473, 480, 488, 497, 504, 509, 513, 518, 526, 533, 542, 549, 554, 559, 561, 566, 573, 576, 580, 584, 588, 597, 603, 606, 611, 613, 617, 619, 619, 624, 630, 635, 640, 641, 643, 644, 645, 650, 651, 655, 658, 662, 665, 668, 671, 673, 675, 675, 677, 679, 679, 681, 682, 686, 688, 689, 690, 692, 694, 695, 697, 697, 698, 700, 704, 705, 706, 709, 711, 711, 714, 714, 718, 718, 722, 723, 725, 727, 728, 730, 733, 735, 735, 735, 736, 738, 739, 741, 744, 745, 746, 747, 749, 752, 752, 754, 755, 756, 756, 757, 760, 761, 763, 765, 765, 767, 767, 767, 769, 770, 771, 771, 771, 772, 772, 776, 777, 779, 779, 780, 782, 782, 782, 782, 782, 782, 783, 783, 783, 783, 784, 786, 787, 789, 791, 791, 792, 792, 793, 793, 795, 796, 796, 796, 797, 798, 799, 801, 801, 803, 804, 805, 805, 805, 805, 807, 807, 807, 808, 809, 809, 809, 810, 811, 811, 811, 811, 811, 812, 812, 812, 812, 813, 814, 814, 814, 814, 815, 815, 816, 816, 817, 817, 817, 818, 818, 818, 819, 819, 819, 820, 820, 820, 821, 821, 821, 821, 821, 822, 822, 822, 823, 824, 824, 824, 824, 824, 824, 825, 825, 825, 825, 825, 825, 826, 826, 826, 826, 826, 826, 826, 826, 826, 826, 827, 828, 829, 829, 830, 830, 830, 830, 831, 831, 832, 833, 833, 833, 834, 835, 835, 836, 836, 836, 837, 838, 838, 838, 838, 838, 838, 838, 838, 838, 838, 838, 838, 838, 838, 838, 838, 838, 838, 838, 838, 839, 839, 839, 839, 840, 841, 841, 841, 841, 841, 842, 844, 844, 844, 845, 845, 846, 846, 846, 847, 847, 847, 847, 847, 847, 847, 847, 847, 847, 847, 847, 847, 847, 847, 847, 847, 847, 847, 847, 847, 847, 847, 847, 847, 847, 847, 847, 847, 847, 847, 847, 847, 847, 847, 847, 847, 847, 847, 847, 847, 847, 847, 847, 847, 847, 847, 847, 847, 847, 847, 847, 847, 847, 847, 847, 847, 847, 847, 847, 847, 847, 847, 847, 847, 847, 847, 847, 847, 847, 847, 848, 848, 849, 849, 849, 849, 849, 849, 849, 849, 849, 849, 849, 849, 849, 849, 849, 849, 849, 849, 849, 849, 849, 849, 849, 849, 849, 850, 850, 850, 850, 850, 850, 850, 850, 850, 850, 850, 850, 850, 850, 850, 850, 850, 850, 851, 851, 851, 852, 852, 852, 852, 852, 852, 852, 852, 852, 852, 852, 852, 852, 852, 852, 852, 852, 852, 852, 852, 852, 852, 852, 852, 852, 852, 852, 852, 852, 852, 852, 852, 852], [22, 263, 518, 846, 1224, 1613, 2045, 2529, 3048, 3590, 4176, 4764, 5391, 6038, 6689, 7372, 8069, 8804, 9521, 10260, 11010, 11800, 12597, 13363, 14159, 14977, 15793, 16626, 17472, 18309, 19162, 20035, 20901, 21758, 22615, 23495, 24381, 25266, 26161, 27077, 27988, 28900, 29799, 30717, 31632, 32568, 33492, 34414, 35345, 36276, 37209, 38143, 39081, 40024, 40962, 41911, 42850, 43796, 44749, 45705, 46661, 47598, 48556, 49504, 50461, 51422, 52383, 53334, 54286, 55237, 56197, 57168, 58134, 59095, 60062, 61029, 61989, 62964, 63927, 64904, 65871, 66842, 67820, 68794, 69765, 70734, 71711, 72685, 73656, 74636, 75618, 76602, 77579, 78560, 79541, 80520, 81500, 82476, 83457, 84431, 85412, 86393, 87373, 88350, 89331, 90312, 91297, 92289, 93276, 94252, 95235, 96222, 97210, 98195, 99179, 100163, 101144, 102130, 103119, 104103, 105088, 106081, 107070, 108051, 109037, 110024, 111003, 111993, 112985, 113977, 114965, 115952, 116940, 117928, 118916, 119902, 120895, 121878, 122863, 123854, 124847, 125831, 126818, 127806, 128797, 129786, 130779, 131771, 132763, 133753, 134746, 135736, 136729, 137721, 138711, 139700, 140692, 141684, 142675, 143667, 144659, 145651, 146643, 147636, 148632, 149628, 150623, 151615, 152606, 153598, 154591, 155586, 156576, 157568, 158561, 159552, 160545, 161539, 162532, 163521, 164515, 165506, 166502, 167495, 168490, 169484, 170480, 171478, 172470, 173462, 174456, 175451, 176447, 177444, 178438, 179435, 180428, 181425, 182422, 183420, 184416, 185413, 186405, 187398, 188396, 189393, 190384, 191378, 192375, 193372, 194368, 195363, 196356, 197351, 198350, 199348, 200344, 201340, 202335, 203330, 204323, 205320, 206318, 207316, 208315, 209313, 210309, 211305, 212300, 213296, 214296, 215293, 216291, 217289, 218286, 219285, 220281, 221280, 222274, 223270, 224266, 225260, 226256, 227253, 228251, 229249, 230248, 231246, 232243, 233240, 234239, 235239, 236236, 237233, 238232, 239232, 240229, 241228, 242227, 243227, 244225, 245222, 246220, 247216, 248214, 249211, 250209, 251206, 252205, 253200, 254195, 255192, 256191, 257189, 258185, 259184, 260181, 261175, 262170, 263166, 264165, 265164, 266162, 267159, 268157, 269157, 270157, 271156, 272152, 273148, 274143, 275142, 276140, 277137, 278137, 279135, 280134, 281134, 282134, 283134, 284132, 285132, 286132, 287131, 288128, 289126, 290125, 291122, 292120, 293114, 294112, 295112, 296110, 297109, 298106, 299104, 300104, 301103, 302102, 303101, 304099, 305098, 306097, 307096, 308095, 309095, 310094, 311094, 312094, 313094, 314092, 315091, 316091, 317091, 318091, 319090, 320090, 321090, 322087, 323087, 324086, 325086, 326086, 327086, 328086, 329086, 330086, 331086, 332086, 333086, 334086, 335086, 336086, 337086, 338085, 339085, 340085, 341084, 342084, 343084, 344084, 345084, 346084, 347084, 348084, 349084, 350084, 351084, 352084, 353084, 354084, 355084, 356084, 357084, 358084, 359084, 360084, 361084, 362082, 363082, 364081, 365081, 366081, 367081, 368081, 369081, 370080, 371080, 372080, 373080, 374080, 375080, 376080, 377080, 378078, 379078, 380077, 381077, 382077, 383077, 384077, 385076, 386076, 387076, 388075, 389075, 390075, 391075, 392071, 393071, 394071, 395071, 396071, 397071, 398071, 399071, 400069, 401069, 402069, 403069, 404069, 405067, 406067, 407067, 408067, 409067, 410067, 411067, 412067, 413067, 414067, 415067, 416067, 417067, 418067, 419067, 420067, 421067, 422067, 423066, 424066, 425066, 426065, 427064, 428064, 429064, 430063, 431063, 432063, 433063, 434063, 435063, 436063, 437063, 438063, 439063, 440063, 441063, 442063, 443063, 444063, 445063, 446063, 447063, 448063, 449063, 450063, 451063, 452063, 453063, 454063, 455063, 456063, 457063, 458063], [851, 842, 833, 820, 802, 784, 766, 748, 728, 719, 706, 691, 677, 663, 650, 632, 623, 610, 595, 576, 568, 554, 543, 525, 520, 513, 504, 492, 474, 463, 447, 438, 433, 424, 414, 405, 399, 390, 381, 379, 372, 364, 355, 348, 343, 339, 334, 326, 319, 310, 303, 298, 293, 291, 286, 279, 276, 272, 268, 264, 255, 249, 246, 241, 239, 235, 233, 233, 228, 222, 217, 212, 211, 209, 208, 207, 202, 201, 197, 194, 190, 187, 184, 181, 179, 177, 177, 175, 173, 173, 171, 170, 166, 164, 163, 162, 160, 158, 157, 155, 155, 154, 152, 148, 147, 146, 143, 141, 141, 138, 138, 134, 134, 130, 129, 127, 125, 124, 122, 119, 117, 117, 117, 116, 114, 113, 111, 108, 107, 106, 105, 103, 100, 100, 98, 97, 96, 96, 95, 92, 91, 89, 87, 87, 85, 85, 85, 83, 82, 81, 81, 81, 80, 80, 76, 75, 73, 73, 72, 70, 70, 70, 70, 70, 70, 69, 69, 69, 69, 68, 66, 65, 63, 61, 61, 60, 60, 59, 59, 57, 56, 56, 56, 55, 54, 53, 51, 51, 49, 48, 47, 47, 47, 47, 45, 45, 45, 44, 43, 43, 43, 42, 41, 41, 41, 41, 41, 40, 40, 40, 40, 39, 38, 38, 38, 38, 37, 37, 36, 36, 35, 35, 35, 34, 34, 34, 33, 33, 33, 32, 32, 32, 31, 31, 31, 31, 31, 30, 30, 30, 29, 28, 28, 28, 28, 28, 28, 27, 27, 27, 27, 27, 27, 26, 26, 26, 26, 26, 26, 26, 26, 26, 26, 25, 24, 23, 23, 22, 22, 22, 22, 21, 21, 20, 19, 19, 19, 18, 17, 17, 16, 16, 16, 15, 14, 14, 14, 14, 14, 14, 14, 14, 14, 14, 14, 14, 14, 14, 14, 14, 14, 14, 14, 14, 13, 13, 13, 13, 12, 11, 11, 11, 11, 11, 10, 8, 8, 8, 7, 7, 6, 6, 6, 5, 5, 5, 5, 5, 5, 5, 5, 5, 5, 5, 5, 5, 5, 5, 5, 5, 5, 5, 5, 5, 5, 5, 5, 5, 5, 5, 5, 5, 5, 5, 5, 5, 5, 5, 5, 5, 5, 5, 5, 5, 5, 5, 5, 5, 5, 5, 5, 5, 5, 5, 5, 5, 5, 5, 5, 5, 5, 5, 5, 5, 5, 5, 5, 5, 5, 5, 5, 5, 5, 5, 4, 4, 3, 3, 3, 3, 3, 3, 3, 3, 3, 3, 3, 3, 3, 3, 3, 3, 3, 3, 3, 3, 3, 3, 3, 3, 3, 2, 2, 2, 2, 2, 2, 2, 2, 2, 2, 2, 2, 2, 2, 2, 2, 2, 2, 1, 1, 1, 0, 0, 0, 0, 0, 0, 0, 0, 0, 0, 0, 0, 0, 0, 0, 0, 0, 0, 0, 0, 0, 0, 0, 0, 0, 0, 0, 0, 0, 0, 0, 0, 0], [458766, 458525, 458270, 457942, 457564, 457175, 456743, 456259, 455740, 455198, 454612, 454024, 453397, 452750, 452099, 451416, 450719, 449984, 449267, 448528, 447778, 446988, 446191, 445425, 444629, 443811, 442995, 442162, 441316, 440479, 439626, 438753, 437887, 437030, 436173, 435293, 434407, 433522, 432627, 431711, 430800, 429888, 428989, 428071, 427156, 426220, 425296, 424374, 423443, 422512, 421579, 420645, 419707, 418764, 417826, 416877, 415938, 414992, 414039, 413083, 412127, 411190, 410232, 409284, 408327, 407366, 406405, 405454, 404502, 403551, 402591, 401620, 400654, 399693, 398726, 397759, 396799, 395824, 394861, 393884, 392917, 391946, 390968, 389994, 389023, 388054, 387077, 386103, 385132, 384152, 383170, 382186, 381209, 380228, 379247, 378268, 377288, 376312, 375331, 374357, 373376, 372395, 371415, 370438, 369457, 368476, 367491, 366499, 365512, 364536, 363553, 362566, 361578, 360593, 359609, 358625, 357644, 356658, 355669, 354685, 353700, 352707, 351718, 350737, 349751, 348764, 347785, 346795, 345803, 344811, 343823, 342836, 341848, 340860, 339872, 338886, 337893, 336910, 335925, 334934, 333941, 332957, 331970, 330982, 329991, 329002, 328009, 327017, 326025, 325035, 324042, 323052, 322059, 321067, 320077, 319088, 318096, 317104, 316113, 315121, 314129, 313137, 312145, 311152, 310156, 309160, 308165, 307173, 306182, 305190, 304197, 303202, 302212, 301220, 300227, 299236, 298243, 297249, 296256, 295267, 294273, 293282, 292286, 291293, 290298, 289304, 288308, 287310, 286318, 285326, 284332, 283337, 282341, 281344, 280350, 279353, 278360, 277363, 276366, 275368, 274372, 273375, 272383, 271390, 270392, 269395, 268404, 267410, 266413, 265416, 264420, 263425, 262432, 261437, 260438, 259440, 258444, 257448, 256453, 255458, 254465, 253468, 252470, 251472, 250473, 249475, 248479, 247483, 246488, 245492, 244492, 243495, 242497, 241499, 240502, 239503, 238507, 237508, 236514, 235518, 234522, 233528, 232532, 231535, 230537, 229539, 228540, 227542, 226545, 225548, 224549, 223549, 222552, 221555, 220556, 219556, 218559, 217560, 216561, 215561, 214563, 213566, 212568, 211572, 210574, 209577, 208579, 207582, 206583, 205588, 204593, 203596, 202597, 201599, 200603, 199604, 198607, 197613, 196618, 195622, 194623, 193624, 192626, 191629, 190631, 189631, 188631, 187632, 186636, 185640, 184645, 183646, 182648, 181651, 180651, 179653, 178654, 177654, 176654, 175654, 174656, 173656, 172656, 171657, 170660, 169662, 168663, 167666, 166668, 165674, 164676, 163676, 162678, 161679, 160682, 159684, 158684, 157685, 156686, 155687, 154689, 153690, 152691, 151692, 150693, 149693, 148694, 147694, 146694, 145694, 144696, 143697, 142697, 141697, 140697, 139698, 138698, 137698, 136701, 135701, 134702, 133702, 132702, 131702, 130702, 129702, 128702, 127702, 126702, 125702, 124702, 123702, 122702, 121702, 120703, 119703, 118703, 117704, 116704, 115704, 114704, 113704, 112704, 111704, 110704, 109704, 108704, 107704, 106704, 105704, 104704, 103704, 102704, 101704, 100704, 99704, 98704, 97704, 96706, 95706, 94707, 93707, 92707, 91707, 90707, 89707, 88708, 87708, 86708, 85708, 84708, 83708, 82708, 81708, 80710, 79710, 78711, 77711, 76711, 75711, 74711, 73712, 72712, 71712, 70713, 69713, 68713, 67713, 66717, 65717, 64717, 63717, 62717, 61717, 60717, 59717, 58719, 57719, 56719, 55719, 54719, 53721, 52721, 51721, 50721, 49721, 48721, 47721, 46721, 45721, 44721, 43721, 42721, 41721, 40721, 39721, 38721, 37721, 36721, 35722, 34722, 33722, 32723, 31724, 30724, 29724, 28725, 27725, 26725, 25725, 24725, 23725, 22725, 21725, 20725, 19725, 18725, 17725, 16725, 15725, 14725, 13725, 12725, 11725, 10725, 9725, 8725, 7725, 6725, 5725, 4725, 3725, 2725, 1725, 725])}\n"
     ]
    }
   ],
   "source": [
    "print(eval_dict)"
   ]
  },
  {
   "cell_type": "code",
   "execution_count": 26,
   "metadata": {},
   "outputs": [
    {
     "data": {
      "text/plain": [
       "<Figure size 640x480 with 1 Axes>"
      ]
     },
     "metadata": {},
     "output_type": "display_data"
    }
   ],
   "source": [
    "import matplotlib.pyplot as plt\n",
    "# runtime_list = [(\"sorensen_index\", 27.09092879295349), (\"jaccard_coefficient\", 25.885604858398438), (\"salton_cosine_similarity\", 24.5566189289093), (\"preferential_attachment\", 2.428096055984497), (\"katz_based_metric\", 3928.244481086731), (\"local_path_based_metric\",3872.1378161907196), (\"rooted_pagerank\", 43.99491000175476), (\"sim_rank_metric\", 3.515040874481201), (\"commute_time\", 8.456705093383789)] #sim_rank_metric\n",
    "# runtime_list = [(\"sorensen_index\", 12.99717116355896), (\"jaccard_coefficient\", 12.888545036315918), (\"salton_cosine_similarity\", 12.54797101020813), (\"preferential_attachment\", 1.6181550025939941), (\"katz_based_metric\", 587.9814021587372), (\"local_path_based_metric\",3872.1378161907196), (\"rooted_pagerank\", 43.99491000175476), (\"sim_rank_metric\", 3.515040874481201), (\"commute_time\", 8.456705093383789)]\n",
    "runtime_list = sorted(runtime_list, key=lambda x: x[1], reverse=True)\n",
    "\n",
    "method_names = []\n",
    "runtimes = []\n",
    "for item in runtime_list:\n",
    "    method_names.append(item[0])\n",
    "    runtimes.append(item[1])\n",
    "    \n",
    "\n",
    "y_pos = np.arange(len(method_names))\n",
    " \n",
    "plt.barh(y_pos, runtimes, align='center', alpha=0.5)\n",
    "plt.yticks(y_pos, method_names)\n",
    "plt.xscale('log')\n",
    "\n",
    "plt.xlabel('Runtime [s]')\n",
    "\n",
    "plt.title('Runtime Comparision')\n",
    "\n",
    "plt.savefig(\"Runtime_Comparision.png\", dpi=800, bbox_inches = 'tight') # save as png\n",
    "plt.show()"
   ]
  },
  {
   "cell_type": "code",
   "execution_count": 80,
   "metadata": {},
   "outputs": [],
   "source": [
    "true_link_g = nx.Graph()\n",
    "for link in true_links:\n",
    "    if not email_train_g.has_edge(link[0], link[1]):\n",
    "        true_link_g.add_edge(link[0], link[1])"
   ]
  },
  {
   "cell_type": "code",
   "execution_count": 91,
   "metadata": {},
   "outputs": [],
   "source": [
    "nx.write_gml(full_graph, \"ground_truth_graph.gml\")"
   ]
  },
  {
   "cell_type": "code",
   "execution_count": 23,
   "metadata": {},
   "outputs": [],
   "source": [
    "D_inv = np.linalg.pinv(D)\n",
    "e = 0.2\n",
    "RPR = (1 - e)*np.linalg.pinv((np.identity(num_nodes) - e*np.matmul(D_inv, A.todense())))"
   ]
  },
  {
   "cell_type": "code",
   "execution_count": 41,
   "metadata": {},
   "outputs": [
    {
     "name": "stdout",
     "output_type": "stream",
     "text": [
      "15203\n"
     ]
    }
   ],
   "source": [
    "print(len(email_train_g.edges()))"
   ]
  },
  {
   "cell_type": "code",
   "execution_count": 25,
   "metadata": {},
   "outputs": [
    {
     "name": "stdout",
     "output_type": "stream",
     "text": [
      "9.706658619597145e-05\n"
     ]
    }
   ],
   "source": [
    "nodelist = sorted(G.nodes)\n",
    "print(RPR[nodelist.index('0'), nodelist.index('111')])"
   ]
  },
  {
   "cell_type": "code",
   "execution_count": 51,
   "metadata": {},
   "outputs": [
    {
     "name": "stdout",
     "output_type": "stream",
     "text": [
      "80534\n"
     ]
    }
   ],
   "source": [
    "print(len(facebook.edges()))"
   ]
  },
  {
   "cell_type": "code",
   "execution_count": 19,
   "metadata": {},
   "outputs": [
    {
     "name": "stdout",
     "output_type": "stream",
     "text": [
      "380.1920000000001\n"
     ]
    }
   ],
   "source": [
    "c = compute_num_of_path(email_train_g, '587', '245', 3)\n",
    "cutoff = 3\n",
    "beta = 0.8\n",
    "curB = 1\n",
    "katz = 0\n",
    "for i in range(1, cutoff + 1):\n",
    "    curB *= beta\n",
    "    katz += curB * c[i]\n",
    "print(katz)"
   ]
  }
 ],
 "metadata": {
  "kernelspec": {
   "display_name": "Python 3",
   "language": "python",
   "name": "python3"
  },
  "language_info": {
   "codemirror_mode": {
    "name": "ipython",
    "version": 3
   },
   "file_extension": ".py",
   "mimetype": "text/x-python",
   "name": "python",
   "nbconvert_exporter": "python",
   "pygments_lexer": "ipython3",
   "version": "3.7.0"
  }
 },
 "nbformat": 4,
 "nbformat_minor": 2
}
