{
 "cells": [
  {
   "cell_type": "markdown",
   "metadata": {},
   "source": [
    "# CSE416 - Final Project: Link Prediction\n",
    "\n",
    "name: Angelica Tao Zhu, Yue Lin"
   ]
  },
  {
   "cell_type": "code",
   "execution_count": 2,
   "metadata": {},
   "outputs": [],
   "source": [
    "import networkx as nx\n",
    "import numpy as np\n",
    "\n",
    "# load General Relativity and Quantum Cosmology collaboration network from text file\n",
    "collaboration_network = nx.Graph()\n",
    "with open(\"dataset/ca-GrQc.txt\", \"r\") as fp:\n",
    "    line = fp.readline()\n",
    "    # skip comments\n",
    "    while line[0] == '#':\n",
    "        line = fp.readline()\n",
    "        \n",
    "    while line:\n",
    "        edge = line.split()\n",
    "        collaboration_network.add_edge(edge[0], edge[1])\n",
    "        line = fp.readline()\n",
    "\n",
    "# load facebook ego network\n",
    "facebook_ego = nx.Graph()\n",
    "with open(\"dataset/facebook_combined.txt\", \"r\") as fp:\n",
    "    line = fp.readline()\n",
    "        \n",
    "    while line:\n",
    "        edge = line.split()\n",
    "        facebook_ego.add_edge(edge[0], edge[1])\n",
    "        line = fp.readline()\n",
    "        \n",
    "# load email-Eu-core temporal network\n",
    "email_eu = nx.Graph()\n",
    "with open(\"dataset/email-Eu-core-temporal.txt\", \"r\") as fp:\n",
    "    line = fp.readline()\n",
    "    while line:\n",
    "        edge = line.split()\n",
    "        email_eu.add_edge(edge[0], edge[1])\n",
    "        line = fp.readline()"
   ]
  },
  {
   "cell_type": "code",
   "execution_count": 3,
   "metadata": {},
   "outputs": [],
   "source": [
    "def loadGraph(fileName):\n",
    "    g = nx.Graph()\n",
    "    with open(\"dataset/\" + fileName + \".txt\", \"r\") as fp:\n",
    "        line = fp.readline()\n",
    "        \n",
    "        # skip comments\n",
    "        while line[0] == '#':\n",
    "            line = fp.readline()\n",
    "            \n",
    "        while line:\n",
    "            edge = line.split()\n",
    "            g.add_edge(edge[0], edge[1])\n",
    "            line = fp.readline()\n",
    "    return g"
   ]
  },
  {
   "cell_type": "code",
   "execution_count": 13,
   "metadata": {},
   "outputs": [],
   "source": [
    "def splitFile(fileName, percentage):\n",
    "    filePath = 'dataset/' + fileName + '.txt'\n",
    "    num_lines = sum(1 for line in open(filePath))\n",
    "    num_train_lines = int(num_lines * percentage)\n",
    "    with open(filePath) as fp:\n",
    "        count = 1\n",
    "        line = fp.readline()\n",
    "        \n",
    "        trainf = open('dataset/' + fileName + '_train.txt', \"a\")\n",
    "        while count < num_train_lines:\n",
    "            trainf.write(line)\n",
    "            line = fp.readline()\n",
    "            count += 1\n",
    "        \n",
    "        testf = open('dataset/' + fileName + '_test.txt', \"a\")\n",
    "        while line:\n",
    "            testf.write(line)\n",
    "            line = fp.readline()"
   ]
  },
  {
   "cell_type": "code",
   "execution_count": 4,
   "metadata": {},
   "outputs": [],
   "source": [
    "def _apply_prediction(G, func, ebunch=None):\n",
    "    \"\"\"Applies the given function to each edge in the specified iterable\n",
    "    of edges.\n",
    "\n",
    "    `G` is an instance of :class:`networkx.Graph`.\n",
    "\n",
    "    `func` is a function on two inputs, each of which is a node in the\n",
    "    graph. The function can return anything, but it should return a\n",
    "    value representing a prediction of the likelihood of a \"link\"\n",
    "    joining the two nodes.\n",
    "\n",
    "    `ebunch` is an iterable of pairs of nodes. If not specified, all\n",
    "    non-edges in the graph `G` will be used.\n",
    "\n",
    "    \"\"\"\n",
    "    if ebunch is None:\n",
    "        ebunch = nx.non_edges(G)\n",
    "    return ((u, v, func(u, v)) for u, v in ebunch)"
   ]
  },
  {
   "cell_type": "code",
   "execution_count": 5,
   "metadata": {},
   "outputs": [],
   "source": [
    "def jaccard_coefficient(G, ebunch=None):\n",
    "    \"\"\"Compute the Jaccard coefficient of all node pairs in ebunch.\n",
    "\n",
    "    Jaccard coefficient of nodes `u` and `v` is defined as\n",
    "\n",
    "    .. math::\n",
    "\n",
    "        \\frac{|\\Gamma(u) \\cap \\Gamma(v)|}{|\\Gamma(u) \\cup \\Gamma(v)|}\n",
    "\n",
    "    where $\\Gamma(u)$ denotes the set of neighbors of $u$.\n",
    "\n",
    "    Parameters\n",
    "    ----------\n",
    "    G : graph\n",
    "        A NetworkX undirected graph.\n",
    "\n",
    "    ebunch : iterable of node pairs, optional (default = None)\n",
    "        Jaccard coefficient will be computed for each pair of nodes\n",
    "        given in the iterable. The pairs must be given as 2-tuples\n",
    "        (u, v) where u and v are nodes in the graph. If ebunch is None\n",
    "        then all non-existent edges in the graph will be used.\n",
    "        Default value: None.\n",
    "\n",
    "    Returns\n",
    "    -------\n",
    "    piter : iterator\n",
    "        An iterator of 3-tuples in the form (u, v, p) where (u, v) is a\n",
    "        pair of nodes and p is their Jaccard coefficient.\n",
    "\n",
    "    Examples\n",
    "    --------\n",
    "    >>> import networkx as nx\n",
    "    >>> G = nx.complete_graph(5)\n",
    "    >>> preds = nx.jaccard_coefficient(G, [(0, 1), (2, 3)])\n",
    "    >>> for u, v, p in preds:\n",
    "    ...     '(%d, %d) -> %.8f' % (u, v, p)\n",
    "    ...\n",
    "    '(0, 1) -> 0.60000000'\n",
    "    '(2, 3) -> 0.60000000'\n",
    "\n",
    "    References\n",
    "    ----------\n",
    "    .. [1] D. Liben-Nowell, J. Kleinberg.\n",
    "           The Link Prediction Problem for Social Networks (2004).\n",
    "           http://www.cs.cornell.edu/home/kleinber/link-pred.pdf\n",
    "    \"\"\"\n",
    "    def predict(u, v):\n",
    "        union_size = len(set(G[u]) | set(G[v]))\n",
    "        if union_size == 0:\n",
    "            return 0\n",
    "        return len(list(nx.common_neighbors(G, u, v))) / union_size\n",
    "    return _apply_prediction(G, predict, ebunch)"
   ]
  },
  {
   "cell_type": "code",
   "execution_count": 6,
   "metadata": {},
   "outputs": [],
   "source": [
    "def sorensen_index(G, ebunch=None):\n",
    "    \"\"\"Compute the Sorensen Index of all node pairs in ebunch.\n",
    "\n",
    "    Sorensen Index of nodes `u` and `v` is defined as\n",
    "\n",
    "    .. math::\n",
    "\n",
    "        \\frac{|\\Gamma(u) \\cap \\Gamma(v)|}{|\\Gamma(u)| + |\\Gamma(v)|}\n",
    "\n",
    "    where $\\Gamma(u)$ denotes the set of neighbors of $u$.\n",
    "\n",
    "    Parameters\n",
    "    ----------\n",
    "    G : graph\n",
    "        A NetworkX undirected graph.\n",
    "\n",
    "    ebunch : iterable of node pairs, optional (default = None)\n",
    "        Jaccard coefficient will be computed for each pair of nodes\n",
    "        given in the iterable. The pairs must be given as 2-tuples\n",
    "        (u, v) where u and v are nodes in the graph. If ebunch is None\n",
    "        then all non-existent edges in the graph will be used.\n",
    "        Default value: None.\n",
    "\n",
    "    Returns\n",
    "    -------\n",
    "    piter : iterator\n",
    "        An iterator of 3-tuples in the form (u, v, p) where (u, v) is a\n",
    "        pair of nodes and p is their Jaccard coefficient.\n",
    "    \"\"\"\n",
    "    def predict(u, v):\n",
    "        union_size = len(set(G[u])) + len(set(G[v]))\n",
    "        if union_size == 0:\n",
    "            return 0\n",
    "        return len(list(nx.common_neighbors(G, u, v))) / union_size\n",
    "    return _apply_prediction(G, predict, ebunch)"
   ]
  },
  {
   "cell_type": "code",
   "execution_count": 7,
   "metadata": {},
   "outputs": [],
   "source": [
    "def salton_cosine_similarity(G, ebunch=None):\n",
    "    \"\"\"Compute the Salton Cosine Similarity of all node pairs in ebunch.\n",
    "\n",
    "    Salton Cosine Similarity of nodes `u` and `v` is defined as\n",
    "\n",
    "    .. math::\n",
    "\n",
    "        \\frac{|\\Gamma(u) \\cap \\Gamma(v)|}{\\sqrt{|\\Gamma(u)| \\times |\\Gamma(v)|}}\n",
    "\n",
    "    where $\\Gamma(u)$ denotes the set of neighbors of $u$.\n",
    "\n",
    "    Parameters\n",
    "    ----------\n",
    "    G : graph\n",
    "        A NetworkX undirected graph.\n",
    "\n",
    "    ebunch : iterable of node pairs, optional (default = None)\n",
    "        Jaccard coefficient will be computed for each pair of nodes\n",
    "        given in the iterable. The pairs must be given as 2-tuples\n",
    "        (u, v) where u and v are nodes in the graph. If ebunch is None\n",
    "        then all non-existent edges in the graph will be used.\n",
    "        Default value: None.\n",
    "\n",
    "    Returns\n",
    "    -------\n",
    "    piter : iterator\n",
    "        An iterator of 3-tuples in the form (u, v, p) where (u, v) is a\n",
    "        pair of nodes and p is their Jaccard coefficient.\n",
    "    \"\"\"\n",
    "    def predict(u, v):\n",
    "        import math\n",
    "        union_size = math.sqrt(len(set(G[u])) * len(set(G[v])))\n",
    "        if union_size == 0:\n",
    "            return 0\n",
    "        return len(list(nx.common_neighbors(G, u, v))) / union_size\n",
    "    return _apply_prediction(G, predict, ebunch)"
   ]
  },
  {
   "cell_type": "code",
   "execution_count": 8,
   "metadata": {},
   "outputs": [],
   "source": [
    "def preferential_attachment(G, ebunch=None):\n",
    "    \"\"\"Compute the Preferential Attachment of all node pairs in ebunch.\n",
    "\n",
    "    Preferential Attachment of nodes `u` and `v` is defined as\n",
    "\n",
    "    .. math::\n",
    "\n",
    "        \\frac{|\\Gamma(u) \\cap \\Gamma(v)|}{\\sqrt{|\\Gamma(u)| \\times |\\Gamma(v)|}}\n",
    "\n",
    "    where $\\Gamma(u)$ denotes the set of neighbors of $u$.\n",
    "\n",
    "    Parameters\n",
    "    ----------\n",
    "    G : graph\n",
    "        A NetworkX undirected graph.\n",
    "\n",
    "    ebunch : iterable of node pairs, optional (default = None)\n",
    "        Jaccard coefficient will be computed for each pair of nodes\n",
    "        given in the iterable. The pairs must be given as 2-tuples\n",
    "        (u, v) where u and v are nodes in the graph. If ebunch is None\n",
    "        then all non-existent edges in the graph will be used.\n",
    "        Default value: None.\n",
    "\n",
    "    Returns\n",
    "    -------\n",
    "    piter : iterator\n",
    "        An iterator of 3-tuples in the form (u, v, p) where (u, v) is a\n",
    "        pair of nodes and p is their Jaccard coefficient.\n",
    "    \"\"\"\n",
    "    def predict(u, v):\n",
    "        return len(set(G[u])) * len(set(G[v]))\n",
    "    return _apply_prediction(G, predict, ebunch)"
   ]
  },
  {
   "cell_type": "code",
   "execution_count": 9,
   "metadata": {},
   "outputs": [],
   "source": [
    "def rank(pred, k):\n",
    "    \"\"\"\n",
    "    Parameters\n",
    "    ----------\n",
    "    pred : An iterator of 3-tuples in the form (u, v, p) where (u, v) is a\n",
    "        pair of nodes and p is their Jaccard coefficient.\n",
    "\n",
    "    k : keep top k element based p\n",
    "\n",
    "    Returns\n",
    "    -------\n",
    "    top k list\n",
    "    \"\"\"\n",
    "    l = [(u, v, p) for u, v, p in pred]\n",
    "    \n",
    "    sorted_l = sorted(l, key=lambda x: x[2], reverse=True)\n",
    "    return sorted_l[0:k]"
   ]
  },
  {
   "cell_type": "code",
   "execution_count": 14,
   "metadata": {},
   "outputs": [],
   "source": [
    "splitFile('email-Eu-core-temporal', 0.9)\n",
    "email_train_g = loadGraph('email-Eu-core-temporal_train')"
   ]
  },
  {
   "cell_type": "code",
   "execution_count": 32,
   "metadata": {},
   "outputs": [],
   "source": [
    "pred = salton_cosine_similarity(email_train_g)\n",
    "res = rank(pred, 100)\n",
    "# print(res)"
   ]
  },
  {
   "cell_type": "code",
   "execution_count": 16,
   "metadata": {},
   "outputs": [
    {
     "data": {
      "text/plain": [
       "100"
      ]
     },
     "execution_count": 16,
     "metadata": {},
     "output_type": "execute_result"
    }
   ],
   "source": [
    "len(res)"
   ]
  },
  {
   "cell_type": "code",
   "execution_count": 11,
   "metadata": {},
   "outputs": [],
   "source": [
    "# evaluating prediction quality\n",
    "\n",
    "def prediction_eval(G, true_links, pred_links):\n",
    "    \"\"\"\n",
    "    G: network before prediction\n",
    "    \"\"\"\n",
    "    true_links = set(true_links)\n",
    "    pred_links = set(pred_links)\n",
    "    TP = 0; TN = 0; FP = 0; FN = 0\n",
    "\n",
    "    for u, v in nx.non_edges(G):\n",
    "        if ((u,v) in true_links or (v,u) in true_links) and ((u,v) in pred_links or (v,u) in pred_links):\n",
    "            TP += 1\n",
    "        elif (not ((u,v) in true_links or (v,u) in true_links)) and ((u,v) in pred_links or (v,u) in pred_links):\n",
    "            FP += 1\n",
    "        elif ((u,v) in true_links or (v,u) in true_links) and not (((u,v) in pred_links or (v,u) in pred_links)):\n",
    "            FN += 1\n",
    "        else:\n",
    "            TN += 1\n",
    "    \n",
    "#     print (TP, FP, FN, TN)\n",
    "#     precision = TP / (TP + FP)\n",
    "    return TP, FP, FN, TN"
   ]
  },
  {
   "cell_type": "code",
   "execution_count": 12,
   "metadata": {},
   "outputs": [],
   "source": [
    "# load true links\n",
    "def load_true_links(filename):\n",
    "    # load true links\n",
    "    true_links = []\n",
    "    with open(filename, \"r\") as fp:\n",
    "        line = fp.readline()\n",
    "\n",
    "        # skip comments\n",
    "        while line[0] == '#':\n",
    "            line = fp.readline()\n",
    "\n",
    "        while line:\n",
    "            edge = line.split()\n",
    "            true_links.append((edge[0], edge[1]))\n",
    "            line = fp.readline()\n",
    "    \n",
    "    return true_links"
   ]
  },
  {
   "cell_type": "code",
   "execution_count": 25,
   "metadata": {},
   "outputs": [],
   "source": [
    "def katz_based_metric(G, cutoff=3, beta=0.8, ebunch=None):\n",
    "    \"\"\"Compute the Katz based metric of all node pairs in ebunch.\n",
    "\n",
    "    Katz based metric of nodes `u` and `v` is defined as\n",
    "\n",
    "    .. math::\n",
    "\n",
    "        Katz(x, y) = βA + β2A2 + β3A3 + ...\n",
    "\n",
    "    where $\\Gamma(u)$ denotes the set of neighbors of $u$.\n",
    "\n",
    "    Parameters\n",
    "    ----------\n",
    "    G : graph\n",
    "        A NetworkX undirected graph.\n",
    "\n",
    "    ebunch : iterable of node pairs, optional (default = None)\n",
    "        Jaccard coefficient will be computed for each pair of nodes\n",
    "        given in the iterable. The pairs must be given as 2-tuples\n",
    "        (u, v) where u and v are nodes in the graph. If ebunch is None\n",
    "        then all non-existent edges in the graph will be used.\n",
    "        Default value: None.\n",
    "\n",
    "    Returns\n",
    "    -------\n",
    "    piter : iterator\n",
    "        An iterator of 3-tuples in the form (u, v, p) where (u, v) is a\n",
    "        pair of nodes and p is their Jaccard coefficient.\n",
    "    \"\"\"\n",
    "    def predict(u, v):\n",
    "        curB = 1\n",
    "        katz = 0\n",
    "        c = compute_num_of_path(email_train_g, u, v, cutoff)\n",
    "        for i in range(1, cutoff + 1):\n",
    "            curB *= beta\n",
    "            katz += curB * c[i]\n",
    "        return katz\n",
    "    return _apply_prediction(G, predict, ebunch)"
   ]
  },
  {
   "cell_type": "code",
   "execution_count": 29,
   "metadata": {},
   "outputs": [],
   "source": [
    "def local_path_based_metric(G, alpha=0.8, ebunch=None):\n",
    "    \"\"\"Compute the Local Path based metric of all node pairs in ebunch.\n",
    "\n",
    "    Local Path based metric of nodes `u` and `v` is defined as\n",
    "\n",
    "    .. math::\n",
    "\n",
    "        lp(x, y) = A2 + alpha*A3...\n",
    "\n",
    "    where $\\Gamma(u)$ denotes the set of neighbors of $u$.\n",
    "\n",
    "    Parameters\n",
    "    ----------\n",
    "    G : graph\n",
    "        A NetworkX undirected graph.\n",
    "\n",
    "    ebunch : iterable of node pairs, optional (default = None)\n",
    "        Jaccard coefficient will be computed for each pair of nodes\n",
    "        given in the iterable. The pairs must be given as 2-tuples\n",
    "        (u, v) where u and v are nodes in the graph. If ebunch is None\n",
    "        then all non-existent edges in the graph will be used.\n",
    "        Default value: None.\n",
    "\n",
    "    Returns\n",
    "    -------\n",
    "    piter : iterator\n",
    "        An iterator of 3-tuples in the form (u, v, p) where (u, v) is a\n",
    "        pair of nodes and p is their Jaccard coefficient.\n",
    "    \"\"\"\n",
    "    def predict(u, v):\n",
    "        c = compute_num_of_path(email_train_g, u, v, 3)\n",
    "        return c[2] + alpha * c[3]\n",
    "    return _apply_prediction(G, predict, ebunch)"
   ]
  },
  {
   "cell_type": "code",
   "execution_count": 17,
   "metadata": {},
   "outputs": [],
   "source": [
    "import collections\n",
    "def compute_num_of_path(G, u, v, cutoff):\n",
    "    paths = nx.all_simple_paths(G, source=u, target=v, cutoff=cutoff)\n",
    "    paths_len = [len(path) - 1 for path in paths]\n",
    "    return collections.Counter(paths_len)"
   ]
  },
  {
   "cell_type": "code",
   "execution_count": 30,
   "metadata": {},
   "outputs": [],
   "source": [
    "pred = local_path_based_metric(email_train_g)"
   ]
  },
  {
   "cell_type": "code",
   "execution_count": 19,
   "metadata": {},
   "outputs": [
    {
     "name": "stdout",
     "output_type": "stream",
     "text": [
      "380.1920000000001\n"
     ]
    }
   ],
   "source": [
    "c = compute_num_of_path(email_train_g, '587', '245', 3)\n",
    "cutoff = 3\n",
    "beta = 0.8\n",
    "curB = 1\n",
    "katz = 0\n",
    "for i in range(1, cutoff + 1):\n",
    "    curB *= beta\n",
    "    katz += curB * c[i]\n",
    "print(katz)"
   ]
  },
  {
   "cell_type": "code",
   "execution_count": 39,
   "metadata": {},
   "outputs": [
    {
     "name": "stdout",
     "output_type": "stream",
     "text": [
      "0.067\n"
     ]
    }
   ],
   "source": [
    "# TP, FP, FN, TN\n",
    "\n",
    "pred = preferential_attachment(email_train_g)\n",
    "res = rank(pred, 2000)\n",
    "\n",
    "pred_pairs = [(u,v) for u,v,p in res]\n",
    "true_links = load_true_links(\"dataset/email-Eu-core-temporal_test.txt\")\n",
    "TP, FP, FN, TN = prediction_eval(email_train_g, true_links, pred_pairs)\n",
    "precision = TP / (TP + FP)\n",
    "print(precision)"
   ]
  },
  {
   "cell_type": "code",
   "execution_count": 47,
   "metadata": {},
   "outputs": [],
   "source": [
    "def iter_to_list(it):\n",
    "    l = []\n",
    "    for u, v, p in it:\n",
    "        l.append((u,v,p))\n",
    "    return l"
   ]
  },
  {
   "cell_type": "code",
   "execution_count": null,
   "metadata": {},
   "outputs": [],
   "source": []
  },
  {
   "cell_type": "code",
   "execution_count": 54,
   "metadata": {},
   "outputs": [],
   "source": [
    "import numpy as np\n",
    "\n",
    "x = []\n",
    "precisions = []\n",
    "TPs = []\n",
    "FPs = []\n",
    "FNs = []\n",
    "TNs = []\n",
    "\n",
    "pred = preferential_attachment(email_train_g)\n",
    "pred = iter_to_list(pred)\n",
    "true_links = load_true_links(\"dataset/email-Eu-core-temporal_test.txt\")\n",
    "\n",
    "for i in np.arange(5,1000,5):\n",
    "    res = rank(pred, i)\n",
    "#     print(res)\n",
    "    pred_pairs = [(u,v) for u,v,p in res]\n",
    "    TP, FP, FN, TN = prediction_eval(email_train_g, true_links, pred_pairs)\n",
    "    x.append(i)\n",
    "    TPs.append(TP)\n",
    "    FPs.append(FP)\n",
    "    TNs.append(TN)\n",
    "    FNs.append(FN)\n",
    "    precision = TP / (TP + FP)\n",
    "    precisions.append(precision)"
   ]
  },
  {
   "cell_type": "code",
   "execution_count": 52,
   "metadata": {},
   "outputs": [
    {
     "data": {
      "image/png": "[encoded data removed]",
      "text/plain": [
       "<Figure size 432x288 with 1 Axes>"
      ]
     },
     "metadata": {},
     "output_type": "display_data"
    }
   ],
   "source": [
    "import matplotlib.pyplot as plt\n",
    "\n",
    "# plot graph\n",
    "plt.plot(x, precisions,'-')\n",
    "plt.xlabel('Number of Predictions')\n",
    "plt.ylabel('Precision')\n",
    "# save graph to local file\n",
    "# plt.savefig(\"degree_distribution.png\", dpi=400) # save as png\n",
    "plt.show()"
   ]
  },
  {
   "cell_type": "code",
   "execution_count": 60,
   "metadata": {},
   "outputs": [
    {
     "data": {
      "image/png": "[encoded data removed]",
      "text/plain": [
       "<Figure size 432x288 with 1 Axes>"
      ]
     },
     "metadata": {},
     "output_type": "display_data"
    }
   ],
   "source": [
    "#ROC\n",
    "\n",
    "plt.plot(FPs, TPs,'-')\n",
    "plt.xlabel('FP')\n",
    "plt.ylabel('TP')\n",
    "# save graph to local file\n",
    "# plt.savefig(\"degree_distribution.png\", dpi=400) # save as png\n",
    "plt.show()"
   ]
  },
  {
   "cell_type": "code",
   "execution_count": null,
   "metadata": {},
   "outputs": [],
   "source": []
  },
  {
   "cell_type": "code",
   "execution_count": null,
   "metadata": {},
   "outputs": [],
   "source": []
  },
  {
   "cell_type": "code",
   "execution_count": 17,
   "metadata": {},
   "outputs": [
    {
     "ename": "KeyboardInterrupt",
     "evalue": "",
     "output_type": "error",
     "traceback": [
      "\u001b[0;31m---------------------------------------------------------------------------\u001b[0m",
      "\u001b[0;31mKeyboardInterrupt\u001b[0m                         Traceback (most recent call last)",
      "\u001b[0;32m<ipython-input-17-d6a79dcd1a54>\u001b[0m in \u001b[0;36m<module>\u001b[0;34m()\u001b[0m\n\u001b[1;32m      2\u001b[0m \u001b[0mcount\u001b[0m \u001b[0;34m=\u001b[0m \u001b[0;36m0\u001b[0m\u001b[0;34m\u001b[0m\u001b[0m\n\u001b[1;32m      3\u001b[0m \u001b[0ml\u001b[0m \u001b[0;34m=\u001b[0m \u001b[0;34m[\u001b[0m\u001b[0;34m]\u001b[0m\u001b[0;34m\u001b[0m\u001b[0m\n\u001b[0;32m----> 4\u001b[0;31m \u001b[0;32mfor\u001b[0m \u001b[0mu\u001b[0m\u001b[0;34m,\u001b[0m \u001b[0mv\u001b[0m\u001b[0;34m,\u001b[0m \u001b[0mp\u001b[0m \u001b[0;32min\u001b[0m \u001b[0mpreds\u001b[0m\u001b[0;34m:\u001b[0m\u001b[0;34m\u001b[0m\u001b[0m\n\u001b[0m\u001b[1;32m      5\u001b[0m     \u001b[0;32mif\u001b[0m \u001b[0mp\u001b[0m \u001b[0;34m>\u001b[0m \u001b[0;36m0\u001b[0m\u001b[0;34m:\u001b[0m\u001b[0;34m\u001b[0m\u001b[0m\n\u001b[1;32m      6\u001b[0m         \u001b[0ml\u001b[0m\u001b[0;34m.\u001b[0m\u001b[0mappend\u001b[0m\u001b[0;34m(\u001b[0m\u001b[0;34m(\u001b[0m\u001b[0mu\u001b[0m\u001b[0;34m,\u001b[0m \u001b[0mv\u001b[0m\u001b[0;34m,\u001b[0m \u001b[0mp\u001b[0m\u001b[0;34m)\u001b[0m\u001b[0;34m)\u001b[0m\u001b[0;34m\u001b[0m\u001b[0m\n",
      "\u001b[0;32m/anaconda3/lib/python3.6/site-packages/networkx/algorithms/link_prediction.py\u001b[0m in \u001b[0;36m<genexpr>\u001b[0;34m(.0)\u001b[0m\n\u001b[1;32m     36\u001b[0m     \u001b[0;32mif\u001b[0m \u001b[0mebunch\u001b[0m \u001b[0;32mis\u001b[0m \u001b[0;32mNone\u001b[0m\u001b[0;34m:\u001b[0m\u001b[0;34m\u001b[0m\u001b[0m\n\u001b[1;32m     37\u001b[0m         \u001b[0mebunch\u001b[0m \u001b[0;34m=\u001b[0m \u001b[0mnx\u001b[0m\u001b[0;34m.\u001b[0m\u001b[0mnon_edges\u001b[0m\u001b[0;34m(\u001b[0m\u001b[0mG\u001b[0m\u001b[0;34m)\u001b[0m\u001b[0;34m\u001b[0m\u001b[0m\n\u001b[0;32m---> 38\u001b[0;31m     \u001b[0;32mreturn\u001b[0m \u001b[0;34m(\u001b[0m\u001b[0;34m(\u001b[0m\u001b[0mu\u001b[0m\u001b[0;34m,\u001b[0m \u001b[0mv\u001b[0m\u001b[0;34m,\u001b[0m \u001b[0mfunc\u001b[0m\u001b[0;34m(\u001b[0m\u001b[0mu\u001b[0m\u001b[0;34m,\u001b[0m \u001b[0mv\u001b[0m\u001b[0;34m)\u001b[0m\u001b[0;34m)\u001b[0m \u001b[0;32mfor\u001b[0m \u001b[0mu\u001b[0m\u001b[0;34m,\u001b[0m \u001b[0mv\u001b[0m \u001b[0;32min\u001b[0m \u001b[0mebunch\u001b[0m\u001b[0;34m)\u001b[0m\u001b[0;34m\u001b[0m\u001b[0m\n\u001b[0m\u001b[1;32m     39\u001b[0m \u001b[0;34m\u001b[0m\u001b[0m\n\u001b[1;32m     40\u001b[0m \u001b[0;34m\u001b[0m\u001b[0m\n",
      "\u001b[0;32m/anaconda3/lib/python3.6/site-packages/networkx/algorithms/link_prediction.py\u001b[0m in \u001b[0;36mpredict\u001b[0;34m(u, v)\u001b[0m\n\u001b[1;32m    142\u001b[0m     \"\"\"\n\u001b[1;32m    143\u001b[0m     \u001b[0;32mdef\u001b[0m \u001b[0mpredict\u001b[0m\u001b[0;34m(\u001b[0m\u001b[0mu\u001b[0m\u001b[0;34m,\u001b[0m \u001b[0mv\u001b[0m\u001b[0;34m)\u001b[0m\u001b[0;34m:\u001b[0m\u001b[0;34m\u001b[0m\u001b[0m\n\u001b[0;32m--> 144\u001b[0;31m         \u001b[0munion_size\u001b[0m \u001b[0;34m=\u001b[0m \u001b[0mlen\u001b[0m\u001b[0;34m(\u001b[0m\u001b[0mset\u001b[0m\u001b[0;34m(\u001b[0m\u001b[0mG\u001b[0m\u001b[0;34m[\u001b[0m\u001b[0mu\u001b[0m\u001b[0;34m]\u001b[0m\u001b[0;34m)\u001b[0m \u001b[0;34m|\u001b[0m \u001b[0mset\u001b[0m\u001b[0;34m(\u001b[0m\u001b[0mG\u001b[0m\u001b[0;34m[\u001b[0m\u001b[0mv\u001b[0m\u001b[0;34m]\u001b[0m\u001b[0;34m)\u001b[0m\u001b[0;34m)\u001b[0m\u001b[0;34m\u001b[0m\u001b[0m\n\u001b[0m\u001b[1;32m    145\u001b[0m         \u001b[0;32mif\u001b[0m \u001b[0munion_size\u001b[0m \u001b[0;34m==\u001b[0m \u001b[0;36m0\u001b[0m\u001b[0;34m:\u001b[0m\u001b[0;34m\u001b[0m\u001b[0m\n\u001b[1;32m    146\u001b[0m             \u001b[0;32mreturn\u001b[0m \u001b[0;36m0\u001b[0m\u001b[0;34m\u001b[0m\u001b[0m\n",
      "\u001b[0;31mKeyboardInterrupt\u001b[0m: "
     ]
    }
   ],
   "source": [
    "preds = nx.jaccard_coefficient(email_train_g)\n",
    "count = 0\n",
    "l = []\n",
    "for u, v, p in preds:\n",
    "    if p > 0:\n",
    "        l.append((u, v, p))\n",
    "#     print('(%s, %s) -> %.8f' % (u, v, p))"
   ]
  },
  {
   "cell_type": "code",
   "execution_count": 57,
   "metadata": {},
   "outputs": [],
   "source": [
    "G = nx.complete_graph(5)\n",
    "preds = nx.jaccard_coefficient(G)\n",
    "for u, v, p in preds:\n",
    "    print('(%d, %d) -> %.8f' % (u, v, p))"
   ]
  },
  {
   "cell_type": "code",
   "execution_count": null,
   "metadata": {},
   "outputs": [],
   "source": []
  }
 ],
 "metadata": {
  "kernelspec": {
   "display_name": "Python 3",
   "language": "python",
   "name": "python3"
  },
  "language_info": {
   "codemirror_mode": {
    "name": "ipython",
    "version": 3
   },
   "file_extension": ".py",
   "mimetype": "text/x-python",
   "name": "python",
   "nbconvert_exporter": "python",
   "pygments_lexer": "ipython3",
   "version": "3.7.0"
  }
 },
 "nbformat": 4,
 "nbformat_minor": 2
}
